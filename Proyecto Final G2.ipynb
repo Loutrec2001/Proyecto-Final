{
 "cells": [
  {
   "cell_type": "code",
   "execution_count": 0,
   "metadata": {
    "application/vnd.databricks.v1+cell": {
     "cellMetadata": {
      "byteLimit": 2048000,
      "rowLimit": 10000
     },
     "inputWidgets": {},
     "nuid": "3cd0cd74-d8cf-4e22-9d22-e18dc92f913a",
     "showTitle": false,
     "title": ""
    }
   },
   "outputs": [
    {
     "output_type": "stream",
     "name": "stdout",
     "output_type": "stream",
     "text": [
      "Python interpreter will be restarted.\nRequirement already satisfied: azure-storage in /local_disk0/.ephemeral_nfs/envs/pythonEnv-78b16a39-745a-4aa0-8587-a490e3e77e48/lib/python3.9/site-packages (0.36.0)\nRequirement already satisfied: cryptography in /databricks/python3/lib/python3.9/site-packages (from azure-storage) (3.4.8)\nRequirement already satisfied: python-dateutil in /databricks/python3/lib/python3.9/site-packages (from azure-storage) (2.8.2)\nRequirement already satisfied: azure-nspkg>=2.0.0 in /local_disk0/.ephemeral_nfs/envs/pythonEnv-78b16a39-745a-4aa0-8587-a490e3e77e48/lib/python3.9/site-packages (from azure-storage) (3.0.2)\nRequirement already satisfied: azure-common>=1.1.5 in /local_disk0/.ephemeral_nfs/envs/pythonEnv-78b16a39-745a-4aa0-8587-a490e3e77e48/lib/python3.9/site-packages (from azure-storage) (1.1.28)\nRequirement already satisfied: requests in /databricks/python3/lib/python3.9/site-packages (from azure-storage) (2.27.1)\nRequirement already satisfied: cffi>=1.12 in /databricks/python3/lib/python3.9/site-packages (from cryptography->azure-storage) (1.15.0)\nRequirement already satisfied: pycparser in /databricks/python3/lib/python3.9/site-packages (from cffi>=1.12->cryptography->azure-storage) (2.21)\nRequirement already satisfied: six>=1.5 in /databricks/python3/lib/python3.9/site-packages (from python-dateutil->azure-storage) (1.16.0)\nRequirement already satisfied: idna<4,>=2.5 in /databricks/python3/lib/python3.9/site-packages (from requests->azure-storage) (3.3)\nRequirement already satisfied: charset-normalizer~=2.0.0 in /databricks/python3/lib/python3.9/site-packages (from requests->azure-storage) (2.0.4)\nRequirement already satisfied: urllib3<1.27,>=1.21.1 in /databricks/python3/lib/python3.9/site-packages (from requests->azure-storage) (1.26.9)\nRequirement already satisfied: certifi>=2017.4.17 in /databricks/python3/lib/python3.9/site-packages (from requests->azure-storage) (2021.10.8)\nPython interpreter will be restarted.\nPython interpreter will be restarted.\nCollecting azure-storage-blob\n  Downloading azure_storage_blob-12.16.0-py3-none-any.whl (387 kB)\nCollecting isodate>=0.6.1\n  Downloading isodate-0.6.1-py2.py3-none-any.whl (41 kB)\nRequirement already satisfied: cryptography>=2.1.4 in /databricks/python3/lib/python3.9/site-packages (from azure-storage-blob) (3.4.8)\nCollecting azure-core<2.0.0,>=1.26.0\n  Downloading azure_core-1.28.0-py3-none-any.whl (185 kB)\nRequirement already satisfied: typing-extensions>=4.0.1 in /databricks/python3/lib/python3.9/site-packages (from azure-storage-blob) (4.1.1)\nCollecting typing-extensions>=4.0.1\n  Downloading typing_extensions-4.7.1-py3-none-any.whl (33 kB)\nRequirement already satisfied: six>=1.11.0 in /databricks/python3/lib/python3.9/site-packages (from azure-core<2.0.0,>=1.26.0->azure-storage-blob) (1.16.0)\nRequirement already satisfied: requests>=2.18.4 in /databricks/python3/lib/python3.9/site-packages (from azure-core<2.0.0,>=1.26.0->azure-storage-blob) (2.27.1)\nRequirement already satisfied: cffi>=1.12 in /databricks/python3/lib/python3.9/site-packages (from cryptography>=2.1.4->azure-storage-blob) (1.15.0)\nRequirement already satisfied: pycparser in /databricks/python3/lib/python3.9/site-packages (from cffi>=1.12->cryptography>=2.1.4->azure-storage-blob) (2.21)\nRequirement already satisfied: idna<4,>=2.5 in /databricks/python3/lib/python3.9/site-packages (from requests>=2.18.4->azure-core<2.0.0,>=1.26.0->azure-storage-blob) (3.3)\nRequirement already satisfied: charset-normalizer~=2.0.0 in /databricks/python3/lib/python3.9/site-packages (from requests>=2.18.4->azure-core<2.0.0,>=1.26.0->azure-storage-blob) (2.0.4)\nRequirement already satisfied: urllib3<1.27,>=1.21.1 in /databricks/python3/lib/python3.9/site-packages (from requests>=2.18.4->azure-core<2.0.0,>=1.26.0->azure-storage-blob) (1.26.9)\nRequirement already satisfied: certifi>=2017.4.17 in /databricks/python3/lib/python3.9/site-packages (from requests>=2.18.4->azure-core<2.0.0,>=1.26.0->azure-storage-blob) (2021.10.8)\nInstalling collected packages: typing-extensions, isodate, azure-core, azure-storage-blob\n  Attempting uninstall: typing-extensions\n    Found existing installation: typing-extensions 4.1.1\n    Not uninstalling typing-extensions at /databricks/python3/lib/python3.9/site-packages, outside environment /local_disk0/.ephemeral_nfs/envs/pythonEnv-78b16a39-745a-4aa0-8587-a490e3e77e48\n    Can't uninstall 'typing-extensions'. No files were found to uninstall.\nSuccessfully installed azure-core-1.28.0 azure-storage-blob-12.16.0 isodate-0.6.1 typing-extensions-4.7.1\nPython interpreter will be restarted.\n"
     ]
    }
   ],
   "source": [
    "%pip install azure-storage\n",
    "%pip install azure-storage-blob "
   ]
  },
  {
   "cell_type": "code",
   "execution_count": 0,
   "metadata": {
    "application/vnd.databricks.v1+cell": {
     "cellMetadata": {
      "byteLimit": 2048000,
      "rowLimit": 10000
     },
     "inputWidgets": {},
     "nuid": "dd49c7b8-5684-4601-98e9-52495ced34ed",
     "showTitle": false,
     "title": ""
    }
   },
   "outputs": [],
   "source": [
    "from azure.storage.blob import BlobServiceClient\n",
    "import pandas as pd\n",
    "\n",
    "# Configurar la conexión con Azure Blob Storage\n",
    "blob_service_client = BlobServiceClient.from_connection_string(\"DefaultEndpointsProtocol=https;AccountName=proyectofinalg2storage;AccountKey=KpHc/tnXOJuZPIfqCWWBrPuIYw6nYJ1N4nklLzX+QQ4v+eRpJcdcUf9Y22O95m7BpfdGmafD60s0+AStOOu6GA==;EndpointSuffix=core.windows.net\")\n",
    "\n",
    "# Especificar el nombre del contenedor y del archivo CSV\n",
    "container_name = \"proyectofinalg2\"\n",
    "blob_name_1 = \"Peru.csv\"\n",
    "blob_name_2 = \"EEUU1.csv\"\n",
    "blob_name_3 = \"Japon.csv\"\n",
    "blob_name_4 = \"Mexico.csv\"\n",
    "\n",
    "# Obtener una referencia al blob\n",
    "# blob_client1 = blob_service_client.get_blob_client(container=container_name, blob=blob_name_1)\n",
    "blob_client2 = blob_service_client.get_blob_client(container=container_name, blob=blob_name_2)\n",
    "# blob_client3 = blob_service_client.get_blob_client(container=container_name, blob=blob_name_3)\n",
    "# blob_client4 = blob_service_client.get_blob_client(container=container_name, blob=blob_name_4)\n",
    "\n",
    "# Obtener la URL del blob\n",
    "# url1 = blob_client1.url\n",
    "url2 = blob_client2.url\n",
    "# url3 = blob_client3.url\n",
    "# url4 = blob_client4.url\n",
    "\n",
    "# Cargar el archivo CSV directamente desde el blob\n",
    "# df_P = pd.read_csv(url1)\n",
    "df_E = pd.read_csv(url2)\n",
    "# df_J = pd.read_csv(url3)\n",
    "# df_M = pd.read_csv(url4)\n"
   ]
  },
  {
   "cell_type": "code",
   "execution_count": 0,
   "metadata": {
    "application/vnd.databricks.v1+cell": {
     "cellMetadata": {
      "byteLimit": 2048000,
      "rowLimit": 10000
     },
     "inputWidgets": {},
     "nuid": "4f359974-dfa3-425a-8eb9-ce5d7d78f55e",
     "showTitle": false,
     "title": ""
    }
   },
   "outputs": [],
   "source": [
    "# Importar funciones y librerias\n",
    "from pyspark.sql.functions import *\n",
    "import seaborn as sns\n",
    "import pandas as pd\n",
    "import matplotlib as plt\n",
    "import warnings\n",
    "warnings.filterwarnings(\"ignore\")"
   ]
  },
  {
   "cell_type": "markdown",
   "metadata": {
    "application/vnd.databricks.v1+cell": {
     "cellMetadata": {
      "byteLimit": 2048000,
      "rowLimit": 10000
     },
     "inputWidgets": {},
     "nuid": "63d6510d-35b7-496f-93f3-56f5c52bacd2",
     "showTitle": false,
     "title": ""
    }
   },
   "source": [
    "## Tranformaciones base Perú"
   ]
  },
  {
   "cell_type": "code",
   "execution_count": 0,
   "metadata": {
    "application/vnd.databricks.v1+cell": {
     "cellMetadata": {
      "byteLimit": 2048000,
      "rowLimit": 10000
     },
     "inputWidgets": {},
     "nuid": "23ded755-cc48-479c-8011-a9421e48f8a4",
     "showTitle": false,
     "title": ""
    }
   },
   "outputs": [
    {
     "output_type": "display_data",
     "data": {
      "text/html": [
       "<div>\n",
       "<style scoped>\n",
       "    .dataframe tbody tr th:only-of-type {\n",
       "        vertical-align: middle;\n",
       "    }\n",
       "\n",
       "    .dataframe tbody tr th {\n",
       "        vertical-align: top;\n",
       "    }\n",
       "\n",
       "    .dataframe thead th {\n",
       "        text-align: right;\n",
       "    }\n",
       "</style>\n",
       "<table border=\"1\" class=\"dataframe\">\n",
       "  <thead>\n",
       "    <tr style=\"text-align: right;\">\n",
       "      <th></th>\n",
       "      <th>fecha UTC</th>\n",
       "      <th>hora UTC</th>\n",
       "      <th>latitud (º)</th>\n",
       "      <th>longitud (º)</th>\n",
       "      <th>profundidad (km)</th>\n",
       "      <th>magnitud (M)</th>\n",
       "    </tr>\n",
       "  </thead>\n",
       "  <tbody>\n",
       "    <tr>\n",
       "      <th>0</th>\n",
       "      <td>02/01/2008</td>\n",
       "      <td>00:33:21.00</td>\n",
       "      <td>-13.1909</td>\n",
       "      <td>-76.1988</td>\n",
       "      <td>84</td>\n",
       "      <td>4.7</td>\n",
       "    </tr>\n",
       "    <tr>\n",
       "      <th>1</th>\n",
       "      <td>02/01/2008</td>\n",
       "      <td>23:26:58.00</td>\n",
       "      <td>-15.9953</td>\n",
       "      <td>-73.1818</td>\n",
       "      <td>105</td>\n",
       "      <td>5.2</td>\n",
       "    </tr>\n",
       "    <tr>\n",
       "      <th>2</th>\n",
       "      <td>03/01/2008</td>\n",
       "      <td>04:39:18.00</td>\n",
       "      <td>-7.4836</td>\n",
       "      <td>-76.1138</td>\n",
       "      <td>57</td>\n",
       "      <td>4.9</td>\n",
       "    </tr>\n",
       "    <tr>\n",
       "      <th>3</th>\n",
       "      <td>04/01/2008</td>\n",
       "      <td>13:55:35.00</td>\n",
       "      <td>-18.7126</td>\n",
       "      <td>-70.2318</td>\n",
       "      <td>77</td>\n",
       "      <td>4.9</td>\n",
       "    </tr>\n",
       "    <tr>\n",
       "      <th>4</th>\n",
       "      <td>06/01/2008</td>\n",
       "      <td>16:02:30.00</td>\n",
       "      <td>-13.6256</td>\n",
       "      <td>-77.0209</td>\n",
       "      <td>21</td>\n",
       "      <td>4.6</td>\n",
       "    </tr>\n",
       "    <tr>\n",
       "      <th>...</th>\n",
       "      <td>...</td>\n",
       "      <td>...</td>\n",
       "      <td>...</td>\n",
       "      <td>...</td>\n",
       "      <td>...</td>\n",
       "      <td>...</td>\n",
       "    </tr>\n",
       "    <tr>\n",
       "      <th>10884</th>\n",
       "      <td>27/12/2022</td>\n",
       "      <td>14:38:09</td>\n",
       "      <td>-11.5400</td>\n",
       "      <td>-76.9200</td>\n",
       "      <td>89</td>\n",
       "      <td>4.1</td>\n",
       "    </tr>\n",
       "    <tr>\n",
       "      <th>10885</th>\n",
       "      <td>23/2/2023</td>\n",
       "      <td>06:18:04</td>\n",
       "      <td>-8.6900</td>\n",
       "      <td>-77.8100</td>\n",
       "      <td>15</td>\n",
       "      <td>4.3</td>\n",
       "    </tr>\n",
       "    <tr>\n",
       "      <th>10886</th>\n",
       "      <td>3/3/2023</td>\n",
       "      <td>19:39:13</td>\n",
       "      <td>-6.8900</td>\n",
       "      <td>-80.2300</td>\n",
       "      <td>43</td>\n",
       "      <td>4.3</td>\n",
       "    </tr>\n",
       "    <tr>\n",
       "      <th>10887</th>\n",
       "      <td>27/3/2023</td>\n",
       "      <td>20:13:13</td>\n",
       "      <td>-10.5300</td>\n",
       "      <td>-74.7000</td>\n",
       "      <td>134</td>\n",
       "      <td>4.6</td>\n",
       "    </tr>\n",
       "    <tr>\n",
       "      <th>10888</th>\n",
       "      <td>29/3/2023</td>\n",
       "      <td>06:38:57</td>\n",
       "      <td>-14.0600</td>\n",
       "      <td>-74.5900</td>\n",
       "      <td>116</td>\n",
       "      <td>4.8</td>\n",
       "    </tr>\n",
       "  </tbody>\n",
       "</table>\n",
       "<p>10889 rows × 6 columns</p>\n",
       "</div>"
      ]
     },
     "metadata": {
      "application/vnd.databricks.v1+output": {
       "addedWidgets": {},
       "arguments": {},
       "data": "<div>\n<style scoped>\n    .dataframe tbody tr th:only-of-type {\n        vertical-align: middle;\n    }\n\n    .dataframe tbody tr th {\n        vertical-align: top;\n    }\n\n    .dataframe thead th {\n        text-align: right;\n    }\n</style>\n<table border=\"1\" class=\"dataframe\">\n  <thead>\n    <tr style=\"text-align: right;\">\n      <th></th>\n      <th>fecha UTC</th>\n      <th>hora UTC</th>\n      <th>latitud (º)</th>\n      <th>longitud (º)</th>\n      <th>profundidad (km)</th>\n      <th>magnitud (M)</th>\n    </tr>\n  </thead>\n  <tbody>\n    <tr>\n      <th>0</th>\n      <td>02/01/2008</td>\n      <td>00:33:21.00</td>\n      <td>-13.1909</td>\n      <td>-76.1988</td>\n      <td>84</td>\n      <td>4.7</td>\n    </tr>\n    <tr>\n      <th>1</th>\n      <td>02/01/2008</td>\n      <td>23:26:58.00</td>\n      <td>-15.9953</td>\n      <td>-73.1818</td>\n      <td>105</td>\n      <td>5.2</td>\n    </tr>\n    <tr>\n      <th>2</th>\n      <td>03/01/2008</td>\n      <td>04:39:18.00</td>\n      <td>-7.4836</td>\n      <td>-76.1138</td>\n      <td>57</td>\n      <td>4.9</td>\n    </tr>\n    <tr>\n      <th>3</th>\n      <td>04/01/2008</td>\n      <td>13:55:35.00</td>\n      <td>-18.7126</td>\n      <td>-70.2318</td>\n      <td>77</td>\n      <td>4.9</td>\n    </tr>\n    <tr>\n      <th>4</th>\n      <td>06/01/2008</td>\n      <td>16:02:30.00</td>\n      <td>-13.6256</td>\n      <td>-77.0209</td>\n      <td>21</td>\n      <td>4.6</td>\n    </tr>\n    <tr>\n      <th>...</th>\n      <td>...</td>\n      <td>...</td>\n      <td>...</td>\n      <td>...</td>\n      <td>...</td>\n      <td>...</td>\n    </tr>\n    <tr>\n      <th>10884</th>\n      <td>27/12/2022</td>\n      <td>14:38:09</td>\n      <td>-11.5400</td>\n      <td>-76.9200</td>\n      <td>89</td>\n      <td>4.1</td>\n    </tr>\n    <tr>\n      <th>10885</th>\n      <td>23/2/2023</td>\n      <td>06:18:04</td>\n      <td>-8.6900</td>\n      <td>-77.8100</td>\n      <td>15</td>\n      <td>4.3</td>\n    </tr>\n    <tr>\n      <th>10886</th>\n      <td>3/3/2023</td>\n      <td>19:39:13</td>\n      <td>-6.8900</td>\n      <td>-80.2300</td>\n      <td>43</td>\n      <td>4.3</td>\n    </tr>\n    <tr>\n      <th>10887</th>\n      <td>27/3/2023</td>\n      <td>20:13:13</td>\n      <td>-10.5300</td>\n      <td>-74.7000</td>\n      <td>134</td>\n      <td>4.6</td>\n    </tr>\n    <tr>\n      <th>10888</th>\n      <td>29/3/2023</td>\n      <td>06:38:57</td>\n      <td>-14.0600</td>\n      <td>-74.5900</td>\n      <td>116</td>\n      <td>4.8</td>\n    </tr>\n  </tbody>\n</table>\n<p>10889 rows × 6 columns</p>\n</div>",
       "datasetInfos": [],
       "metadata": {},
       "removedWidgets": [],
       "textData": null,
       "type": "htmlSandbox"
      }
     },
     "output_type": "display_data"
    }
   ],
   "source": [
    "df_P"
   ]
  },
  {
   "cell_type": "code",
   "execution_count": 0,
   "metadata": {
    "application/vnd.databricks.v1+cell": {
     "cellMetadata": {
      "byteLimit": 2048000,
      "rowLimit": 10000
     },
     "inputWidgets": {},
     "nuid": "17e11938-5515-4025-a5d3-7ae7fac94047",
     "showTitle": false,
     "title": ""
    }
   },
   "outputs": [],
   "source": [
    "# Cambiar tipo de Dato\n",
    "df_P['magnitud (M)'] = pd.to_numeric(df_P['magnitud (M)'])\n",
    "df_P[\"profundidad (km)\"] = pd.to_numeric(df_P[\"profundidad (km)\"])\n",
    "df_P['fecha UTC'] = pd.to_datetime(df_P['fecha UTC'], errors='ignore')"
   ]
  },
  {
   "cell_type": "code",
   "execution_count": 0,
   "metadata": {
    "application/vnd.databricks.v1+cell": {
     "cellMetadata": {
      "byteLimit": 2048000,
      "rowLimit": 10000
     },
     "inputWidgets": {},
     "nuid": "3e7b332a-3351-4489-b18a-2ebae7713cd9",
     "showTitle": false,
     "title": ""
    }
   },
   "outputs": [],
   "source": [
    "df_P.rename(columns = {'fecha UTC': 'Fecha'}, inplace=True)\n",
    "df_P.rename(columns = {'hora UTC': 'Hora'}, inplace=True)\n",
    "df_P.rename(columns = {'magnitud (M)': 'Magnitud'}, inplace=True)\n",
    "df_P.rename(columns = {'profundidad (km)': 'Profundidad'}, inplace=True)\n",
    "df_P.rename(columns = {'latitud (º)': 'Latitud'}, inplace=True)\n",
    "df_P.rename(columns = {'longitud (º)': 'Longitud'}, inplace=True)"
   ]
  },
  {
   "cell_type": "code",
   "execution_count": 0,
   "metadata": {
    "application/vnd.databricks.v1+cell": {
     "cellMetadata": {
      "byteLimit": 2048000,
      "rowLimit": 10000
     },
     "inputWidgets": {},
     "nuid": "174c6772-7e5a-4ea1-bbdc-c862bc7516b3",
     "showTitle": false,
     "title": ""
    }
   },
   "outputs": [],
   "source": [
    "df_P['Longitud'] = df_P['Longitud'].astype(str)\n",
    "df_P['Latitud'] = df_P['Latitud'].astype(str)\n",
    "df_P['Coordenadas'] = df_P['Latitud'] + ', ' + df_P['Longitud']\n",
    "df_P['País'] = 'Perú'"
   ]
  },
  {
   "cell_type": "code",
   "execution_count": 0,
   "metadata": {
    "application/vnd.databricks.v1+cell": {
     "cellMetadata": {
      "byteLimit": 2048000,
      "rowLimit": 10000
     },
     "inputWidgets": {},
     "nuid": "2df3953d-c925-4580-886e-86cd507d3a9f",
     "showTitle": false,
     "title": ""
    }
   },
   "outputs": [],
   "source": [
    "!pip install reverse_geocoder\n",
    "import reverse_geocoder as rg"
   ]
  },
  {
   "cell_type": "code",
   "execution_count": 0,
   "metadata": {
    "application/vnd.databricks.v1+cell": {
     "cellMetadata": {
      "byteLimit": 2048000,
      "rowLimit": 10000
     },
     "inputWidgets": {},
     "nuid": "6c74f3c0-092b-4343-b035-2f3572f7d857",
     "showTitle": false,
     "title": ""
    }
   },
   "outputs": [
    {
     "output_type": "display_data",
     "data": {
      "text/html": [
       "<div>\n",
       "<style scoped>\n",
       "    .dataframe tbody tr th:only-of-type {\n",
       "        vertical-align: middle;\n",
       "    }\n",
       "\n",
       "    .dataframe tbody tr th {\n",
       "        vertical-align: top;\n",
       "    }\n",
       "\n",
       "    .dataframe thead th {\n",
       "        text-align: right;\n",
       "    }\n",
       "</style>\n",
       "<table border=\"1\" class=\"dataframe\">\n",
       "  <thead>\n",
       "    <tr style=\"text-align: right;\">\n",
       "      <th></th>\n",
       "      <th>Fecha</th>\n",
       "      <th>Hora</th>\n",
       "      <th>Latitud</th>\n",
       "      <th>Longitud</th>\n",
       "      <th>Profundidad</th>\n",
       "      <th>Magnitud</th>\n",
       "      <th>Coordenadas</th>\n",
       "      <th>País</th>\n",
       "    </tr>\n",
       "  </thead>\n",
       "  <tbody>\n",
       "    <tr>\n",
       "      <th>0</th>\n",
       "      <td>2008-02-01</td>\n",
       "      <td>00:33:21.00</td>\n",
       "      <td>-13.1909</td>\n",
       "      <td>-76.1988</td>\n",
       "      <td>84</td>\n",
       "      <td>4.7</td>\n",
       "      <td>-13.1909, -76.1988</td>\n",
       "      <td>Perú</td>\n",
       "    </tr>\n",
       "    <tr>\n",
       "      <th>1</th>\n",
       "      <td>2008-02-01</td>\n",
       "      <td>23:26:58.00</td>\n",
       "      <td>-15.9953</td>\n",
       "      <td>-73.1818</td>\n",
       "      <td>105</td>\n",
       "      <td>5.2</td>\n",
       "      <td>-15.9953, -73.1818</td>\n",
       "      <td>Perú</td>\n",
       "    </tr>\n",
       "    <tr>\n",
       "      <th>2</th>\n",
       "      <td>2008-03-01</td>\n",
       "      <td>04:39:18.00</td>\n",
       "      <td>-7.4836</td>\n",
       "      <td>-76.1138</td>\n",
       "      <td>57</td>\n",
       "      <td>4.9</td>\n",
       "      <td>-7.4836, -76.1138</td>\n",
       "      <td>Perú</td>\n",
       "    </tr>\n",
       "    <tr>\n",
       "      <th>3</th>\n",
       "      <td>2008-04-01</td>\n",
       "      <td>13:55:35.00</td>\n",
       "      <td>-18.7126</td>\n",
       "      <td>-70.2318</td>\n",
       "      <td>77</td>\n",
       "      <td>4.9</td>\n",
       "      <td>-18.7126, -70.2318</td>\n",
       "      <td>Perú</td>\n",
       "    </tr>\n",
       "    <tr>\n",
       "      <th>4</th>\n",
       "      <td>2008-06-01</td>\n",
       "      <td>16:02:30.00</td>\n",
       "      <td>-13.6256</td>\n",
       "      <td>-77.0209</td>\n",
       "      <td>21</td>\n",
       "      <td>4.6</td>\n",
       "      <td>-13.6256, -77.0209</td>\n",
       "      <td>Perú</td>\n",
       "    </tr>\n",
       "    <tr>\n",
       "      <th>...</th>\n",
       "      <td>...</td>\n",
       "      <td>...</td>\n",
       "      <td>...</td>\n",
       "      <td>...</td>\n",
       "      <td>...</td>\n",
       "      <td>...</td>\n",
       "      <td>...</td>\n",
       "      <td>...</td>\n",
       "    </tr>\n",
       "    <tr>\n",
       "      <th>10884</th>\n",
       "      <td>2022-12-27</td>\n",
       "      <td>14:38:09</td>\n",
       "      <td>-11.54</td>\n",
       "      <td>-76.92</td>\n",
       "      <td>89</td>\n",
       "      <td>4.1</td>\n",
       "      <td>-11.54, -76.92</td>\n",
       "      <td>Perú</td>\n",
       "    </tr>\n",
       "    <tr>\n",
       "      <th>10885</th>\n",
       "      <td>2023-02-23</td>\n",
       "      <td>06:18:04</td>\n",
       "      <td>-8.69</td>\n",
       "      <td>-77.81</td>\n",
       "      <td>15</td>\n",
       "      <td>4.3</td>\n",
       "      <td>-8.69, -77.81</td>\n",
       "      <td>Perú</td>\n",
       "    </tr>\n",
       "    <tr>\n",
       "      <th>10886</th>\n",
       "      <td>2023-03-03</td>\n",
       "      <td>19:39:13</td>\n",
       "      <td>-6.89</td>\n",
       "      <td>-80.23</td>\n",
       "      <td>43</td>\n",
       "      <td>4.3</td>\n",
       "      <td>-6.89, -80.23</td>\n",
       "      <td>Perú</td>\n",
       "    </tr>\n",
       "    <tr>\n",
       "      <th>10887</th>\n",
       "      <td>2023-03-27</td>\n",
       "      <td>20:13:13</td>\n",
       "      <td>-10.53</td>\n",
       "      <td>-74.7</td>\n",
       "      <td>134</td>\n",
       "      <td>4.6</td>\n",
       "      <td>-10.53, -74.7</td>\n",
       "      <td>Perú</td>\n",
       "    </tr>\n",
       "    <tr>\n",
       "      <th>10888</th>\n",
       "      <td>2023-03-29</td>\n",
       "      <td>06:38:57</td>\n",
       "      <td>-14.06</td>\n",
       "      <td>-74.59</td>\n",
       "      <td>116</td>\n",
       "      <td>4.8</td>\n",
       "      <td>-14.06, -74.59</td>\n",
       "      <td>Perú</td>\n",
       "    </tr>\n",
       "  </tbody>\n",
       "</table>\n",
       "<p>10889 rows × 8 columns</p>\n",
       "</div>"
      ]
     },
     "metadata": {
      "application/vnd.databricks.v1+output": {
       "addedWidgets": {},
       "arguments": {},
       "data": "<div>\n<style scoped>\n    .dataframe tbody tr th:only-of-type {\n        vertical-align: middle;\n    }\n\n    .dataframe tbody tr th {\n        vertical-align: top;\n    }\n\n    .dataframe thead th {\n        text-align: right;\n    }\n</style>\n<table border=\"1\" class=\"dataframe\">\n  <thead>\n    <tr style=\"text-align: right;\">\n      <th></th>\n      <th>Fecha</th>\n      <th>Hora</th>\n      <th>Latitud</th>\n      <th>Longitud</th>\n      <th>Profundidad</th>\n      <th>Magnitud</th>\n      <th>Coordenadas</th>\n      <th>País</th>\n    </tr>\n  </thead>\n  <tbody>\n    <tr>\n      <th>0</th>\n      <td>2008-02-01</td>\n      <td>00:33:21.00</td>\n      <td>-13.1909</td>\n      <td>-76.1988</td>\n      <td>84</td>\n      <td>4.7</td>\n      <td>-13.1909, -76.1988</td>\n      <td>Perú</td>\n    </tr>\n    <tr>\n      <th>1</th>\n      <td>2008-02-01</td>\n      <td>23:26:58.00</td>\n      <td>-15.9953</td>\n      <td>-73.1818</td>\n      <td>105</td>\n      <td>5.2</td>\n      <td>-15.9953, -73.1818</td>\n      <td>Perú</td>\n    </tr>\n    <tr>\n      <th>2</th>\n      <td>2008-03-01</td>\n      <td>04:39:18.00</td>\n      <td>-7.4836</td>\n      <td>-76.1138</td>\n      <td>57</td>\n      <td>4.9</td>\n      <td>-7.4836, -76.1138</td>\n      <td>Perú</td>\n    </tr>\n    <tr>\n      <th>3</th>\n      <td>2008-04-01</td>\n      <td>13:55:35.00</td>\n      <td>-18.7126</td>\n      <td>-70.2318</td>\n      <td>77</td>\n      <td>4.9</td>\n      <td>-18.7126, -70.2318</td>\n      <td>Perú</td>\n    </tr>\n    <tr>\n      <th>4</th>\n      <td>2008-06-01</td>\n      <td>16:02:30.00</td>\n      <td>-13.6256</td>\n      <td>-77.0209</td>\n      <td>21</td>\n      <td>4.6</td>\n      <td>-13.6256, -77.0209</td>\n      <td>Perú</td>\n    </tr>\n    <tr>\n      <th>...</th>\n      <td>...</td>\n      <td>...</td>\n      <td>...</td>\n      <td>...</td>\n      <td>...</td>\n      <td>...</td>\n      <td>...</td>\n      <td>...</td>\n    </tr>\n    <tr>\n      <th>10884</th>\n      <td>2022-12-27</td>\n      <td>14:38:09</td>\n      <td>-11.54</td>\n      <td>-76.92</td>\n      <td>89</td>\n      <td>4.1</td>\n      <td>-11.54, -76.92</td>\n      <td>Perú</td>\n    </tr>\n    <tr>\n      <th>10885</th>\n      <td>2023-02-23</td>\n      <td>06:18:04</td>\n      <td>-8.69</td>\n      <td>-77.81</td>\n      <td>15</td>\n      <td>4.3</td>\n      <td>-8.69, -77.81</td>\n      <td>Perú</td>\n    </tr>\n    <tr>\n      <th>10886</th>\n      <td>2023-03-03</td>\n      <td>19:39:13</td>\n      <td>-6.89</td>\n      <td>-80.23</td>\n      <td>43</td>\n      <td>4.3</td>\n      <td>-6.89, -80.23</td>\n      <td>Perú</td>\n    </tr>\n    <tr>\n      <th>10887</th>\n      <td>2023-03-27</td>\n      <td>20:13:13</td>\n      <td>-10.53</td>\n      <td>-74.7</td>\n      <td>134</td>\n      <td>4.6</td>\n      <td>-10.53, -74.7</td>\n      <td>Perú</td>\n    </tr>\n    <tr>\n      <th>10888</th>\n      <td>2023-03-29</td>\n      <td>06:38:57</td>\n      <td>-14.06</td>\n      <td>-74.59</td>\n      <td>116</td>\n      <td>4.8</td>\n      <td>-14.06, -74.59</td>\n      <td>Perú</td>\n    </tr>\n  </tbody>\n</table>\n<p>10889 rows × 8 columns</p>\n</div>",
       "datasetInfos": [],
       "metadata": {},
       "removedWidgets": [],
       "textData": null,
       "type": "htmlSandbox"
      }
     },
     "output_type": "display_data"
    }
   ],
   "source": [
    "df_P"
   ]
  },
  {
   "cell_type": "code",
   "execution_count": 0,
   "metadata": {
    "application/vnd.databricks.v1+cell": {
     "cellMetadata": {
      "byteLimit": 2048000,
      "rowLimit": 10000
     },
     "inputWidgets": {},
     "nuid": "f4a654e0-32a5-460f-b4e7-ff36cd7a6ce6",
     "showTitle": false,
     "title": ""
    }
   },
   "outputs": [],
   "source": [
    "# Función Dirección Departamento\n",
    "def get_location_D(row):\n",
    "   lat, lon = row.split(',')\n",
    "   Departamento = rg.search([(float(lat), float(lon))])\n",
    "   return Departamento[0]['admin1']"
   ]
  },
  {
   "cell_type": "code",
   "execution_count": 0,
   "metadata": {
    "application/vnd.databricks.v1+cell": {
     "cellMetadata": {
      "byteLimit": 2048000,
      "rowLimit": 10000
     },
     "inputWidgets": {},
     "nuid": "5814a1c1-848c-4efe-889b-32382e02b73e",
     "showTitle": false,
     "title": ""
    }
   },
   "outputs": [
    {
     "output_type": "stream",
     "name": "stdout",
     "output_type": "stream",
     "text": [
      "Loading formatted geocoded file...\n"
     ]
    }
   ],
   "source": [
    "df_P['Locación'] = df_P['Coordenadas'].apply(get_location_D)"
   ]
  },
  {
   "cell_type": "code",
   "execution_count": 0,
   "metadata": {
    "application/vnd.databricks.v1+cell": {
     "cellMetadata": {
      "byteLimit": 2048000,
      "rowLimit": 10000
     },
     "inputWidgets": {},
     "nuid": "4b81e30a-8b92-4cd5-b536-2a2fc4d496e0",
     "showTitle": false,
     "title": ""
    }
   },
   "outputs": [],
   "source": [
    "df_P = df_P.drop('Coordenadas', axis=1)"
   ]
  },
  {
   "cell_type": "code",
   "execution_count": 0,
   "metadata": {
    "application/vnd.databricks.v1+cell": {
     "cellMetadata": {
      "byteLimit": 2048000,
      "rowLimit": 10000
     },
     "inputWidgets": {},
     "nuid": "4474c976-c589-4a0f-8b1f-538a2eee6575",
     "showTitle": false,
     "title": ""
    }
   },
   "outputs": [],
   "source": [
    "rangos = [(2, 2.9), (3, 3.9), (4, 4.9), (5, 5.9), (6, 6.9), (7, 7.9), (8, 9.9), (10, 15)]\n",
    "etiquetas = ['Micro Magnitud', 'Menor Magnitud', 'Ligera Magnitud', 'Moderada Magnitud',\n",
    "              'Fuerte Magnitud', 'Mayor Magnitud', 'Gran Magnitud', 'Magnitud Épica']\n",
    "\n",
    "df_P['Clasificación Magnitud'] = pd.cut(df_P['Magnitud'], bins=[lim[0] for lim in rangos] + [rangos[-1][1]],\n",
    "                               labels=etiquetas, right=False)"
   ]
  },
  {
   "cell_type": "code",
   "execution_count": 0,
   "metadata": {
    "application/vnd.databricks.v1+cell": {
     "cellMetadata": {
      "byteLimit": 2048000,
      "rowLimit": 10000
     },
     "inputWidgets": {},
     "nuid": "3dcd3216-1040-4805-a439-013e7e9acf6a",
     "showTitle": false,
     "title": ""
    }
   },
   "outputs": [],
   "source": [
    "rangos = [(0, 70), (70, 300), (300, 1500)]\n",
    "etiquetas = ['Superficial', 'Media', 'Profundo']\n",
    "\n",
    "df_P['Clasificación Profundidad'] = pd.cut(df_P['Profundidad'], bins=[lim[0] for lim in rangos] + [rangos[-1][1]],\n",
    "                               labels=etiquetas, right=False)"
   ]
  },
  {
   "cell_type": "code",
   "execution_count": 0,
   "metadata": {
    "application/vnd.databricks.v1+cell": {
     "cellMetadata": {
      "byteLimit": 2048000,
      "rowLimit": 10000
     },
     "inputWidgets": {},
     "nuid": "09be2f67-01e6-49f6-b62d-d1257ffe8608",
     "showTitle": false,
     "title": ""
    }
   },
   "outputs": [],
   "source": [
    "df_P = df_P.reindex(columns=['Fecha','Hora','Latitud','Longitud','País','Locación','Profundidad',\n",
    "                             'Clasificación Profundidad','Magnitud','Clasificación Magnitud'])"
   ]
  },
  {
   "cell_type": "code",
   "execution_count": 0,
   "metadata": {
    "application/vnd.databricks.v1+cell": {
     "cellMetadata": {
      "byteLimit": 2048000,
      "rowLimit": 10000
     },
     "inputWidgets": {},
     "nuid": "8c4b1965-49bd-4099-9bb4-57afb6b33db9",
     "showTitle": false,
     "title": ""
    }
   },
   "outputs": [],
   "source": [
    "Base_Final_Peru = df_P"
   ]
  },
  {
   "cell_type": "code",
   "execution_count": 0,
   "metadata": {
    "application/vnd.databricks.v1+cell": {
     "cellMetadata": {
      "byteLimit": 2048000,
      "rowLimit": 10000
     },
     "inputWidgets": {},
     "nuid": "d6f126bb-10f6-44d6-b5d5-e74f15e5f4ad",
     "showTitle": false,
     "title": ""
    }
   },
   "outputs": [
    {
     "output_type": "display_data",
     "data": {
      "text/html": [
       "<div>\n",
       "<style scoped>\n",
       "    .dataframe tbody tr th:only-of-type {\n",
       "        vertical-align: middle;\n",
       "    }\n",
       "\n",
       "    .dataframe tbody tr th {\n",
       "        vertical-align: top;\n",
       "    }\n",
       "\n",
       "    .dataframe thead th {\n",
       "        text-align: right;\n",
       "    }\n",
       "</style>\n",
       "<table border=\"1\" class=\"dataframe\">\n",
       "  <thead>\n",
       "    <tr style=\"text-align: right;\">\n",
       "      <th></th>\n",
       "      <th>Fecha</th>\n",
       "      <th>Hora</th>\n",
       "      <th>Latitud</th>\n",
       "      <th>Longitud</th>\n",
       "      <th>País</th>\n",
       "      <th>Locación</th>\n",
       "      <th>Profundidad</th>\n",
       "      <th>Clasificación Profundidad</th>\n",
       "      <th>Magnitud</th>\n",
       "      <th>Clasificación Magnitud</th>\n",
       "    </tr>\n",
       "  </thead>\n",
       "  <tbody>\n",
       "    <tr>\n",
       "      <th>0</th>\n",
       "      <td>2008-02-01</td>\n",
       "      <td>00:33:21.00</td>\n",
       "      <td>-13.1909</td>\n",
       "      <td>-76.1988</td>\n",
       "      <td>Perú</td>\n",
       "      <td>Lima</td>\n",
       "      <td>84</td>\n",
       "      <td>Media</td>\n",
       "      <td>4.7</td>\n",
       "      <td>Ligera Magnitud</td>\n",
       "    </tr>\n",
       "    <tr>\n",
       "      <th>1</th>\n",
       "      <td>2008-02-01</td>\n",
       "      <td>23:26:58.00</td>\n",
       "      <td>-15.9953</td>\n",
       "      <td>-73.1818</td>\n",
       "      <td>Perú</td>\n",
       "      <td>Arequipa</td>\n",
       "      <td>105</td>\n",
       "      <td>Media</td>\n",
       "      <td>5.2</td>\n",
       "      <td>Moderada Magnitud</td>\n",
       "    </tr>\n",
       "    <tr>\n",
       "      <th>2</th>\n",
       "      <td>2008-03-01</td>\n",
       "      <td>04:39:18.00</td>\n",
       "      <td>-7.4836</td>\n",
       "      <td>-76.1138</td>\n",
       "      <td>Perú</td>\n",
       "      <td>San Martin</td>\n",
       "      <td>57</td>\n",
       "      <td>Superficial</td>\n",
       "      <td>4.9</td>\n",
       "      <td>Ligera Magnitud</td>\n",
       "    </tr>\n",
       "    <tr>\n",
       "      <th>3</th>\n",
       "      <td>2008-04-01</td>\n",
       "      <td>13:55:35.00</td>\n",
       "      <td>-18.7126</td>\n",
       "      <td>-70.2318</td>\n",
       "      <td>Perú</td>\n",
       "      <td>Arica y Parinacota</td>\n",
       "      <td>77</td>\n",
       "      <td>Media</td>\n",
       "      <td>4.9</td>\n",
       "      <td>Ligera Magnitud</td>\n",
       "    </tr>\n",
       "    <tr>\n",
       "      <th>4</th>\n",
       "      <td>2008-06-01</td>\n",
       "      <td>16:02:30.00</td>\n",
       "      <td>-13.6256</td>\n",
       "      <td>-77.0209</td>\n",
       "      <td>Perú</td>\n",
       "      <td>Ica</td>\n",
       "      <td>21</td>\n",
       "      <td>Superficial</td>\n",
       "      <td>4.6</td>\n",
       "      <td>Ligera Magnitud</td>\n",
       "    </tr>\n",
       "    <tr>\n",
       "      <th>...</th>\n",
       "      <td>...</td>\n",
       "      <td>...</td>\n",
       "      <td>...</td>\n",
       "      <td>...</td>\n",
       "      <td>...</td>\n",
       "      <td>...</td>\n",
       "      <td>...</td>\n",
       "      <td>...</td>\n",
       "      <td>...</td>\n",
       "      <td>...</td>\n",
       "    </tr>\n",
       "    <tr>\n",
       "      <th>10884</th>\n",
       "      <td>2022-12-27</td>\n",
       "      <td>14:38:09</td>\n",
       "      <td>-11.54</td>\n",
       "      <td>-76.92</td>\n",
       "      <td>Perú</td>\n",
       "      <td>Lima</td>\n",
       "      <td>89</td>\n",
       "      <td>Media</td>\n",
       "      <td>4.1</td>\n",
       "      <td>Ligera Magnitud</td>\n",
       "    </tr>\n",
       "    <tr>\n",
       "      <th>10885</th>\n",
       "      <td>2023-02-23</td>\n",
       "      <td>06:18:04</td>\n",
       "      <td>-8.69</td>\n",
       "      <td>-77.81</td>\n",
       "      <td>Perú</td>\n",
       "      <td>Ancash</td>\n",
       "      <td>15</td>\n",
       "      <td>Superficial</td>\n",
       "      <td>4.3</td>\n",
       "      <td>Ligera Magnitud</td>\n",
       "    </tr>\n",
       "    <tr>\n",
       "      <th>10886</th>\n",
       "      <td>2023-03-03</td>\n",
       "      <td>19:39:13</td>\n",
       "      <td>-6.89</td>\n",
       "      <td>-80.23</td>\n",
       "      <td>Perú</td>\n",
       "      <td>Lambayeque</td>\n",
       "      <td>43</td>\n",
       "      <td>Superficial</td>\n",
       "      <td>4.3</td>\n",
       "      <td>Ligera Magnitud</td>\n",
       "    </tr>\n",
       "    <tr>\n",
       "      <th>10887</th>\n",
       "      <td>2023-03-27</td>\n",
       "      <td>20:13:13</td>\n",
       "      <td>-10.53</td>\n",
       "      <td>-74.7</td>\n",
       "      <td>Perú</td>\n",
       "      <td>Junin</td>\n",
       "      <td>134</td>\n",
       "      <td>Media</td>\n",
       "      <td>4.6</td>\n",
       "      <td>Ligera Magnitud</td>\n",
       "    </tr>\n",
       "    <tr>\n",
       "      <th>10888</th>\n",
       "      <td>2023-03-29</td>\n",
       "      <td>06:38:57</td>\n",
       "      <td>-14.06</td>\n",
       "      <td>-74.59</td>\n",
       "      <td>Perú</td>\n",
       "      <td>Ayacucho</td>\n",
       "      <td>116</td>\n",
       "      <td>Media</td>\n",
       "      <td>4.8</td>\n",
       "      <td>Ligera Magnitud</td>\n",
       "    </tr>\n",
       "  </tbody>\n",
       "</table>\n",
       "<p>10889 rows × 10 columns</p>\n",
       "</div>"
      ]
     },
     "metadata": {
      "application/vnd.databricks.v1+output": {
       "addedWidgets": {},
       "arguments": {},
       "data": "<div>\n<style scoped>\n    .dataframe tbody tr th:only-of-type {\n        vertical-align: middle;\n    }\n\n    .dataframe tbody tr th {\n        vertical-align: top;\n    }\n\n    .dataframe thead th {\n        text-align: right;\n    }\n</style>\n<table border=\"1\" class=\"dataframe\">\n  <thead>\n    <tr style=\"text-align: right;\">\n      <th></th>\n      <th>Fecha</th>\n      <th>Hora</th>\n      <th>Latitud</th>\n      <th>Longitud</th>\n      <th>País</th>\n      <th>Locación</th>\n      <th>Profundidad</th>\n      <th>Clasificación Profundidad</th>\n      <th>Magnitud</th>\n      <th>Clasificación Magnitud</th>\n    </tr>\n  </thead>\n  <tbody>\n    <tr>\n      <th>0</th>\n      <td>2008-02-01</td>\n      <td>00:33:21.00</td>\n      <td>-13.1909</td>\n      <td>-76.1988</td>\n      <td>Perú</td>\n      <td>Lima</td>\n      <td>84</td>\n      <td>Media</td>\n      <td>4.7</td>\n      <td>Ligera Magnitud</td>\n    </tr>\n    <tr>\n      <th>1</th>\n      <td>2008-02-01</td>\n      <td>23:26:58.00</td>\n      <td>-15.9953</td>\n      <td>-73.1818</td>\n      <td>Perú</td>\n      <td>Arequipa</td>\n      <td>105</td>\n      <td>Media</td>\n      <td>5.2</td>\n      <td>Moderada Magnitud</td>\n    </tr>\n    <tr>\n      <th>2</th>\n      <td>2008-03-01</td>\n      <td>04:39:18.00</td>\n      <td>-7.4836</td>\n      <td>-76.1138</td>\n      <td>Perú</td>\n      <td>San Martin</td>\n      <td>57</td>\n      <td>Superficial</td>\n      <td>4.9</td>\n      <td>Ligera Magnitud</td>\n    </tr>\n    <tr>\n      <th>3</th>\n      <td>2008-04-01</td>\n      <td>13:55:35.00</td>\n      <td>-18.7126</td>\n      <td>-70.2318</td>\n      <td>Perú</td>\n      <td>Arica y Parinacota</td>\n      <td>77</td>\n      <td>Media</td>\n      <td>4.9</td>\n      <td>Ligera Magnitud</td>\n    </tr>\n    <tr>\n      <th>4</th>\n      <td>2008-06-01</td>\n      <td>16:02:30.00</td>\n      <td>-13.6256</td>\n      <td>-77.0209</td>\n      <td>Perú</td>\n      <td>Ica</td>\n      <td>21</td>\n      <td>Superficial</td>\n      <td>4.6</td>\n      <td>Ligera Magnitud</td>\n    </tr>\n    <tr>\n      <th>...</th>\n      <td>...</td>\n      <td>...</td>\n      <td>...</td>\n      <td>...</td>\n      <td>...</td>\n      <td>...</td>\n      <td>...</td>\n      <td>...</td>\n      <td>...</td>\n      <td>...</td>\n    </tr>\n    <tr>\n      <th>10884</th>\n      <td>2022-12-27</td>\n      <td>14:38:09</td>\n      <td>-11.54</td>\n      <td>-76.92</td>\n      <td>Perú</td>\n      <td>Lima</td>\n      <td>89</td>\n      <td>Media</td>\n      <td>4.1</td>\n      <td>Ligera Magnitud</td>\n    </tr>\n    <tr>\n      <th>10885</th>\n      <td>2023-02-23</td>\n      <td>06:18:04</td>\n      <td>-8.69</td>\n      <td>-77.81</td>\n      <td>Perú</td>\n      <td>Ancash</td>\n      <td>15</td>\n      <td>Superficial</td>\n      <td>4.3</td>\n      <td>Ligera Magnitud</td>\n    </tr>\n    <tr>\n      <th>10886</th>\n      <td>2023-03-03</td>\n      <td>19:39:13</td>\n      <td>-6.89</td>\n      <td>-80.23</td>\n      <td>Perú</td>\n      <td>Lambayeque</td>\n      <td>43</td>\n      <td>Superficial</td>\n      <td>4.3</td>\n      <td>Ligera Magnitud</td>\n    </tr>\n    <tr>\n      <th>10887</th>\n      <td>2023-03-27</td>\n      <td>20:13:13</td>\n      <td>-10.53</td>\n      <td>-74.7</td>\n      <td>Perú</td>\n      <td>Junin</td>\n      <td>134</td>\n      <td>Media</td>\n      <td>4.6</td>\n      <td>Ligera Magnitud</td>\n    </tr>\n    <tr>\n      <th>10888</th>\n      <td>2023-03-29</td>\n      <td>06:38:57</td>\n      <td>-14.06</td>\n      <td>-74.59</td>\n      <td>Perú</td>\n      <td>Ayacucho</td>\n      <td>116</td>\n      <td>Media</td>\n      <td>4.8</td>\n      <td>Ligera Magnitud</td>\n    </tr>\n  </tbody>\n</table>\n<p>10889 rows × 10 columns</p>\n</div>",
       "datasetInfos": [],
       "metadata": {},
       "removedWidgets": [],
       "textData": null,
       "type": "htmlSandbox"
      }
     },
     "output_type": "display_data"
    }
   ],
   "source": [
    "Base_Final_Peru"
   ]
  },
  {
   "cell_type": "markdown",
   "metadata": {
    "application/vnd.databricks.v1+cell": {
     "cellMetadata": {
      "byteLimit": 2048000,
      "rowLimit": 10000
     },
     "inputWidgets": {},
     "nuid": "8d42ca96-73af-40ca-bec9-37f4eb93bb17",
     "showTitle": false,
     "title": ""
    }
   },
   "source": [
    "## Transformación Base EEUU"
   ]
  },
  {
   "cell_type": "code",
   "execution_count": 0,
   "metadata": {
    "application/vnd.databricks.v1+cell": {
     "cellMetadata": {
      "byteLimit": 2048000,
      "rowLimit": 10000
     },
     "inputWidgets": {},
     "nuid": "eecc453e-549b-435f-803f-85e83a3c9979",
     "showTitle": false,
     "title": ""
    }
   },
   "outputs": [
    {
     "output_type": "display_data",
     "data": {
      "text/plain": [
       "\u001B[0;31m---------------------------------------------------------------------------\u001B[0m\n",
       "\u001B[0;31mTypeError\u001B[0m                                 Traceback (most recent call last)\n",
       "File \u001B[0;32m<command-1484620441005867>:24\u001B[0m\n",
       "\u001B[1;32m     18\u001B[0m         \u001B[38;5;28;01mreturn\u001B[39;00m \u001B[38;5;124m'\u001B[39m\u001B[38;5;124mMagnitud Épica\u001B[39m\u001B[38;5;124m'\u001B[39m\n",
       "\u001B[1;32m     20\u001B[0m     \u001B[38;5;66;03m# Convertir la columna \"Magnitud\" a tipo float si es necesario\u001B[39;00m\n",
       "\u001B[1;32m     21\u001B[0m \u001B[38;5;66;03m#df_E['Magnitud'] = df_E['Magnitud'].astype(float)\u001B[39;00m\n",
       "\u001B[1;32m     22\u001B[0m \n",
       "\u001B[1;32m     23\u001B[0m \u001B[38;5;66;03m# Aplicar la función a cada fila de la columna \"Magnitud\" y crear la nueva columna \"peligrosidad\"\u001B[39;00m\n",
       "\u001B[0;32m---> 24\u001B[0m df_E[\u001B[38;5;124m'\u001B[39m\u001B[38;5;124mClasificación Magnitud\u001B[39m\u001B[38;5;124m'\u001B[39m] \u001B[38;5;241m=\u001B[39m df_E[\u001B[38;5;124m'\u001B[39m\u001B[38;5;124mMagnitud\u001B[39m\u001B[38;5;124m'\u001B[39m]\u001B[38;5;241m.\u001B[39mapply(determinar_peligrosidad)\n",
       "\n",
       "File \u001B[0;32m/databricks/python/lib/python3.9/site-packages/pandas/core/series.py:4433\u001B[0m, in \u001B[0;36mSeries.apply\u001B[0;34m(self, func, convert_dtype, args, **kwargs)\u001B[0m\n",
       "\u001B[1;32m   4323\u001B[0m \u001B[38;5;28;01mdef\u001B[39;00m \u001B[38;5;21mapply\u001B[39m(\n",
       "\u001B[1;32m   4324\u001B[0m     \u001B[38;5;28mself\u001B[39m,\n",
       "\u001B[1;32m   4325\u001B[0m     func: AggFuncType,\n",
       "\u001B[0;32m   (...)\u001B[0m\n",
       "\u001B[1;32m   4328\u001B[0m     \u001B[38;5;241m*\u001B[39m\u001B[38;5;241m*\u001B[39mkwargs,\n",
       "\u001B[1;32m   4329\u001B[0m ) \u001B[38;5;241m-\u001B[39m\u001B[38;5;241m>\u001B[39m DataFrame \u001B[38;5;241m|\u001B[39m Series:\n",
       "\u001B[1;32m   4330\u001B[0m     \u001B[38;5;124;03m\"\"\"\u001B[39;00m\n",
       "\u001B[1;32m   4331\u001B[0m \u001B[38;5;124;03m    Invoke function on values of Series.\u001B[39;00m\n",
       "\u001B[1;32m   4332\u001B[0m \n",
       "\u001B[0;32m   (...)\u001B[0m\n",
       "\u001B[1;32m   4431\u001B[0m \u001B[38;5;124;03m    dtype: float64\u001B[39;00m\n",
       "\u001B[1;32m   4432\u001B[0m \u001B[38;5;124;03m    \"\"\"\u001B[39;00m\n",
       "\u001B[0;32m-> 4433\u001B[0m     \u001B[38;5;28;01mreturn\u001B[39;00m \u001B[43mSeriesApply\u001B[49m\u001B[43m(\u001B[49m\u001B[38;5;28;43mself\u001B[39;49m\u001B[43m,\u001B[49m\u001B[43m \u001B[49m\u001B[43mfunc\u001B[49m\u001B[43m,\u001B[49m\u001B[43m \u001B[49m\u001B[43mconvert_dtype\u001B[49m\u001B[43m,\u001B[49m\u001B[43m \u001B[49m\u001B[43margs\u001B[49m\u001B[43m,\u001B[49m\u001B[43m \u001B[49m\u001B[43mkwargs\u001B[49m\u001B[43m)\u001B[49m\u001B[38;5;241;43m.\u001B[39;49m\u001B[43mapply\u001B[49m\u001B[43m(\u001B[49m\u001B[43m)\u001B[49m\n",
       "\n",
       "File \u001B[0;32m/databricks/python/lib/python3.9/site-packages/pandas/core/apply.py:1082\u001B[0m, in \u001B[0;36mSeriesApply.apply\u001B[0;34m(self)\u001B[0m\n",
       "\u001B[1;32m   1078\u001B[0m \u001B[38;5;28;01mif\u001B[39;00m \u001B[38;5;28misinstance\u001B[39m(\u001B[38;5;28mself\u001B[39m\u001B[38;5;241m.\u001B[39mf, \u001B[38;5;28mstr\u001B[39m):\n",
       "\u001B[1;32m   1079\u001B[0m     \u001B[38;5;66;03m# if we are a string, try to dispatch\u001B[39;00m\n",
       "\u001B[1;32m   1080\u001B[0m     \u001B[38;5;28;01mreturn\u001B[39;00m \u001B[38;5;28mself\u001B[39m\u001B[38;5;241m.\u001B[39mapply_str()\n",
       "\u001B[0;32m-> 1082\u001B[0m \u001B[38;5;28;01mreturn\u001B[39;00m \u001B[38;5;28;43mself\u001B[39;49m\u001B[38;5;241;43m.\u001B[39;49m\u001B[43mapply_standard\u001B[49m\u001B[43m(\u001B[49m\u001B[43m)\u001B[49m\n",
       "\n",
       "File \u001B[0;32m/databricks/python/lib/python3.9/site-packages/pandas/core/apply.py:1137\u001B[0m, in \u001B[0;36mSeriesApply.apply_standard\u001B[0;34m(self)\u001B[0m\n",
       "\u001B[1;32m   1131\u001B[0m         values \u001B[38;5;241m=\u001B[39m obj\u001B[38;5;241m.\u001B[39mastype(\u001B[38;5;28mobject\u001B[39m)\u001B[38;5;241m.\u001B[39m_values\n",
       "\u001B[1;32m   1132\u001B[0m         \u001B[38;5;66;03m# error: Argument 2 to \"map_infer\" has incompatible type\u001B[39;00m\n",
       "\u001B[1;32m   1133\u001B[0m         \u001B[38;5;66;03m# \"Union[Callable[..., Any], str, List[Union[Callable[..., Any], str]],\u001B[39;00m\n",
       "\u001B[1;32m   1134\u001B[0m         \u001B[38;5;66;03m# Dict[Hashable, Union[Union[Callable[..., Any], str],\u001B[39;00m\n",
       "\u001B[1;32m   1135\u001B[0m         \u001B[38;5;66;03m# List[Union[Callable[..., Any], str]]]]]\"; expected\u001B[39;00m\n",
       "\u001B[1;32m   1136\u001B[0m         \u001B[38;5;66;03m# \"Callable[[Any], Any]\"\u001B[39;00m\n",
       "\u001B[0;32m-> 1137\u001B[0m         mapped \u001B[38;5;241m=\u001B[39m \u001B[43mlib\u001B[49m\u001B[38;5;241;43m.\u001B[39;49m\u001B[43mmap_infer\u001B[49m\u001B[43m(\u001B[49m\n",
       "\u001B[1;32m   1138\u001B[0m \u001B[43m            \u001B[49m\u001B[43mvalues\u001B[49m\u001B[43m,\u001B[49m\n",
       "\u001B[1;32m   1139\u001B[0m \u001B[43m            \u001B[49m\u001B[43mf\u001B[49m\u001B[43m,\u001B[49m\u001B[43m  \u001B[49m\u001B[38;5;66;43;03m# type: ignore[arg-type]\u001B[39;49;00m\n",
       "\u001B[1;32m   1140\u001B[0m \u001B[43m            \u001B[49m\u001B[43mconvert\u001B[49m\u001B[38;5;241;43m=\u001B[39;49m\u001B[38;5;28;43mself\u001B[39;49m\u001B[38;5;241;43m.\u001B[39;49m\u001B[43mconvert_dtype\u001B[49m\u001B[43m,\u001B[49m\n",
       "\u001B[1;32m   1141\u001B[0m \u001B[43m        \u001B[49m\u001B[43m)\u001B[49m\n",
       "\u001B[1;32m   1143\u001B[0m \u001B[38;5;28;01mif\u001B[39;00m \u001B[38;5;28mlen\u001B[39m(mapped) \u001B[38;5;129;01mand\u001B[39;00m \u001B[38;5;28misinstance\u001B[39m(mapped[\u001B[38;5;241m0\u001B[39m], ABCSeries):\n",
       "\u001B[1;32m   1144\u001B[0m     \u001B[38;5;66;03m# GH#43986 Need to do list(mapped) in order to get treated as nested\u001B[39;00m\n",
       "\u001B[1;32m   1145\u001B[0m     \u001B[38;5;66;03m#  See also GH#25959 regarding EA support\u001B[39;00m\n",
       "\u001B[1;32m   1146\u001B[0m     \u001B[38;5;28;01mreturn\u001B[39;00m obj\u001B[38;5;241m.\u001B[39m_constructor_expanddim(\u001B[38;5;28mlist\u001B[39m(mapped), index\u001B[38;5;241m=\u001B[39mobj\u001B[38;5;241m.\u001B[39mindex)\n",
       "\n",
       "File \u001B[0;32m/databricks/python/lib/python3.9/site-packages/pandas/_libs/lib.pyx:2870\u001B[0m, in \u001B[0;36mpandas._libs.lib.map_infer\u001B[0;34m()\u001B[0m\n",
       "\n",
       "File \u001B[0;32m<command-1484620441005867>:3\u001B[0m, in \u001B[0;36mdeterminar_peligrosidad\u001B[0;34m(magnitud)\u001B[0m\n",
       "\u001B[1;32m      2\u001B[0m \u001B[38;5;28;01mdef\u001B[39;00m \u001B[38;5;21mdeterminar_peligrosidad\u001B[39m(magnitud):\n",
       "\u001B[0;32m----> 3\u001B[0m     \u001B[38;5;28;01mif\u001B[39;00m \u001B[43mmagnitud\u001B[49m\u001B[43m \u001B[49m\u001B[38;5;241;43m<\u001B[39;49m\u001B[43m \u001B[49m\u001B[38;5;241;43m2.0\u001B[39;49m:\n",
       "\u001B[1;32m      4\u001B[0m         \u001B[38;5;28;01mreturn\u001B[39;00m \u001B[38;5;124m'\u001B[39m\u001B[38;5;124mMicro Magnitud\u001B[39m\u001B[38;5;124m'\u001B[39m\n",
       "\u001B[1;32m      5\u001B[0m     \u001B[38;5;28;01melif\u001B[39;00m magnitud \u001B[38;5;241m<\u001B[39m \u001B[38;5;241m3.0\u001B[39m:\n",
       "\n",
       "\u001B[0;31mTypeError\u001B[0m: '<' not supported between instances of 'str' and 'float'"
      ]
     },
     "metadata": {
      "application/vnd.databricks.v1+output": {
       "arguments": {},
       "data": "\u001B[0;31m---------------------------------------------------------------------------\u001B[0m\n\u001B[0;31mTypeError\u001B[0m                                 Traceback (most recent call last)\nFile \u001B[0;32m<command-1484620441005867>:24\u001B[0m\n\u001B[1;32m     18\u001B[0m         \u001B[38;5;28;01mreturn\u001B[39;00m \u001B[38;5;124m'\u001B[39m\u001B[38;5;124mMagnitud Épica\u001B[39m\u001B[38;5;124m'\u001B[39m\n\u001B[1;32m     20\u001B[0m     \u001B[38;5;66;03m# Convertir la columna \"Magnitud\" a tipo float si es necesario\u001B[39;00m\n\u001B[1;32m     21\u001B[0m \u001B[38;5;66;03m#df_E['Magnitud'] = df_E['Magnitud'].astype(float)\u001B[39;00m\n\u001B[1;32m     22\u001B[0m \n\u001B[1;32m     23\u001B[0m \u001B[38;5;66;03m# Aplicar la función a cada fila de la columna \"Magnitud\" y crear la nueva columna \"peligrosidad\"\u001B[39;00m\n\u001B[0;32m---> 24\u001B[0m df_E[\u001B[38;5;124m'\u001B[39m\u001B[38;5;124mClasificación Magnitud\u001B[39m\u001B[38;5;124m'\u001B[39m] \u001B[38;5;241m=\u001B[39m df_E[\u001B[38;5;124m'\u001B[39m\u001B[38;5;124mMagnitud\u001B[39m\u001B[38;5;124m'\u001B[39m]\u001B[38;5;241m.\u001B[39mapply(determinar_peligrosidad)\n\nFile \u001B[0;32m/databricks/python/lib/python3.9/site-packages/pandas/core/series.py:4433\u001B[0m, in \u001B[0;36mSeries.apply\u001B[0;34m(self, func, convert_dtype, args, **kwargs)\u001B[0m\n\u001B[1;32m   4323\u001B[0m \u001B[38;5;28;01mdef\u001B[39;00m \u001B[38;5;21mapply\u001B[39m(\n\u001B[1;32m   4324\u001B[0m     \u001B[38;5;28mself\u001B[39m,\n\u001B[1;32m   4325\u001B[0m     func: AggFuncType,\n\u001B[0;32m   (...)\u001B[0m\n\u001B[1;32m   4328\u001B[0m     \u001B[38;5;241m*\u001B[39m\u001B[38;5;241m*\u001B[39mkwargs,\n\u001B[1;32m   4329\u001B[0m ) \u001B[38;5;241m-\u001B[39m\u001B[38;5;241m>\u001B[39m DataFrame \u001B[38;5;241m|\u001B[39m Series:\n\u001B[1;32m   4330\u001B[0m     \u001B[38;5;124;03m\"\"\"\u001B[39;00m\n\u001B[1;32m   4331\u001B[0m \u001B[38;5;124;03m    Invoke function on values of Series.\u001B[39;00m\n\u001B[1;32m   4332\u001B[0m \n\u001B[0;32m   (...)\u001B[0m\n\u001B[1;32m   4431\u001B[0m \u001B[38;5;124;03m    dtype: float64\u001B[39;00m\n\u001B[1;32m   4432\u001B[0m \u001B[38;5;124;03m    \"\"\"\u001B[39;00m\n\u001B[0;32m-> 4433\u001B[0m     \u001B[38;5;28;01mreturn\u001B[39;00m \u001B[43mSeriesApply\u001B[49m\u001B[43m(\u001B[49m\u001B[38;5;28;43mself\u001B[39;49m\u001B[43m,\u001B[49m\u001B[43m \u001B[49m\u001B[43mfunc\u001B[49m\u001B[43m,\u001B[49m\u001B[43m \u001B[49m\u001B[43mconvert_dtype\u001B[49m\u001B[43m,\u001B[49m\u001B[43m \u001B[49m\u001B[43margs\u001B[49m\u001B[43m,\u001B[49m\u001B[43m \u001B[49m\u001B[43mkwargs\u001B[49m\u001B[43m)\u001B[49m\u001B[38;5;241;43m.\u001B[39;49m\u001B[43mapply\u001B[49m\u001B[43m(\u001B[49m\u001B[43m)\u001B[49m\n\nFile \u001B[0;32m/databricks/python/lib/python3.9/site-packages/pandas/core/apply.py:1082\u001B[0m, in \u001B[0;36mSeriesApply.apply\u001B[0;34m(self)\u001B[0m\n\u001B[1;32m   1078\u001B[0m \u001B[38;5;28;01mif\u001B[39;00m \u001B[38;5;28misinstance\u001B[39m(\u001B[38;5;28mself\u001B[39m\u001B[38;5;241m.\u001B[39mf, \u001B[38;5;28mstr\u001B[39m):\n\u001B[1;32m   1079\u001B[0m     \u001B[38;5;66;03m# if we are a string, try to dispatch\u001B[39;00m\n\u001B[1;32m   1080\u001B[0m     \u001B[38;5;28;01mreturn\u001B[39;00m \u001B[38;5;28mself\u001B[39m\u001B[38;5;241m.\u001B[39mapply_str()\n\u001B[0;32m-> 1082\u001B[0m \u001B[38;5;28;01mreturn\u001B[39;00m \u001B[38;5;28;43mself\u001B[39;49m\u001B[38;5;241;43m.\u001B[39;49m\u001B[43mapply_standard\u001B[49m\u001B[43m(\u001B[49m\u001B[43m)\u001B[49m\n\nFile \u001B[0;32m/databricks/python/lib/python3.9/site-packages/pandas/core/apply.py:1137\u001B[0m, in \u001B[0;36mSeriesApply.apply_standard\u001B[0;34m(self)\u001B[0m\n\u001B[1;32m   1131\u001B[0m         values \u001B[38;5;241m=\u001B[39m obj\u001B[38;5;241m.\u001B[39mastype(\u001B[38;5;28mobject\u001B[39m)\u001B[38;5;241m.\u001B[39m_values\n\u001B[1;32m   1132\u001B[0m         \u001B[38;5;66;03m# error: Argument 2 to \"map_infer\" has incompatible type\u001B[39;00m\n\u001B[1;32m   1133\u001B[0m         \u001B[38;5;66;03m# \"Union[Callable[..., Any], str, List[Union[Callable[..., Any], str]],\u001B[39;00m\n\u001B[1;32m   1134\u001B[0m         \u001B[38;5;66;03m# Dict[Hashable, Union[Union[Callable[..., Any], str],\u001B[39;00m\n\u001B[1;32m   1135\u001B[0m         \u001B[38;5;66;03m# List[Union[Callable[..., Any], str]]]]]\"; expected\u001B[39;00m\n\u001B[1;32m   1136\u001B[0m         \u001B[38;5;66;03m# \"Callable[[Any], Any]\"\u001B[39;00m\n\u001B[0;32m-> 1137\u001B[0m         mapped \u001B[38;5;241m=\u001B[39m \u001B[43mlib\u001B[49m\u001B[38;5;241;43m.\u001B[39;49m\u001B[43mmap_infer\u001B[49m\u001B[43m(\u001B[49m\n\u001B[1;32m   1138\u001B[0m \u001B[43m            \u001B[49m\u001B[43mvalues\u001B[49m\u001B[43m,\u001B[49m\n\u001B[1;32m   1139\u001B[0m \u001B[43m            \u001B[49m\u001B[43mf\u001B[49m\u001B[43m,\u001B[49m\u001B[43m  \u001B[49m\u001B[38;5;66;43;03m# type: ignore[arg-type]\u001B[39;49;00m\n\u001B[1;32m   1140\u001B[0m \u001B[43m            \u001B[49m\u001B[43mconvert\u001B[49m\u001B[38;5;241;43m=\u001B[39;49m\u001B[38;5;28;43mself\u001B[39;49m\u001B[38;5;241;43m.\u001B[39;49m\u001B[43mconvert_dtype\u001B[49m\u001B[43m,\u001B[49m\n\u001B[1;32m   1141\u001B[0m \u001B[43m        \u001B[49m\u001B[43m)\u001B[49m\n\u001B[1;32m   1143\u001B[0m \u001B[38;5;28;01mif\u001B[39;00m \u001B[38;5;28mlen\u001B[39m(mapped) \u001B[38;5;129;01mand\u001B[39;00m \u001B[38;5;28misinstance\u001B[39m(mapped[\u001B[38;5;241m0\u001B[39m], ABCSeries):\n\u001B[1;32m   1144\u001B[0m     \u001B[38;5;66;03m# GH#43986 Need to do list(mapped) in order to get treated as nested\u001B[39;00m\n\u001B[1;32m   1145\u001B[0m     \u001B[38;5;66;03m#  See also GH#25959 regarding EA support\u001B[39;00m\n\u001B[1;32m   1146\u001B[0m     \u001B[38;5;28;01mreturn\u001B[39;00m obj\u001B[38;5;241m.\u001B[39m_constructor_expanddim(\u001B[38;5;28mlist\u001B[39m(mapped), index\u001B[38;5;241m=\u001B[39mobj\u001B[38;5;241m.\u001B[39mindex)\n\nFile \u001B[0;32m/databricks/python/lib/python3.9/site-packages/pandas/_libs/lib.pyx:2870\u001B[0m, in \u001B[0;36mpandas._libs.lib.map_infer\u001B[0;34m()\u001B[0m\n\nFile \u001B[0;32m<command-1484620441005867>:3\u001B[0m, in \u001B[0;36mdeterminar_peligrosidad\u001B[0;34m(magnitud)\u001B[0m\n\u001B[1;32m      2\u001B[0m \u001B[38;5;28;01mdef\u001B[39;00m \u001B[38;5;21mdeterminar_peligrosidad\u001B[39m(magnitud):\n\u001B[0;32m----> 3\u001B[0m     \u001B[38;5;28;01mif\u001B[39;00m \u001B[43mmagnitud\u001B[49m\u001B[43m \u001B[49m\u001B[38;5;241;43m<\u001B[39;49m\u001B[43m \u001B[49m\u001B[38;5;241;43m2.0\u001B[39;49m:\n\u001B[1;32m      4\u001B[0m         \u001B[38;5;28;01mreturn\u001B[39;00m \u001B[38;5;124m'\u001B[39m\u001B[38;5;124mMicro Magnitud\u001B[39m\u001B[38;5;124m'\u001B[39m\n\u001B[1;32m      5\u001B[0m     \u001B[38;5;28;01melif\u001B[39;00m magnitud \u001B[38;5;241m<\u001B[39m \u001B[38;5;241m3.0\u001B[39m:\n\n\u001B[0;31mTypeError\u001B[0m: '<' not supported between instances of 'str' and 'float'",
       "errorSummary": "<span class='ansi-red-fg'>TypeError</span>: '<' not supported between instances of 'str' and 'float'",
       "errorTraceType": "ansi",
       "metadata": {},
       "type": "ipynbError"
      }
     },
     "output_type": "display_data"
    }
   ],
   "source": [
    "# Definir la función para determinar la peligrosidad\n",
    "def determinar_peligrosidad(magnitud):\n",
    "    if magnitud < 2.0:\n",
    "        return 'Micro Magnitud'\n",
    "    elif magnitud < 3.0:\n",
    "        return 'Menor Magnitud'\n",
    "    elif magnitud < 4.0:\n",
    "        return 'Ligera Magnitud'\n",
    "    elif magnitud < 5.0:\n",
    "        return 'Moderada Magnitud'\n",
    "    elif magnitud < 6.0:\n",
    "        return 'Fuerte Magnitud'\n",
    "    elif magnitud < 7.0:\n",
    "        return 'Mayor Magnitud'\n",
    "    elif magnitud < 8.0:\n",
    "        return 'Gran Magnitud'\n",
    "    else:\n",
    "        return 'Magnitud Épica'\n",
    "\n",
    "    # Convertir la columna \"Magnitud\" a tipo float si es necesario\n",
    "#df_E['Magnitud'] = df_E['Magnitud'].astype(float)\n",
    "\n",
    "# Aplicar la función a cada fila de la columna \"Magnitud\" y crear la nueva columna \"peligrosidad\"\n",
    "df_E['Clasificación Magnitud'] = df_E['Magnitud'].apply(determinar_peligrosidad)"
   ]
  },
  {
   "cell_type": "code",
   "execution_count": 0,
   "metadata": {
    "application/vnd.databricks.v1+cell": {
     "cellMetadata": {
      "byteLimit": 2048000,
      "rowLimit": 10000
     },
     "inputWidgets": {},
     "nuid": "878f5222-16ca-45a5-b549-acfa9d21c526",
     "showTitle": false,
     "title": ""
    }
   },
   "outputs": [
    {
     "output_type": "display_data",
     "data": {
      "text/plain": [
       "\u001B[0;31m---------------------------------------------------------------------------\u001B[0m\n",
       "\u001B[0;31mValueError\u001B[0m                                Traceback (most recent call last)\n",
       "File \u001B[0;32m<command-1484620441005869>:10\u001B[0m\n",
       "\u001B[1;32m      7\u001B[0m     \u001B[38;5;28;01melif\u001B[39;00m profundidad \u001B[38;5;241m>\u001B[39m \u001B[38;5;241m30\u001B[39m:\n",
       "\u001B[1;32m      8\u001B[0m         \u001B[38;5;28;01mreturn\u001B[39;00m\u001B[38;5;124m\"\u001B[39m\u001B[38;5;124mProfundo\u001B[39m\u001B[38;5;124m\"\u001B[39m\n",
       "\u001B[0;32m---> 10\u001B[0m df_E[\u001B[38;5;124m'\u001B[39m\u001B[38;5;124mProfundidad\u001B[39m\u001B[38;5;124m'\u001B[39m] \u001B[38;5;241m=\u001B[39m df_E[\u001B[38;5;124m'\u001B[39m\u001B[38;5;124mProfundidad\u001B[39m\u001B[38;5;124m'\u001B[39m]\u001B[38;5;241m.\u001B[39mastype(\u001B[38;5;28mfloat\u001B[39m)  \u001B[38;5;66;03m# Convertir a tipo float\u001B[39;00m\n",
       "\u001B[1;32m     12\u001B[0m \u001B[38;5;66;03m# Aplicar la función a cada fila de la columna \"Profundidad\" y crear la nueva columna \"Clasificación Profundidad\"\u001B[39;00m\n",
       "\u001B[1;32m     13\u001B[0m df_E[\u001B[38;5;124m'\u001B[39m\u001B[38;5;124mClasificación Profundidad\u001B[39m\u001B[38;5;124m'\u001B[39m] \u001B[38;5;241m=\u001B[39m df_E[\u001B[38;5;124m'\u001B[39m\u001B[38;5;124mProfundidad\u001B[39m\u001B[38;5;124m'\u001B[39m]\u001B[38;5;241m.\u001B[39mapply(clasificar_profundidad)\n",
       "\n",
       "File \u001B[0;32m/databricks/python/lib/python3.9/site-packages/pandas/core/generic.py:5912\u001B[0m, in \u001B[0;36mNDFrame.astype\u001B[0;34m(self, dtype, copy, errors)\u001B[0m\n",
       "\u001B[1;32m   5905\u001B[0m     results \u001B[38;5;241m=\u001B[39m [\n",
       "\u001B[1;32m   5906\u001B[0m         \u001B[38;5;28mself\u001B[39m\u001B[38;5;241m.\u001B[39miloc[:, i]\u001B[38;5;241m.\u001B[39mastype(dtype, copy\u001B[38;5;241m=\u001B[39mcopy)\n",
       "\u001B[1;32m   5907\u001B[0m         \u001B[38;5;28;01mfor\u001B[39;00m i \u001B[38;5;129;01min\u001B[39;00m \u001B[38;5;28mrange\u001B[39m(\u001B[38;5;28mlen\u001B[39m(\u001B[38;5;28mself\u001B[39m\u001B[38;5;241m.\u001B[39mcolumns))\n",
       "\u001B[1;32m   5908\u001B[0m     ]\n",
       "\u001B[1;32m   5910\u001B[0m \u001B[38;5;28;01melse\u001B[39;00m:\n",
       "\u001B[1;32m   5911\u001B[0m     \u001B[38;5;66;03m# else, only a single dtype is given\u001B[39;00m\n",
       "\u001B[0;32m-> 5912\u001B[0m     new_data \u001B[38;5;241m=\u001B[39m \u001B[38;5;28;43mself\u001B[39;49m\u001B[38;5;241;43m.\u001B[39;49m\u001B[43m_mgr\u001B[49m\u001B[38;5;241;43m.\u001B[39;49m\u001B[43mastype\u001B[49m\u001B[43m(\u001B[49m\u001B[43mdtype\u001B[49m\u001B[38;5;241;43m=\u001B[39;49m\u001B[43mdtype\u001B[49m\u001B[43m,\u001B[49m\u001B[43m \u001B[49m\u001B[43mcopy\u001B[49m\u001B[38;5;241;43m=\u001B[39;49m\u001B[43mcopy\u001B[49m\u001B[43m,\u001B[49m\u001B[43m \u001B[49m\u001B[43merrors\u001B[49m\u001B[38;5;241;43m=\u001B[39;49m\u001B[43merrors\u001B[49m\u001B[43m)\u001B[49m\n",
       "\u001B[1;32m   5913\u001B[0m     \u001B[38;5;28;01mreturn\u001B[39;00m \u001B[38;5;28mself\u001B[39m\u001B[38;5;241m.\u001B[39m_constructor(new_data)\u001B[38;5;241m.\u001B[39m__finalize__(\u001B[38;5;28mself\u001B[39m, method\u001B[38;5;241m=\u001B[39m\u001B[38;5;124m\"\u001B[39m\u001B[38;5;124mastype\u001B[39m\u001B[38;5;124m\"\u001B[39m)\n",
       "\u001B[1;32m   5915\u001B[0m \u001B[38;5;66;03m# GH 33113: handle empty frame or series\u001B[39;00m\n",
       "\n",
       "File \u001B[0;32m/databricks/python/lib/python3.9/site-packages/pandas/core/internals/managers.py:419\u001B[0m, in \u001B[0;36mBaseBlockManager.astype\u001B[0;34m(self, dtype, copy, errors)\u001B[0m\n",
       "\u001B[1;32m    418\u001B[0m \u001B[38;5;28;01mdef\u001B[39;00m \u001B[38;5;21mastype\u001B[39m(\u001B[38;5;28mself\u001B[39m: T, dtype, copy: \u001B[38;5;28mbool\u001B[39m \u001B[38;5;241m=\u001B[39m \u001B[38;5;28;01mFalse\u001B[39;00m, errors: \u001B[38;5;28mstr\u001B[39m \u001B[38;5;241m=\u001B[39m \u001B[38;5;124m\"\u001B[39m\u001B[38;5;124mraise\u001B[39m\u001B[38;5;124m\"\u001B[39m) \u001B[38;5;241m-\u001B[39m\u001B[38;5;241m>\u001B[39m T:\n",
       "\u001B[0;32m--> 419\u001B[0m     \u001B[38;5;28;01mreturn\u001B[39;00m \u001B[38;5;28;43mself\u001B[39;49m\u001B[38;5;241;43m.\u001B[39;49m\u001B[43mapply\u001B[49m\u001B[43m(\u001B[49m\u001B[38;5;124;43m\"\u001B[39;49m\u001B[38;5;124;43mastype\u001B[39;49m\u001B[38;5;124;43m\"\u001B[39;49m\u001B[43m,\u001B[49m\u001B[43m \u001B[49m\u001B[43mdtype\u001B[49m\u001B[38;5;241;43m=\u001B[39;49m\u001B[43mdtype\u001B[49m\u001B[43m,\u001B[49m\u001B[43m \u001B[49m\u001B[43mcopy\u001B[49m\u001B[38;5;241;43m=\u001B[39;49m\u001B[43mcopy\u001B[49m\u001B[43m,\u001B[49m\u001B[43m \u001B[49m\u001B[43merrors\u001B[49m\u001B[38;5;241;43m=\u001B[39;49m\u001B[43merrors\u001B[49m\u001B[43m)\u001B[49m\n",
       "\n",
       "File \u001B[0;32m/databricks/python/lib/python3.9/site-packages/pandas/core/internals/managers.py:304\u001B[0m, in \u001B[0;36mBaseBlockManager.apply\u001B[0;34m(self, f, align_keys, ignore_failures, **kwargs)\u001B[0m\n",
       "\u001B[1;32m    302\u001B[0m         applied \u001B[38;5;241m=\u001B[39m b\u001B[38;5;241m.\u001B[39mapply(f, \u001B[38;5;241m*\u001B[39m\u001B[38;5;241m*\u001B[39mkwargs)\n",
       "\u001B[1;32m    303\u001B[0m     \u001B[38;5;28;01melse\u001B[39;00m:\n",
       "\u001B[0;32m--> 304\u001B[0m         applied \u001B[38;5;241m=\u001B[39m \u001B[38;5;28;43mgetattr\u001B[39;49m\u001B[43m(\u001B[49m\u001B[43mb\u001B[49m\u001B[43m,\u001B[49m\u001B[43m \u001B[49m\u001B[43mf\u001B[49m\u001B[43m)\u001B[49m\u001B[43m(\u001B[49m\u001B[38;5;241;43m*\u001B[39;49m\u001B[38;5;241;43m*\u001B[39;49m\u001B[43mkwargs\u001B[49m\u001B[43m)\u001B[49m\n",
       "\u001B[1;32m    305\u001B[0m \u001B[38;5;28;01mexcept\u001B[39;00m (\u001B[38;5;167;01mTypeError\u001B[39;00m, \u001B[38;5;167;01mNotImplementedError\u001B[39;00m):\n",
       "\u001B[1;32m    306\u001B[0m     \u001B[38;5;28;01mif\u001B[39;00m \u001B[38;5;129;01mnot\u001B[39;00m ignore_failures:\n",
       "\n",
       "File \u001B[0;32m/databricks/python/lib/python3.9/site-packages/pandas/core/internals/blocks.py:580\u001B[0m, in \u001B[0;36mBlock.astype\u001B[0;34m(self, dtype, copy, errors)\u001B[0m\n",
       "\u001B[1;32m    562\u001B[0m \u001B[38;5;124;03m\"\"\"\u001B[39;00m\n",
       "\u001B[1;32m    563\u001B[0m \u001B[38;5;124;03mCoerce to the new dtype.\u001B[39;00m\n",
       "\u001B[1;32m    564\u001B[0m \n",
       "\u001B[0;32m   (...)\u001B[0m\n",
       "\u001B[1;32m    576\u001B[0m \u001B[38;5;124;03mBlock\u001B[39;00m\n",
       "\u001B[1;32m    577\u001B[0m \u001B[38;5;124;03m\"\"\"\u001B[39;00m\n",
       "\u001B[1;32m    578\u001B[0m values \u001B[38;5;241m=\u001B[39m \u001B[38;5;28mself\u001B[39m\u001B[38;5;241m.\u001B[39mvalues\n",
       "\u001B[0;32m--> 580\u001B[0m new_values \u001B[38;5;241m=\u001B[39m \u001B[43mastype_array_safe\u001B[49m\u001B[43m(\u001B[49m\u001B[43mvalues\u001B[49m\u001B[43m,\u001B[49m\u001B[43m \u001B[49m\u001B[43mdtype\u001B[49m\u001B[43m,\u001B[49m\u001B[43m \u001B[49m\u001B[43mcopy\u001B[49m\u001B[38;5;241;43m=\u001B[39;49m\u001B[43mcopy\u001B[49m\u001B[43m,\u001B[49m\u001B[43m \u001B[49m\u001B[43merrors\u001B[49m\u001B[38;5;241;43m=\u001B[39;49m\u001B[43merrors\u001B[49m\u001B[43m)\u001B[49m\n",
       "\u001B[1;32m    582\u001B[0m new_values \u001B[38;5;241m=\u001B[39m maybe_coerce_values(new_values)\n",
       "\u001B[1;32m    583\u001B[0m newb \u001B[38;5;241m=\u001B[39m \u001B[38;5;28mself\u001B[39m\u001B[38;5;241m.\u001B[39mmake_block(new_values)\n",
       "\n",
       "File \u001B[0;32m/databricks/python/lib/python3.9/site-packages/pandas/core/dtypes/cast.py:1292\u001B[0m, in \u001B[0;36mastype_array_safe\u001B[0;34m(values, dtype, copy, errors)\u001B[0m\n",
       "\u001B[1;32m   1289\u001B[0m     dtype \u001B[38;5;241m=\u001B[39m dtype\u001B[38;5;241m.\u001B[39mnumpy_dtype\n",
       "\u001B[1;32m   1291\u001B[0m \u001B[38;5;28;01mtry\u001B[39;00m:\n",
       "\u001B[0;32m-> 1292\u001B[0m     new_values \u001B[38;5;241m=\u001B[39m \u001B[43mastype_array\u001B[49m\u001B[43m(\u001B[49m\u001B[43mvalues\u001B[49m\u001B[43m,\u001B[49m\u001B[43m \u001B[49m\u001B[43mdtype\u001B[49m\u001B[43m,\u001B[49m\u001B[43m \u001B[49m\u001B[43mcopy\u001B[49m\u001B[38;5;241;43m=\u001B[39;49m\u001B[43mcopy\u001B[49m\u001B[43m)\u001B[49m\n",
       "\u001B[1;32m   1293\u001B[0m \u001B[38;5;28;01mexcept\u001B[39;00m (\u001B[38;5;167;01mValueError\u001B[39;00m, \u001B[38;5;167;01mTypeError\u001B[39;00m):\n",
       "\u001B[1;32m   1294\u001B[0m     \u001B[38;5;66;03m# e.g. astype_nansafe can fail on object-dtype of strings\u001B[39;00m\n",
       "\u001B[1;32m   1295\u001B[0m     \u001B[38;5;66;03m#  trying to convert to float\u001B[39;00m\n",
       "\u001B[1;32m   1296\u001B[0m     \u001B[38;5;28;01mif\u001B[39;00m errors \u001B[38;5;241m==\u001B[39m \u001B[38;5;124m\"\u001B[39m\u001B[38;5;124mignore\u001B[39m\u001B[38;5;124m\"\u001B[39m:\n",
       "\n",
       "File \u001B[0;32m/databricks/python/lib/python3.9/site-packages/pandas/core/dtypes/cast.py:1237\u001B[0m, in \u001B[0;36mastype_array\u001B[0;34m(values, dtype, copy)\u001B[0m\n",
       "\u001B[1;32m   1234\u001B[0m     values \u001B[38;5;241m=\u001B[39m values\u001B[38;5;241m.\u001B[39mastype(dtype, copy\u001B[38;5;241m=\u001B[39mcopy)\n",
       "\u001B[1;32m   1236\u001B[0m \u001B[38;5;28;01melse\u001B[39;00m:\n",
       "\u001B[0;32m-> 1237\u001B[0m     values \u001B[38;5;241m=\u001B[39m \u001B[43mastype_nansafe\u001B[49m\u001B[43m(\u001B[49m\u001B[43mvalues\u001B[49m\u001B[43m,\u001B[49m\u001B[43m \u001B[49m\u001B[43mdtype\u001B[49m\u001B[43m,\u001B[49m\u001B[43m \u001B[49m\u001B[43mcopy\u001B[49m\u001B[38;5;241;43m=\u001B[39;49m\u001B[43mcopy\u001B[49m\u001B[43m)\u001B[49m\n",
       "\u001B[1;32m   1239\u001B[0m \u001B[38;5;66;03m# in pandas we don't store numpy str dtypes, so convert to object\u001B[39;00m\n",
       "\u001B[1;32m   1240\u001B[0m \u001B[38;5;28;01mif\u001B[39;00m \u001B[38;5;28misinstance\u001B[39m(dtype, np\u001B[38;5;241m.\u001B[39mdtype) \u001B[38;5;129;01mand\u001B[39;00m \u001B[38;5;28missubclass\u001B[39m(values\u001B[38;5;241m.\u001B[39mdtype\u001B[38;5;241m.\u001B[39mtype, \u001B[38;5;28mstr\u001B[39m):\n",
       "\n",
       "File \u001B[0;32m/databricks/python/lib/python3.9/site-packages/pandas/core/dtypes/cast.py:1181\u001B[0m, in \u001B[0;36mastype_nansafe\u001B[0;34m(arr, dtype, copy, skipna)\u001B[0m\n",
       "\u001B[1;32m   1177\u001B[0m     \u001B[38;5;28;01mraise\u001B[39;00m \u001B[38;5;167;01mValueError\u001B[39;00m(msg)\n",
       "\u001B[1;32m   1179\u001B[0m \u001B[38;5;28;01mif\u001B[39;00m copy \u001B[38;5;129;01mor\u001B[39;00m is_object_dtype(arr\u001B[38;5;241m.\u001B[39mdtype) \u001B[38;5;129;01mor\u001B[39;00m is_object_dtype(dtype):\n",
       "\u001B[1;32m   1180\u001B[0m     \u001B[38;5;66;03m# Explicit copy, or required since NumPy can't view from / to object.\u001B[39;00m\n",
       "\u001B[0;32m-> 1181\u001B[0m     \u001B[38;5;28;01mreturn\u001B[39;00m \u001B[43marr\u001B[49m\u001B[38;5;241;43m.\u001B[39;49m\u001B[43mastype\u001B[49m\u001B[43m(\u001B[49m\u001B[43mdtype\u001B[49m\u001B[43m,\u001B[49m\u001B[43m \u001B[49m\u001B[43mcopy\u001B[49m\u001B[38;5;241;43m=\u001B[39;49m\u001B[38;5;28;43;01mTrue\u001B[39;49;00m\u001B[43m)\u001B[49m\n",
       "\u001B[1;32m   1183\u001B[0m \u001B[38;5;28;01mreturn\u001B[39;00m arr\u001B[38;5;241m.\u001B[39mastype(dtype, copy\u001B[38;5;241m=\u001B[39mcopy)\n",
       "\n",
       "\u001B[0;31mValueError\u001B[0m: could not convert string to float: '52 km al SUROESTE de PINOTEPA NACIONAL, OAX'"
      ]
     },
     "metadata": {
      "application/vnd.databricks.v1+output": {
       "arguments": {},
       "data": "\u001B[0;31m---------------------------------------------------------------------------\u001B[0m\n\u001B[0;31mValueError\u001B[0m                                Traceback (most recent call last)\nFile \u001B[0;32m<command-1484620441005869>:10\u001B[0m\n\u001B[1;32m      7\u001B[0m     \u001B[38;5;28;01melif\u001B[39;00m profundidad \u001B[38;5;241m>\u001B[39m \u001B[38;5;241m30\u001B[39m:\n\u001B[1;32m      8\u001B[0m         \u001B[38;5;28;01mreturn\u001B[39;00m\u001B[38;5;124m\"\u001B[39m\u001B[38;5;124mProfundo\u001B[39m\u001B[38;5;124m\"\u001B[39m\n\u001B[0;32m---> 10\u001B[0m df_E[\u001B[38;5;124m'\u001B[39m\u001B[38;5;124mProfundidad\u001B[39m\u001B[38;5;124m'\u001B[39m] \u001B[38;5;241m=\u001B[39m df_E[\u001B[38;5;124m'\u001B[39m\u001B[38;5;124mProfundidad\u001B[39m\u001B[38;5;124m'\u001B[39m]\u001B[38;5;241m.\u001B[39mastype(\u001B[38;5;28mfloat\u001B[39m)  \u001B[38;5;66;03m# Convertir a tipo float\u001B[39;00m\n\u001B[1;32m     12\u001B[0m \u001B[38;5;66;03m# Aplicar la función a cada fila de la columna \"Profundidad\" y crear la nueva columna \"Clasificación Profundidad\"\u001B[39;00m\n\u001B[1;32m     13\u001B[0m df_E[\u001B[38;5;124m'\u001B[39m\u001B[38;5;124mClasificación Profundidad\u001B[39m\u001B[38;5;124m'\u001B[39m] \u001B[38;5;241m=\u001B[39m df_E[\u001B[38;5;124m'\u001B[39m\u001B[38;5;124mProfundidad\u001B[39m\u001B[38;5;124m'\u001B[39m]\u001B[38;5;241m.\u001B[39mapply(clasificar_profundidad)\n\nFile \u001B[0;32m/databricks/python/lib/python3.9/site-packages/pandas/core/generic.py:5912\u001B[0m, in \u001B[0;36mNDFrame.astype\u001B[0;34m(self, dtype, copy, errors)\u001B[0m\n\u001B[1;32m   5905\u001B[0m     results \u001B[38;5;241m=\u001B[39m [\n\u001B[1;32m   5906\u001B[0m         \u001B[38;5;28mself\u001B[39m\u001B[38;5;241m.\u001B[39miloc[:, i]\u001B[38;5;241m.\u001B[39mastype(dtype, copy\u001B[38;5;241m=\u001B[39mcopy)\n\u001B[1;32m   5907\u001B[0m         \u001B[38;5;28;01mfor\u001B[39;00m i \u001B[38;5;129;01min\u001B[39;00m \u001B[38;5;28mrange\u001B[39m(\u001B[38;5;28mlen\u001B[39m(\u001B[38;5;28mself\u001B[39m\u001B[38;5;241m.\u001B[39mcolumns))\n\u001B[1;32m   5908\u001B[0m     ]\n\u001B[1;32m   5910\u001B[0m \u001B[38;5;28;01melse\u001B[39;00m:\n\u001B[1;32m   5911\u001B[0m     \u001B[38;5;66;03m# else, only a single dtype is given\u001B[39;00m\n\u001B[0;32m-> 5912\u001B[0m     new_data \u001B[38;5;241m=\u001B[39m \u001B[38;5;28;43mself\u001B[39;49m\u001B[38;5;241;43m.\u001B[39;49m\u001B[43m_mgr\u001B[49m\u001B[38;5;241;43m.\u001B[39;49m\u001B[43mastype\u001B[49m\u001B[43m(\u001B[49m\u001B[43mdtype\u001B[49m\u001B[38;5;241;43m=\u001B[39;49m\u001B[43mdtype\u001B[49m\u001B[43m,\u001B[49m\u001B[43m \u001B[49m\u001B[43mcopy\u001B[49m\u001B[38;5;241;43m=\u001B[39;49m\u001B[43mcopy\u001B[49m\u001B[43m,\u001B[49m\u001B[43m \u001B[49m\u001B[43merrors\u001B[49m\u001B[38;5;241;43m=\u001B[39;49m\u001B[43merrors\u001B[49m\u001B[43m)\u001B[49m\n\u001B[1;32m   5913\u001B[0m     \u001B[38;5;28;01mreturn\u001B[39;00m \u001B[38;5;28mself\u001B[39m\u001B[38;5;241m.\u001B[39m_constructor(new_data)\u001B[38;5;241m.\u001B[39m__finalize__(\u001B[38;5;28mself\u001B[39m, method\u001B[38;5;241m=\u001B[39m\u001B[38;5;124m\"\u001B[39m\u001B[38;5;124mastype\u001B[39m\u001B[38;5;124m\"\u001B[39m)\n\u001B[1;32m   5915\u001B[0m \u001B[38;5;66;03m# GH 33113: handle empty frame or series\u001B[39;00m\n\nFile \u001B[0;32m/databricks/python/lib/python3.9/site-packages/pandas/core/internals/managers.py:419\u001B[0m, in \u001B[0;36mBaseBlockManager.astype\u001B[0;34m(self, dtype, copy, errors)\u001B[0m\n\u001B[1;32m    418\u001B[0m \u001B[38;5;28;01mdef\u001B[39;00m \u001B[38;5;21mastype\u001B[39m(\u001B[38;5;28mself\u001B[39m: T, dtype, copy: \u001B[38;5;28mbool\u001B[39m \u001B[38;5;241m=\u001B[39m \u001B[38;5;28;01mFalse\u001B[39;00m, errors: \u001B[38;5;28mstr\u001B[39m \u001B[38;5;241m=\u001B[39m \u001B[38;5;124m\"\u001B[39m\u001B[38;5;124mraise\u001B[39m\u001B[38;5;124m\"\u001B[39m) \u001B[38;5;241m-\u001B[39m\u001B[38;5;241m>\u001B[39m T:\n\u001B[0;32m--> 419\u001B[0m     \u001B[38;5;28;01mreturn\u001B[39;00m \u001B[38;5;28;43mself\u001B[39;49m\u001B[38;5;241;43m.\u001B[39;49m\u001B[43mapply\u001B[49m\u001B[43m(\u001B[49m\u001B[38;5;124;43m\"\u001B[39;49m\u001B[38;5;124;43mastype\u001B[39;49m\u001B[38;5;124;43m\"\u001B[39;49m\u001B[43m,\u001B[49m\u001B[43m \u001B[49m\u001B[43mdtype\u001B[49m\u001B[38;5;241;43m=\u001B[39;49m\u001B[43mdtype\u001B[49m\u001B[43m,\u001B[49m\u001B[43m \u001B[49m\u001B[43mcopy\u001B[49m\u001B[38;5;241;43m=\u001B[39;49m\u001B[43mcopy\u001B[49m\u001B[43m,\u001B[49m\u001B[43m \u001B[49m\u001B[43merrors\u001B[49m\u001B[38;5;241;43m=\u001B[39;49m\u001B[43merrors\u001B[49m\u001B[43m)\u001B[49m\n\nFile \u001B[0;32m/databricks/python/lib/python3.9/site-packages/pandas/core/internals/managers.py:304\u001B[0m, in \u001B[0;36mBaseBlockManager.apply\u001B[0;34m(self, f, align_keys, ignore_failures, **kwargs)\u001B[0m\n\u001B[1;32m    302\u001B[0m         applied \u001B[38;5;241m=\u001B[39m b\u001B[38;5;241m.\u001B[39mapply(f, \u001B[38;5;241m*\u001B[39m\u001B[38;5;241m*\u001B[39mkwargs)\n\u001B[1;32m    303\u001B[0m     \u001B[38;5;28;01melse\u001B[39;00m:\n\u001B[0;32m--> 304\u001B[0m         applied \u001B[38;5;241m=\u001B[39m \u001B[38;5;28;43mgetattr\u001B[39;49m\u001B[43m(\u001B[49m\u001B[43mb\u001B[49m\u001B[43m,\u001B[49m\u001B[43m \u001B[49m\u001B[43mf\u001B[49m\u001B[43m)\u001B[49m\u001B[43m(\u001B[49m\u001B[38;5;241;43m*\u001B[39;49m\u001B[38;5;241;43m*\u001B[39;49m\u001B[43mkwargs\u001B[49m\u001B[43m)\u001B[49m\n\u001B[1;32m    305\u001B[0m \u001B[38;5;28;01mexcept\u001B[39;00m (\u001B[38;5;167;01mTypeError\u001B[39;00m, \u001B[38;5;167;01mNotImplementedError\u001B[39;00m):\n\u001B[1;32m    306\u001B[0m     \u001B[38;5;28;01mif\u001B[39;00m \u001B[38;5;129;01mnot\u001B[39;00m ignore_failures:\n\nFile \u001B[0;32m/databricks/python/lib/python3.9/site-packages/pandas/core/internals/blocks.py:580\u001B[0m, in \u001B[0;36mBlock.astype\u001B[0;34m(self, dtype, copy, errors)\u001B[0m\n\u001B[1;32m    562\u001B[0m \u001B[38;5;124;03m\"\"\"\u001B[39;00m\n\u001B[1;32m    563\u001B[0m \u001B[38;5;124;03mCoerce to the new dtype.\u001B[39;00m\n\u001B[1;32m    564\u001B[0m \n\u001B[0;32m   (...)\u001B[0m\n\u001B[1;32m    576\u001B[0m \u001B[38;5;124;03mBlock\u001B[39;00m\n\u001B[1;32m    577\u001B[0m \u001B[38;5;124;03m\"\"\"\u001B[39;00m\n\u001B[1;32m    578\u001B[0m values \u001B[38;5;241m=\u001B[39m \u001B[38;5;28mself\u001B[39m\u001B[38;5;241m.\u001B[39mvalues\n\u001B[0;32m--> 580\u001B[0m new_values \u001B[38;5;241m=\u001B[39m \u001B[43mastype_array_safe\u001B[49m\u001B[43m(\u001B[49m\u001B[43mvalues\u001B[49m\u001B[43m,\u001B[49m\u001B[43m \u001B[49m\u001B[43mdtype\u001B[49m\u001B[43m,\u001B[49m\u001B[43m \u001B[49m\u001B[43mcopy\u001B[49m\u001B[38;5;241;43m=\u001B[39;49m\u001B[43mcopy\u001B[49m\u001B[43m,\u001B[49m\u001B[43m \u001B[49m\u001B[43merrors\u001B[49m\u001B[38;5;241;43m=\u001B[39;49m\u001B[43merrors\u001B[49m\u001B[43m)\u001B[49m\n\u001B[1;32m    582\u001B[0m new_values \u001B[38;5;241m=\u001B[39m maybe_coerce_values(new_values)\n\u001B[1;32m    583\u001B[0m newb \u001B[38;5;241m=\u001B[39m \u001B[38;5;28mself\u001B[39m\u001B[38;5;241m.\u001B[39mmake_block(new_values)\n\nFile \u001B[0;32m/databricks/python/lib/python3.9/site-packages/pandas/core/dtypes/cast.py:1292\u001B[0m, in \u001B[0;36mastype_array_safe\u001B[0;34m(values, dtype, copy, errors)\u001B[0m\n\u001B[1;32m   1289\u001B[0m     dtype \u001B[38;5;241m=\u001B[39m dtype\u001B[38;5;241m.\u001B[39mnumpy_dtype\n\u001B[1;32m   1291\u001B[0m \u001B[38;5;28;01mtry\u001B[39;00m:\n\u001B[0;32m-> 1292\u001B[0m     new_values \u001B[38;5;241m=\u001B[39m \u001B[43mastype_array\u001B[49m\u001B[43m(\u001B[49m\u001B[43mvalues\u001B[49m\u001B[43m,\u001B[49m\u001B[43m \u001B[49m\u001B[43mdtype\u001B[49m\u001B[43m,\u001B[49m\u001B[43m \u001B[49m\u001B[43mcopy\u001B[49m\u001B[38;5;241;43m=\u001B[39;49m\u001B[43mcopy\u001B[49m\u001B[43m)\u001B[49m\n\u001B[1;32m   1293\u001B[0m \u001B[38;5;28;01mexcept\u001B[39;00m (\u001B[38;5;167;01mValueError\u001B[39;00m, \u001B[38;5;167;01mTypeError\u001B[39;00m):\n\u001B[1;32m   1294\u001B[0m     \u001B[38;5;66;03m# e.g. astype_nansafe can fail on object-dtype of strings\u001B[39;00m\n\u001B[1;32m   1295\u001B[0m     \u001B[38;5;66;03m#  trying to convert to float\u001B[39;00m\n\u001B[1;32m   1296\u001B[0m     \u001B[38;5;28;01mif\u001B[39;00m errors \u001B[38;5;241m==\u001B[39m \u001B[38;5;124m\"\u001B[39m\u001B[38;5;124mignore\u001B[39m\u001B[38;5;124m\"\u001B[39m:\n\nFile \u001B[0;32m/databricks/python/lib/python3.9/site-packages/pandas/core/dtypes/cast.py:1237\u001B[0m, in \u001B[0;36mastype_array\u001B[0;34m(values, dtype, copy)\u001B[0m\n\u001B[1;32m   1234\u001B[0m     values \u001B[38;5;241m=\u001B[39m values\u001B[38;5;241m.\u001B[39mastype(dtype, copy\u001B[38;5;241m=\u001B[39mcopy)\n\u001B[1;32m   1236\u001B[0m \u001B[38;5;28;01melse\u001B[39;00m:\n\u001B[0;32m-> 1237\u001B[0m     values \u001B[38;5;241m=\u001B[39m \u001B[43mastype_nansafe\u001B[49m\u001B[43m(\u001B[49m\u001B[43mvalues\u001B[49m\u001B[43m,\u001B[49m\u001B[43m \u001B[49m\u001B[43mdtype\u001B[49m\u001B[43m,\u001B[49m\u001B[43m \u001B[49m\u001B[43mcopy\u001B[49m\u001B[38;5;241;43m=\u001B[39;49m\u001B[43mcopy\u001B[49m\u001B[43m)\u001B[49m\n\u001B[1;32m   1239\u001B[0m \u001B[38;5;66;03m# in pandas we don't store numpy str dtypes, so convert to object\u001B[39;00m\n\u001B[1;32m   1240\u001B[0m \u001B[38;5;28;01mif\u001B[39;00m \u001B[38;5;28misinstance\u001B[39m(dtype, np\u001B[38;5;241m.\u001B[39mdtype) \u001B[38;5;129;01mand\u001B[39;00m \u001B[38;5;28missubclass\u001B[39m(values\u001B[38;5;241m.\u001B[39mdtype\u001B[38;5;241m.\u001B[39mtype, \u001B[38;5;28mstr\u001B[39m):\n\nFile \u001B[0;32m/databricks/python/lib/python3.9/site-packages/pandas/core/dtypes/cast.py:1181\u001B[0m, in \u001B[0;36mastype_nansafe\u001B[0;34m(arr, dtype, copy, skipna)\u001B[0m\n\u001B[1;32m   1177\u001B[0m     \u001B[38;5;28;01mraise\u001B[39;00m \u001B[38;5;167;01mValueError\u001B[39;00m(msg)\n\u001B[1;32m   1179\u001B[0m \u001B[38;5;28;01mif\u001B[39;00m copy \u001B[38;5;129;01mor\u001B[39;00m is_object_dtype(arr\u001B[38;5;241m.\u001B[39mdtype) \u001B[38;5;129;01mor\u001B[39;00m is_object_dtype(dtype):\n\u001B[1;32m   1180\u001B[0m     \u001B[38;5;66;03m# Explicit copy, or required since NumPy can't view from / to object.\u001B[39;00m\n\u001B[0;32m-> 1181\u001B[0m     \u001B[38;5;28;01mreturn\u001B[39;00m \u001B[43marr\u001B[49m\u001B[38;5;241;43m.\u001B[39;49m\u001B[43mastype\u001B[49m\u001B[43m(\u001B[49m\u001B[43mdtype\u001B[49m\u001B[43m,\u001B[49m\u001B[43m \u001B[49m\u001B[43mcopy\u001B[49m\u001B[38;5;241;43m=\u001B[39;49m\u001B[38;5;28;43;01mTrue\u001B[39;49;00m\u001B[43m)\u001B[49m\n\u001B[1;32m   1183\u001B[0m \u001B[38;5;28;01mreturn\u001B[39;00m arr\u001B[38;5;241m.\u001B[39mastype(dtype, copy\u001B[38;5;241m=\u001B[39mcopy)\n\n\u001B[0;31mValueError\u001B[0m: could not convert string to float: '52 km al SUROESTE de PINOTEPA NACIONAL, OAX'",
       "errorSummary": "<span class='ansi-red-fg'>ValueError</span>: could not convert string to float: '52 km al SUROESTE de PINOTEPA NACIONAL, OAX'",
       "errorTraceType": "ansi",
       "metadata": {},
       "type": "ipynbError"
      }
     },
     "output_type": "display_data"
    }
   ],
   "source": [
    "def clasificar_profundidad(profundidad):\n",
    "\n",
    "    if profundidad <= 10:\n",
    "        return \"Superficial\"\n",
    "    elif profundidad > 10 and profundidad <= 30:\n",
    "        return\"Media\"\n",
    "    elif profundidad > 30:\n",
    "        return\"Profundo\"\n",
    "\n",
    "df_E['Profundidad'] = df_E['Profundidad'].astype(float)  # Convertir a tipo float\n",
    "\n",
    "# Aplicar la función a cada fila de la columna \"Profundidad\" y crear la nueva columna \"Clasificación Profundidad\"\n",
    "df_E['Clasificación Profundidad'] = df_E['Profundidad'].apply(clasificar_profundidad)"
   ]
  },
  {
   "cell_type": "code",
   "execution_count": 0,
   "metadata": {
    "application/vnd.databricks.v1+cell": {
     "cellMetadata": {
      "byteLimit": 2048000,
      "rowLimit": 10000
     },
     "inputWidgets": {},
     "nuid": "1345a96a-bad6-4165-a5c8-03144bc96b9c",
     "showTitle": false,
     "title": ""
    }
   },
   "outputs": [],
   "source": [
    "# Lista de columnas a eliminar\n",
    "columnas_eliminar = [\"Tipo\", \"Estatus\", \"Tsunami\",\"Fuente\",\"Significancia\",\"Ubicación\"]\n",
    "\n",
    "# Eliminar las columnas en Databricks\n",
    "df_E = df_E.drop(columnas_eliminar, axis = 1)"
   ]
  },
  {
   "cell_type": "code",
   "execution_count": 0,
   "metadata": {
    "application/vnd.databricks.v1+cell": {
     "cellMetadata": {
      "byteLimit": 2048000,
      "rowLimit": 10000
     },
     "inputWidgets": {},
     "nuid": "0c2893b1-9ac3-4a22-8aef-936cfbb19164",
     "showTitle": false,
     "title": ""
    }
   },
   "outputs": [],
   "source": [
    "df_E['Fecha_1'] = pd.to_datetime(df_E['Fecha'], unit='ms').dt.date\n",
    "df_E['Hora'] = pd.to_datetime(df_E['Fecha'], unit='ms').dt.strftime('%H:%M:%S')\n",
    "df_E = df_E.drop(columns='Fecha', axis = 1)\n",
    "df_E.rename(columns={'Fecha_1':'Fecha'}, inplace= True)\n",
    "df_E['País'] = 'EEUU'"
   ]
  },
  {
   "cell_type": "code",
   "execution_count": 0,
   "metadata": {
    "application/vnd.databricks.v1+cell": {
     "cellMetadata": {
      "byteLimit": 2048000,
      "rowLimit": 10000
     },
     "inputWidgets": {},
     "nuid": "200e6688-738f-448b-a505-893b8b4b52c3",
     "showTitle": false,
     "title": ""
    }
   },
   "outputs": [],
   "source": [
    "def Cambio_estado(obj):\n",
    "    if obj == 1:\n",
    "        obj = 'California'\n",
    "        return obj\n",
    "    elif obj == 2:\n",
    "        obj = 'Washington'\n",
    "        return obj\n",
    "    elif obj == 3:\n",
    "        obj = 'Oregon'\n",
    "        return obj\n",
    "    else:\n",
    "        obj = 'Alaska'  \n",
    "        return obj\n",
    "        "
   ]
  },
  {
   "cell_type": "code",
   "execution_count": 0,
   "metadata": {
    "application/vnd.databricks.v1+cell": {
     "cellMetadata": {
      "byteLimit": 2048000,
      "rowLimit": 10000
     },
     "inputWidgets": {},
     "nuid": "f41150af-2945-45f5-81d9-a76e259c73e0",
     "showTitle": false,
     "title": ""
    }
   },
   "outputs": [],
   "source": [
    "df_E['id_estado'] = df_E['id_estado'].apply(Cambio_estado)\n",
    "df_E.rename(columns={'id_estado':'Locación'}, inplace= True) \n",
    "df_E = df_E.reindex(columns = ['Fecha','Hora','Latitud','Longitud','País','Locación','Profundidad',\n",
    "                         'Clasificación Profundidad', 'Magnitud', 'Clasificación Magnitud'])\n",
    "\n",
    "df_E = df_E.sort_values('Fecha')\n",
    "df_E = df_E.reset_index(drop=True)\n",
    "Base_Final_EEUU = df_E"
   ]
  },
  {
   "cell_type": "code",
   "execution_count": 0,
   "metadata": {
    "application/vnd.databricks.v1+cell": {
     "cellMetadata": {
      "byteLimit": 2048000,
      "rowLimit": 10000
     },
     "inputWidgets": {},
     "nuid": "b60edf00-0675-4618-b8ec-017da55c0fdb",
     "showTitle": false,
     "title": ""
    }
   },
   "outputs": [],
   "source": [
    "#Base_Final_EEUU"
   ]
  },
  {
   "cell_type": "markdown",
   "metadata": {
    "application/vnd.databricks.v1+cell": {
     "cellMetadata": {
      "byteLimit": 2048000,
      "rowLimit": 10000
     },
     "inputWidgets": {},
     "nuid": "df2732f0-a91b-455d-b570-070b4604e47f",
     "showTitle": false,
     "title": ""
    }
   },
   "source": [
    "##Transformación Base México"
   ]
  },
  {
   "cell_type": "code",
   "execution_count": 0,
   "metadata": {
    "application/vnd.databricks.v1+cell": {
     "cellMetadata": {
      "byteLimit": 2048000,
      "rowLimit": 10000
     },
     "inputWidgets": {},
     "nuid": "b2e2512b-a4b4-4a94-b0e2-64a06cfc3033",
     "showTitle": false,
     "title": ""
    }
   },
   "outputs": [],
   "source": [
    "df_M.drop([\"Estatus\"],axis=1,inplace=True)\n",
    "df_M.rename(columns={\"Referencia de localizacion\":\"Locación\"},inplace=True)\n",
    "df_M[\"País\"] = 'México'"
   ]
  },
  {
   "cell_type": "code",
   "execution_count": 0,
   "metadata": {
    "application/vnd.databricks.v1+cell": {
     "cellMetadata": {
      "byteLimit": 2048000,
      "rowLimit": 10000
     },
     "inputWidgets": {},
     "nuid": "bc81ee0a-52de-4ef3-b1b6-0880a62b7409",
     "showTitle": false,
     "title": ""
    }
   },
   "outputs": [],
   "source": [
    "df_M.dropna(inplace=True)\n",
    "df_M.reset_index(inplace=True,drop=True)"
   ]
  },
  {
   "cell_type": "code",
   "execution_count": 0,
   "metadata": {
    "application/vnd.databricks.v1+cell": {
     "cellMetadata": {
      "byteLimit": 2048000,
      "rowLimit": 10000
     },
     "inputWidgets": {},
     "nuid": "58364806-ee98-4e3a-8e8b-38db4a749abd",
     "showTitle": false,
     "title": ""
    }
   },
   "outputs": [],
   "source": [
    "for indice in (range(len(df_M))):\n",
    "    estado = df_M[\"Locación\"][indice].split(\",\")[-1].strip()\n",
    "\n",
    "    if estado == \"OAX\":\n",
    "        df_M.loc[indice,\"Locación\"] = \"Oaxaca\"\n",
    "    elif estado == \"GRO\":\n",
    "        df_M.loc[indice,\"Locación\"] = \"Guerrero\"\n",
    "    elif estado == \"CHIS\":\n",
    "        df_M.loc[indice,\"Locación\"] = \"Chiapas\"\n",
    "    elif estado == \"MICH\":\n",
    "        df_M.loc[indice,\"Locación\"] = \"Michoacán\"\n",
    "    elif estado == \"BC\":\n",
    "        df_M.loc[indice,\"Locación\"] = \"Baja California\"\n",
    "    elif estado == \"JAL\":\n",
    "        df_M.loc[indice,\"Locación\"] = \"Jalisco\"\n",
    "    elif estado == \"COL\":\n",
    "        df_M.loc[indice,\"Locación\"] = \"Colima\" \n",
    "    elif estado == \"VER\":\n",
    "        df_M.loc[indice,\"Locación\"] = \"Veracruz\"\n",
    "    elif estado == \"BCS\":\n",
    "        df_M.loc[indice,\"Locación\"] = \"Baja California Sur\"\n",
    "    elif estado == \"SON\":\n",
    "        df_M.loc[indice,\"Locación\"] = \"Sonora\"\n",
    "    elif estado == \"PUE\":\n",
    "        df_M.loc[indice,\"Locación\"] = \"Puebla\"\n",
    "    elif estado == \"SIN\":\n",
    "        df_M.loc[indice,\"Locación\"] = \"Sinaloa\"\n",
    "    elif estado == \"HGO\":\n",
    "        df_M.loc[indice,\"Locación\"] = \"Hidalgo\"\n",
    "    \n",
    "    elif estado == \"CHIH\":\n",
    "        df_M.loc[indice,\"Locación\"] = \"Chihuahua\"\n",
    "    elif estado == \"MEX\":\n",
    "        df_M.loc[indice,\"Locación\"] = \"Mexico\"\n",
    "    elif estado == \"NL\":\n",
    "        df_M.loc[indice,\"Locación\"] = \"Nuevo León\"\n",
    "    elif estado == \"ZAC\":\n",
    "        df_M.loc[indice,\"Locación\"] = \"Zacatecas\"\n",
    "    elif estado == \"TAB\":\n",
    "        df_M.loc[indice,\"Locación\"] = \"Tabasco\"\n",
    "    elif estado == \"NAY\":\n",
    "        df_M.loc[indice,\"Locación\"] = \"Nayarit\"\n",
    "    elif estado == \"MOR\":\n",
    "        df_M.loc[indice,\"Locación\"] = \"Morelos\"\n",
    "    elif estado == \"CDMX\":\n",
    "        df_M.loc[indice,\"Locación\"] = \"Ciudad de México\"\n",
    "    elif estado == \"SLP\":\n",
    "        df_M.loc[indice,\"Locación\"] = \"San Luis Potosí\"\n",
    "    elif estado == \"COAH\":\n",
    "        df_M.loc[indice,\"Locación\"] = \"Coahuila de Zaragoza\"\n",
    "    elif estado == \"TAMS\":\n",
    "        df_M.loc[indice,\"Locación\"] = \"Tamaulipas\"\n",
    "    elif estado == \"GTO\":\n",
    "        df_M.loc[indice,\"Locación\"] = \"Guanajuato\"\n",
    "\n",
    "    elif estado == \"TLAX\":\n",
    "        df_M.loc[indice,\"Locación\"] = \"Tlaxcala\"\n",
    "    elif estado == \"DGO\":\n",
    "        df_M.loc[indice,\"Locación\"] = \"Durango\"\n",
    "    elif estado == \"AGS\":\n",
    "        df_M.loc[indice,\"Locación\"] = \"Aguascalientes\"\n",
    "    elif estado == \"QRO\":\n",
    "        df_M.loc[indice,\"Locación\"] = \"Querétaro\"\n",
    "    elif estado == \"QR\":\n",
    "        df_M.loc[indice,\"Locación\"] = \"Quintana Roo\"\n",
    "    elif estado == \"CAMP\":\n",
    "        df_M.loc[indice,\"Locación\"] = \"Campeche\"\n",
    "    elif estado == \"YUC\":\n",
    "        df_M.loc[indice,\"Locación\"] = \"Yucatán\"\n",
    "    elif estado == \"N\":\n",
    "        df_M.loc[indice,\"Locación\"] = \"Nuevo León\" \n"
   ]
  },
  {
   "cell_type": "code",
   "execution_count": 0,
   "metadata": {
    "application/vnd.databricks.v1+cell": {
     "cellMetadata": {
      "byteLimit": 2048000,
      "rowLimit": 10000
     },
     "inputWidgets": {},
     "nuid": "083ea747-3274-4b8b-b309-9d64f1aa310f",
     "showTitle": false,
     "title": ""
    }
   },
   "outputs": [],
   "source": [
    "lista = df_M[(df_M[\"Profundidad\"]==\"en revision\") | (df_M[\"Profundidad\"]==\"menos de 1\") | (df_M[\"Magnitud\"]==\"no calculable\")].index\n",
    "df_M.drop(index=lista,inplace=True)\n",
    "df_M.reset_index(inplace=True,drop=True)\n",
    "df_M['Profundidad'] = df_M['Profundidad'].astype(float)  # Convertir a tipo float\n",
    "# Aplicar la función a cada fila de la columna \"Profundidad\" y crear la nueva columna \"Clasificación Profundidad\"\n",
    "df_M['Clasificación Profundidad'] = df_M['Profundidad'].apply(clasificar_profundidad)"
   ]
  },
  {
   "cell_type": "code",
   "execution_count": 0,
   "metadata": {
    "application/vnd.databricks.v1+cell": {
     "cellMetadata": {
      "byteLimit": 2048000,
      "rowLimit": 10000
     },
     "inputWidgets": {},
     "nuid": "13dcd42d-91bd-4272-ab4c-551d39f0feb5",
     "showTitle": false,
     "title": ""
    }
   },
   "outputs": [],
   "source": [
    "def determinar_peligrosidad(magnitud):\n",
    "    if magnitud < 2.0:\n",
    "        return 'Micro Magnitud'\n",
    "    elif magnitud < 3.0:\n",
    "        return 'Menor Magnitud'\n",
    "    elif magnitud < 4.0:\n",
    "        return 'Ligera Magnitud'\n",
    "    elif magnitud < 5.0:\n",
    "        return 'Moderada Magnitud'\n",
    "    elif magnitud < 6.0:\n",
    "        return 'Fuerte Magnitud'\n",
    "    elif magnitud < 7.0:\n",
    "        return 'Mayor Magnitud'\n",
    "    elif magnitud < 8.0:\n",
    "        return 'Gran Magnitud'\n",
    "    else:\n",
    "        return 'Magnitud Épica'\n",
    "\n",
    "    # Convertir la columna \"Magnitud\" a tipo float si es necesario\n",
    "df_M['Magnitud'] = df_M['Magnitud'].astype(float)\n",
    "\n",
    "# Aplicar la función a cada fila de la columna \"Magnitud\" y crear la nueva columna \"peligrosidad\"\n",
    "df_M['Clasificación Magnitud'] = df_M['Magnitud'].apply(determinar_peligrosidad)"
   ]
  },
  {
   "cell_type": "code",
   "execution_count": 0,
   "metadata": {
    "application/vnd.databricks.v1+cell": {
     "cellMetadata": {
      "byteLimit": 2048000,
      "rowLimit": 10000
     },
     "inputWidgets": {},
     "nuid": "7f97155f-18b8-4101-9d92-2dbeebf0456a",
     "showTitle": false,
     "title": ""
    }
   },
   "outputs": [],
   "source": [
    "df_M.drop(columns=['Fecha UTC','Hora UTC'], inplace = True)\n",
    "df_M['Fecha'] = pd.to_datetime(df_M['Fecha'])"
   ]
  },
  {
   "cell_type": "code",
   "execution_count": 0,
   "metadata": {
    "application/vnd.databricks.v1+cell": {
     "cellMetadata": {
      "byteLimit": 2048000,
      "rowLimit": 10000
     },
     "inputWidgets": {},
     "nuid": "9d68708c-4135-43db-9ab4-56f70a3700ba",
     "showTitle": false,
     "title": ""
    }
   },
   "outputs": [],
   "source": [
    "df_M = df_M.reindex(columns = ['Fecha','Hora','Latitud','Longitud','País','Locación','Profundidad',\n",
    "                         'Clasificación Profundidad', 'Magnitud', 'Clasificación Magnitud'])"
   ]
  },
  {
   "cell_type": "code",
   "execution_count": 0,
   "metadata": {
    "application/vnd.databricks.v1+cell": {
     "cellMetadata": {
      "byteLimit": 2048000,
      "rowLimit": 10000
     },
     "inputWidgets": {},
     "nuid": "136db8f8-92f5-424c-95eb-6eb7b784d3c5",
     "showTitle": false,
     "title": ""
    }
   },
   "outputs": [],
   "source": [
    "#Base_Final_Mexico = df_M"
   ]
  },
  {
   "cell_type": "code",
   "execution_count": 0,
   "metadata": {
    "application/vnd.databricks.v1+cell": {
     "cellMetadata": {
      "byteLimit": 2048000,
      "rowLimit": 10000
     },
     "inputWidgets": {},
     "nuid": "574feee1-39b6-4bf8-9a3a-e52781002efa",
     "showTitle": false,
     "title": ""
    }
   },
   "outputs": [],
   "source": [
    "Base_Final_Mexico"
   ]
  },
  {
   "cell_type": "markdown",
   "metadata": {
    "application/vnd.databricks.v1+cell": {
     "cellMetadata": {},
     "inputWidgets": {},
     "nuid": "7ec00f42-24dc-4a9a-94f5-2337a5c7b78e",
     "showTitle": false,
     "title": ""
    }
   },
   "source": [
    "##Transformación Base Japón"
   ]
  },
  {
   "cell_type": "code",
   "execution_count": 0,
   "metadata": {
    "application/vnd.databricks.v1+cell": {
     "cellMetadata": {
      "byteLimit": 2048000,
      "rowLimit": 10000
     },
     "inputWidgets": {},
     "nuid": "9e4e0353-7ad4-4287-8d6f-f35c36b9f02f",
     "showTitle": false,
     "title": ""
    }
   },
   "outputs": [],
   "source": [
    "df_J[\"time\"] = pd.to_datetime(df_J[\"time\"])\n",
    "df_J[\"Fecha\"] = df_J[\"time\"].dt.strftime(\"%d/%m/%Y\")\n",
    "df_J[\"Hora\"] = df_J[\"time\"].dt.strftime(\"%H:%M:%S\")"
   ]
  },
  {
   "cell_type": "code",
   "execution_count": 0,
   "metadata": {
    "application/vnd.databricks.v1+cell": {
     "cellMetadata": {
      "byteLimit": 2048000,
      "rowLimit": 10000
     },
     "inputWidgets": {},
     "nuid": "9e19be91-aff9-43e9-a152-a1fb32bd0205",
     "showTitle": false,
     "title": ""
    }
   },
   "outputs": [],
   "source": [
    "df_J = df_J.rename(columns={\"latitude\" : \"Latitud\"})\n",
    "df_J = df_J.rename(columns={\"longitude\" : \"Longitud\"})\n",
    "df_J = df_J.rename(columns={\"depth\" : \"Profundidad\"})\n",
    "df_J = df_J.rename(columns={\"mag\" : \"Magnitud\"})"
   ]
  },
  {
   "cell_type": "code",
   "execution_count": 0,
   "metadata": {
    "application/vnd.databricks.v1+cell": {
     "cellMetadata": {
      "byteLimit": 2048000,
      "rowLimit": 10000
     },
     "inputWidgets": {},
     "nuid": "58778759-f20d-4a19-942d-8dabedce5089",
     "showTitle": false,
     "title": ""
    }
   },
   "outputs": [],
   "source": [
    "def obtener_pais(ubicacion):\n",
    "    if isinstance(ubicacion, str):\n",
    "        pais = ubicacion.split(',')[-1].strip()\n",
    "        return pais\n",
    "    else:\n",
    "        return 'Desconocido'"
   ]
  },
  {
   "cell_type": "code",
   "execution_count": 0,
   "metadata": {
    "application/vnd.databricks.v1+cell": {
     "cellMetadata": {
      "byteLimit": 2048000,
      "rowLimit": 10000
     },
     "inputWidgets": {},
     "nuid": "4820e771-dff2-4852-b183-2fa8d6efb8f1",
     "showTitle": false,
     "title": ""
    }
   },
   "outputs": [],
   "source": [
    "df_J[\"País\"] = df_J[\"place\"].apply(obtener_pais)"
   ]
  },
  {
   "cell_type": "code",
   "execution_count": 0,
   "metadata": {
    "application/vnd.databricks.v1+cell": {
     "cellMetadata": {
      "byteLimit": 2048000,
      "rowLimit": 10000
     },
     "inputWidgets": {},
     "nuid": "1c5b9542-2a7e-4508-8b9e-6860a2311de2",
     "showTitle": false,
     "title": ""
    }
   },
   "outputs": [],
   "source": [
    "df_J[\"País\"] = df_J[\"País\"].replace(\"Japan region\", \"Japan\")\n",
    "df_J[\"Localidad\"] = df_J[\"place\"].str.split(\",\").str[0].str.split(\"of\").str[-1].str.strip()\n",
    "columnas_eliminar = [\"magType\", \"nst\", \"gap\", \"dmin\", \"rms\", \"type\", \"horizontalError\", \"depthError\", \"magError\", \"magNst\", \"status\", \"locationSource\", \"magSource\", \"net\", \"id\", \"updated\", \"time\", \"place\"]\n",
    "df_J = df_J.drop(columns=columnas_eliminar, axis = 1)"
   ]
  },
  {
   "cell_type": "code",
   "execution_count": 0,
   "metadata": {
    "application/vnd.databricks.v1+cell": {
     "cellMetadata": {
      "byteLimit": 2048000,
      "rowLimit": 10000
     },
     "inputWidgets": {},
     "nuid": "b2dd422f-1ac7-492e-952c-6a8fb75baa23",
     "showTitle": false,
     "title": ""
    }
   },
   "outputs": [],
   "source": [
    "df_J = df_J.rename(columns={\"Localidad\" : \"Locación\"})\n",
    "df_J[\"Latitud\"] = pd.to_numeric(df_J[\"Latitud\"])\n",
    "df_J[\"Longitud\"] = pd.to_numeric(df_J[\"Longitud\"])\n",
    "df_J[\"Magnitud\"] = pd.to_numeric(df_J[\"Magnitud\"])\n",
    "df_J[\"Profundidad\"] = pd.to_numeric(df_J[\"Profundidad\"])\n",
    "df_J[\"Fecha\"] = pd.to_datetime(df_J[\"Fecha\"])"
   ]
  },
  {
   "cell_type": "code",
   "execution_count": 0,
   "metadata": {
    "application/vnd.databricks.v1+cell": {
     "cellMetadata": {
      "byteLimit": 2048000,
      "rowLimit": 10000
     },
     "inputWidgets": {},
     "nuid": "898360a6-14ac-4780-a1eb-3f5d95e8004d",
     "showTitle": false,
     "title": ""
    }
   },
   "outputs": [],
   "source": [
    "df_J.loc[:,\"Clasificación Profundidad\"] = 0\n",
    "\n",
    "for indice in range(len(df_J)):\n",
    "\n",
    "    valor_prof =float(df_J[\"Profundidad\"][indice])\n",
    "\n",
    "    if valor_prof <= 70:\n",
    "        df_J.loc[indice,\"Clasificación Profundidad\"] = \"Superficial\"\n",
    "\n",
    "    elif valor_prof > 70 and valor_prof <= 299:\n",
    "        df_J.loc[indice,\"Clasificación Profundidad\"] = \"Media\"\n",
    "        \n",
    "    elif valor_prof >= 300:\n",
    "        df_J.loc[indice,\"Clasificación Profundidad\"] = \"Profundo\""
   ]
  },
  {
   "cell_type": "code",
   "execution_count": 0,
   "metadata": {
    "application/vnd.databricks.v1+cell": {
     "cellMetadata": {
      "byteLimit": 2048000,
      "rowLimit": 10000
     },
     "inputWidgets": {},
     "nuid": "65f43159-8ad9-4449-a75d-c3fe7c201e72",
     "showTitle": false,
     "title": ""
    }
   },
   "outputs": [],
   "source": [
    "df_J[\"Clasificación Magnitud\"] = \"\"\n",
    "\n",
    "for i in range(df_J[\"Magnitud\"].size):\n",
    "    magnitud = float(df_J[\"Magnitud\"][i])\n",
    "\n",
    "    if magnitud >= 10:\n",
    "        df_J[\"Clasificación Magnitud\"][i] = \"Magnitud Épica\"\n",
    "\n",
    "    elif 8 <= magnitud < 9.9:\n",
    "        df_J[\"Clasificación Magnitud\"][i] = \"Gran Magnitud\"\n",
    "\n",
    "    elif 7 <= magnitud < 7.9:\n",
    "        df_J[\"Clasificación Magnitud\"][i] = \"Mayor Magnitud\"\n",
    "\n",
    "    elif 6 <= magnitud < 6.9:\n",
    "        df_J[\"Clasificación Magnitud\"][i] = \"Fuerte Magnitud\"\n",
    "\n",
    "    elif 5 <= magnitud < 5.9:\n",
    "        df_J[\"Clasificación Magnitud\"][i] = \"Mediana Magnitud\"\n",
    "\n",
    "    elif 4 <= magnitud < 4.9:\n",
    "        df_J[\"Clasificación Magnitud\"][i] = \"Ligera Magnitud\"\n",
    "\n",
    "    elif 3 <= magnitud < 3.9:\n",
    "        df_J[\"Clasificación Magnitud\"][i] = \"Menor Magnitud\"\n",
    "\n",
    "    elif 2 <= magnitud < 3.0:\n",
    "        df_J[\"Clasificación Magnitud\"][i] = \"Micro Magnitud\"\n"
   ]
  },
  {
   "cell_type": "code",
   "execution_count": 0,
   "metadata": {
    "application/vnd.databricks.v1+cell": {
     "cellMetadata": {
      "byteLimit": 2048000,
      "rowLimit": 10000
     },
     "inputWidgets": {},
     "nuid": "075f53a6-6667-427c-96d7-0e97a5cf8a84",
     "showTitle": false,
     "title": ""
    }
   },
   "outputs": [],
   "source": [
    "df_J = df_J[[\"Fecha\" , \"Hora\", \"Latitud\", \"Longitud\", \"País\", \"Locación\", \"Profundidad\", \"Clasificación Profundidad\", \"Magnitud\", \"Clasificación Magnitud\"]]\n",
    "df_J = df_J.sort_values('Fecha')\n",
    "df_J = df_J.reset_index(drop=True)"
   ]
  },
  {
   "cell_type": "code",
   "execution_count": 0,
   "metadata": {
    "application/vnd.databricks.v1+cell": {
     "cellMetadata": {
      "byteLimit": 2048000,
      "rowLimit": 10000
     },
     "inputWidgets": {},
     "nuid": "0f73e94c-e3b1-49c4-b5b4-f9c69fff3953",
     "showTitle": false,
     "title": ""
    }
   },
   "outputs": [],
   "source": [
    "#Base_Final_Japon = df_J"
   ]
  },
  {
   "cell_type": "code",
   "execution_count": 0,
   "metadata": {
    "application/vnd.databricks.v1+cell": {
     "cellMetadata": {
      "byteLimit": 2048000,
      "rowLimit": 10000
     },
     "inputWidgets": {},
     "nuid": "0bcfbf2e-5279-4d4b-981c-c119e1aa0c87",
     "showTitle": false,
     "title": ""
    }
   },
   "outputs": [],
   "source": [
    "Base_Final_Japon"
   ]
  },
  {
   "cell_type": "code",
   "execution_count": 0,
   "metadata": {
    "application/vnd.databricks.v1+cell": {
     "cellMetadata": {
      "byteLimit": 2048000,
      "rowLimit": 10000
     },
     "inputWidgets": {},
     "nuid": "63dd3299-5a54-4761-a55b-44d7bc94626a",
     "showTitle": false,
     "title": ""
    }
   },
   "outputs": [],
   "source": [
    "df_J['País'].value_counts()"
   ]
  },
  {
   "cell_type": "markdown",
   "metadata": {
    "application/vnd.databricks.v1+cell": {
     "cellMetadata": {
      "byteLimit": 2048000,
      "rowLimit": 10000
     },
     "inputWidgets": {},
     "nuid": "affd2473-3b34-4c23-890b-a8f421b0f2b7",
     "showTitle": false,
     "title": ""
    }
   },
   "source": [
    "##Conexión con Azure Synapse Analytics"
   ]
  },
  {
   "cell_type": "code",
   "execution_count": 0,
   "metadata": {
    "application/vnd.databricks.v1+cell": {
     "cellMetadata": {
      "byteLimit": 2048000,
      "rowLimit": 10000
     },
     "inputWidgets": {},
     "nuid": "944a3a04-32b0-4b6b-84eb-345ac3d1a0c9",
     "showTitle": false,
     "title": ""
    }
   },
   "outputs": [],
   "source": [
    "%pip install azure-synapse-spark"
   ]
  },
  {
   "cell_type": "code",
   "execution_count": 0,
   "metadata": {
    "application/vnd.databricks.v1+cell": {
     "cellMetadata": {
      "byteLimit": 2048000,
      "rowLimit": 10000
     },
     "inputWidgets": {},
     "nuid": "86846925-4240-4fc9-a2ff-d285451679c2",
     "showTitle": false,
     "title": ""
    }
   },
   "outputs": [],
   "source": [
    "from pyspark.sql import SparkSession\n"
   ]
  },
  {
   "cell_type": "code",
   "execution_count": 0,
   "metadata": {
    "application/vnd.databricks.v1+cell": {
     "cellMetadata": {
      "byteLimit": 2048000,
      "rowLimit": 10000
     },
     "inputWidgets": {},
     "nuid": "39650942-e145-45d6-94c5-3b5fec6c95dd",
     "showTitle": false,
     "title": ""
    }
   },
   "outputs": [],
   "source": [
    "import io"
   ]
  },
  {
   "cell_type": "code",
   "execution_count": 0,
   "metadata": {
    "application/vnd.databricks.v1+cell": {
     "cellMetadata": {
      "byteLimit": 2048000,
      "rowLimit": 10000
     },
     "inputWidgets": {},
     "nuid": "36f9d238-558c-44f9-84f9-af1f8917ba99",
     "showTitle": false,
     "title": ""
    }
   },
   "outputs": [],
   "source": [
    "#AQUI"
   ]
  },
  {
   "cell_type": "code",
   "execution_count": 0,
   "metadata": {
    "application/vnd.databricks.v1+cell": {
     "cellMetadata": {
      "byteLimit": 2048000,
      "rowLimit": 10000
     },
     "inputWidgets": {},
     "nuid": "f352f6eb-292f-48a0-8a30-06f441f47035",
     "showTitle": false,
     "title": ""
    }
   },
   "outputs": [],
   "source": [
    "csv_buffer = io.StringIO()\n",
    "Base_Final_EEUU.to_csv(csv_buffer, index=False)\n",
    "csv_data = csv_buffer.getvalue()"
   ]
  },
  {
   "cell_type": "code",
   "execution_count": 0,
   "metadata": {
    "application/vnd.databricks.v1+cell": {
     "cellMetadata": {
      "byteLimit": 2048000,
      "rowLimit": 10000
     },
     "inputWidgets": {},
     "nuid": "159e1cb7-45d2-4f05-b4f2-f9c8aeed29c3",
     "showTitle": false,
     "title": ""
    }
   },
   "outputs": [],
   "source": [
    "csv_buffer1 = io.StringIO()\n",
    "Base_Final_Japon.to_csv(csv_buffer1, index=False)\n",
    "csv_data1 = csv_buffer1.getvalue()"
   ]
  },
  {
   "cell_type": "code",
   "execution_count": 0,
   "metadata": {
    "application/vnd.databricks.v1+cell": {
     "cellMetadata": {
      "byteLimit": 2048000,
      "rowLimit": 10000
     },
     "inputWidgets": {},
     "nuid": "bd555b39-7f29-4dba-b066-050a5df14eea",
     "showTitle": false,
     "title": ""
    }
   },
   "outputs": [],
   "source": [
    "csv_buffer2 = io.StringIO()\n",
    "Base_Final_Mexico.to_csv(csv_buffer2, index=False)\n",
    "csv_data2 = csv_buffer2.getvalue()"
   ]
  },
  {
   "cell_type": "code",
   "execution_count": 0,
   "metadata": {
    "application/vnd.databricks.v1+cell": {
     "cellMetadata": {
      "byteLimit": 2048000,
      "rowLimit": 10000
     },
     "inputWidgets": {},
     "nuid": "45b04d8d-b75a-475b-95b2-1ff3e809a496",
     "showTitle": false,
     "title": ""
    }
   },
   "outputs": [],
   "source": [
    "csv_buffer3 = io.StringIO()\n",
    "Base_Final_Peru.to_csv(csv_buffer3, index=False)\n",
    "csv_data3 = csv_buffer3.getvalue()"
   ]
  },
  {
   "cell_type": "code",
   "execution_count": 0,
   "metadata": {
    "application/vnd.databricks.v1+cell": {
     "cellMetadata": {
      "byteLimit": 2048000,
      "rowLimit": 10000
     },
     "inputWidgets": {},
     "nuid": "9fb1779b-7659-4204-93a1-c82b0d9fe8b7",
     "showTitle": false,
     "title": ""
    }
   },
   "outputs": [],
   "source": [
    "storage_account_name = \"proyectofinalg2storage\"\n",
    "storage_account_key = \"KpHc/tnXOJuZPIfqCWWBrPuIYw6nYJ1N4nklLzX+QQ4v+eRpJcdcUf9Y22O95m7BpfdGmafD60s0+AStOOu6GA==*\"\n",
    "container_name = \"proyectofinalg2\"\n",
    "blob_name = \"Base_Final_EEUU.csv\"\n",
    "blob_name1 = \"Base_Final_Japon.csv\"\n",
    "blob_name2 = \"Base_Final_Mexico.csv\"\n",
    "blob_name3 = \"Base_Final_Peru.csv\""
   ]
  },
  {
   "cell_type": "code",
   "execution_count": 0,
   "metadata": {
    "application/vnd.databricks.v1+cell": {
     "cellMetadata": {
      "byteLimit": 2048000,
      "rowLimit": 10000
     },
     "inputWidgets": {},
     "nuid": "cbd5bd1d-a6e2-4db1-97fc-ffed884d3f55",
     "showTitle": false,
     "title": ""
    }
   },
   "outputs": [],
   "source": [
    "blob_service_client = BlobServiceClient(account_url=f\"https://{storage_account_name}.blob.core.windows.net\", credential=storage_account_key)\n",
    "container_client = blob_service_client.get_container_client(container_name)"
   ]
  },
  {
   "cell_type": "code",
   "execution_count": 0,
   "metadata": {
    "application/vnd.databricks.v1+cell": {
     "cellMetadata": {
      "byteLimit": 2048000,
      "rowLimit": 10000
     },
     "inputWidgets": {},
     "nuid": "02d943af-ee7c-4dda-bfd6-c66e22d8f243",
     "showTitle": false,
     "title": ""
    }
   },
   "outputs": [],
   "source": [
    "container_client.upload_blob(name=blob_name, data=csv_data, overwrite=True)\n",
    "container_client.upload_blob(name=blob_name1, data=csv_data1, overwrite=True)\n",
    "container_client.upload_blob(name=blob_name2, data=csv_data2, overwrite=True)\n",
    "container_client.upload_blob(name=blob_name3, data=csv_data3, overwrite=True)"
   ]
  },
  {
   "cell_type": "markdown",
   "metadata": {
    "application/vnd.databricks.v1+cell": {
     "cellMetadata": {},
     "inputWidgets": {},
     "nuid": "abe5eb0a-6685-48b9-aa3b-caacb7c6d864",
     "showTitle": false,
     "title": ""
    }
   },
   "source": [
    "## Nueva Conexion con las Bases"
   ]
  },
  {
   "cell_type": "code",
   "execution_count": 0,
   "metadata": {
    "application/vnd.databricks.v1+cell": {
     "cellMetadata": {
      "byteLimit": 2048000,
      "rowLimit": 10000
     },
     "inputWidgets": {},
     "nuid": "fafafd64-aff5-4187-8a39-ef9c1140317f",
     "showTitle": false,
     "title": ""
    }
   },
   "outputs": [
    {
     "output_type": "display_data",
     "data": {
      "text/plain": [
       "\u001B[0;31m---------------------------------------------------------------------------\u001B[0m\n",
       "\u001B[0;31mError\u001B[0m                                     Traceback (most recent call last)\n",
       "File \u001B[0;32m<command-1749255692757534>:14\u001B[0m\n",
       "\u001B[1;32m     11\u001B[0m conn_string \u001B[38;5;241m=\u001B[39m \u001B[38;5;124mf\u001B[39m\u001B[38;5;124m\"\u001B[39m\u001B[38;5;124mDRIVER=\u001B[39m\u001B[38;5;132;01m{\u001B[39;00mdriver\u001B[38;5;132;01m}\u001B[39;00m\u001B[38;5;124m;SERVER=\u001B[39m\u001B[38;5;132;01m{\u001B[39;00mserver\u001B[38;5;132;01m}\u001B[39;00m\u001B[38;5;124m;DATABASE=\u001B[39m\u001B[38;5;132;01m{\u001B[39;00mdatabase\u001B[38;5;132;01m}\u001B[39;00m\u001B[38;5;124m;UID=\u001B[39m\u001B[38;5;132;01m{\u001B[39;00musername\u001B[38;5;132;01m}\u001B[39;00m\u001B[38;5;124m;PWD=\u001B[39m\u001B[38;5;132;01m{\u001B[39;00mpassword\u001B[38;5;132;01m}\u001B[39;00m\u001B[38;5;124m\"\u001B[39m\n",
       "\u001B[1;32m     13\u001B[0m \u001B[38;5;66;03m# Establece la conexión\u001B[39;00m\n",
       "\u001B[0;32m---> 14\u001B[0m conn \u001B[38;5;241m=\u001B[39m pyodbc\u001B[38;5;241m.\u001B[39mconnect(conn_string)\n",
       "\u001B[1;32m     16\u001B[0m \u001B[38;5;66;03m# Crea un cursor para ejecutar consultas\u001B[39;00m\n",
       "\u001B[1;32m     17\u001B[0m cursor \u001B[38;5;241m=\u001B[39m conn\u001B[38;5;241m.\u001B[39mcursor()\n",
       "\n",
       "\u001B[0;31mError\u001B[0m: ('01000', \"[01000] [unixODBC][Driver Manager]Can't open lib 'ODBC Driver 17 for SQL Server' : file not found (0) (SQLDriverConnect)\")"
      ]
     },
     "metadata": {
      "application/vnd.databricks.v1+output": {
       "arguments": {},
       "data": "\u001B[0;31m---------------------------------------------------------------------------\u001B[0m\n\u001B[0;31mError\u001B[0m                                     Traceback (most recent call last)\nFile \u001B[0;32m<command-1749255692757534>:14\u001B[0m\n\u001B[1;32m     11\u001B[0m conn_string \u001B[38;5;241m=\u001B[39m \u001B[38;5;124mf\u001B[39m\u001B[38;5;124m\"\u001B[39m\u001B[38;5;124mDRIVER=\u001B[39m\u001B[38;5;132;01m{\u001B[39;00mdriver\u001B[38;5;132;01m}\u001B[39;00m\u001B[38;5;124m;SERVER=\u001B[39m\u001B[38;5;132;01m{\u001B[39;00mserver\u001B[38;5;132;01m}\u001B[39;00m\u001B[38;5;124m;DATABASE=\u001B[39m\u001B[38;5;132;01m{\u001B[39;00mdatabase\u001B[38;5;132;01m}\u001B[39;00m\u001B[38;5;124m;UID=\u001B[39m\u001B[38;5;132;01m{\u001B[39;00musername\u001B[38;5;132;01m}\u001B[39;00m\u001B[38;5;124m;PWD=\u001B[39m\u001B[38;5;132;01m{\u001B[39;00mpassword\u001B[38;5;132;01m}\u001B[39;00m\u001B[38;5;124m\"\u001B[39m\n\u001B[1;32m     13\u001B[0m \u001B[38;5;66;03m# Establece la conexión\u001B[39;00m\n\u001B[0;32m---> 14\u001B[0m conn \u001B[38;5;241m=\u001B[39m pyodbc\u001B[38;5;241m.\u001B[39mconnect(conn_string)\n\u001B[1;32m     16\u001B[0m \u001B[38;5;66;03m# Crea un cursor para ejecutar consultas\u001B[39;00m\n\u001B[1;32m     17\u001B[0m cursor \u001B[38;5;241m=\u001B[39m conn\u001B[38;5;241m.\u001B[39mcursor()\n\n\u001B[0;31mError\u001B[0m: ('01000', \"[01000] [unixODBC][Driver Manager]Can't open lib 'ODBC Driver 17 for SQL Server' : file not found (0) (SQLDriverConnect)\")",
       "errorSummary": "<span class='ansi-red-fg'>Error</span>: ('01000', \"[01000] [unixODBC][Driver Manager]Can't open lib 'ODBC Driver 17 for SQL Server' : file not found (0) (SQLDriverConnect)\")",
       "errorTraceType": "ansi",
       "metadata": {},
       "type": "ipynbError"
      }
     },
     "output_type": "display_data"
    }
   ],
   "source": [
    "import pyodbc\n",
    "\n",
    "# Configura la conexión a la base de datos\n",
    "server = 'tcp:myworkspaceg2.sql.azuresynapse.net,1433'\n",
    "database = 'sqlproyectofinal'\n",
    "username = 'sqladminuser'\n",
    "password = 'Edward80762107'\n",
    "driver = '{ODBC Driver 17 for SQL Server}'  # Asegúrate de tener el controlador correcto instalado\n",
    "\n",
    "# Crea la cadena de conexión\n",
    "conn_string = f\"DRIVER={driver};SERVER={server};DATABASE={database};UID={username};PWD={password}\"\n",
    "\n",
    "# Establece la conexión\n",
    "conn = pyodbc.connect(conn_string)\n",
    "\n",
    "# Crea un cursor para ejecutar consultas\n",
    "cursor = conn.cursor()\n",
    "\n",
    "# Ejecuta una consulta\n",
    "cursor.execute(\"SELECT * FROM Base_Final_EEUU\")\n"
   ]
  }
 ],
 "metadata": {
  "application/vnd.databricks.v1+notebook": {
   "dashboards": [],
   "language": "python",
   "notebookMetadata": {
    "pythonIndentUnit": 4
   },
   "notebookName": "Proyecto Final G2",
   "widgets": {}
  }
 },
 "nbformat": 4,
 "nbformat_minor": 0
}
