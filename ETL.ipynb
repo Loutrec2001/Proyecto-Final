{
 "cells": [
  {
   "cell_type": "code",
   "execution_count": 0,
   "metadata": {
    "application/vnd.databricks.v1+cell": {
     "cellMetadata": {
      "byteLimit": 2048000,
      "rowLimit": 10000
     },
     "inputWidgets": {},
     "nuid": "8958a76f-0644-473d-9dc6-3d7d4cd96f45",
     "showTitle": false,
     "title": ""
    }
   },
   "outputs": [
    {
     "output_type": "stream",
     "name": "stdout",
     "output_type": "stream",
     "text": [
      "Python interpreter will be restarted.\nCollecting azure-storage-blob\n  Downloading azure_storage_blob-12.17.0-py3-none-any.whl (388 kB)\nCollecting typing-extensions>=4.3.0\n  Downloading typing_extensions-4.7.1-py3-none-any.whl (33 kB)\nCollecting isodate>=0.6.1\n  Downloading isodate-0.6.1-py2.py3-none-any.whl (41 kB)\nRequirement already satisfied: cryptography>=2.1.4 in /databricks/python3/lib/python3.9/site-packages (from azure-storage-blob) (3.4.8)\nCollecting azure-core<2.0.0,>=1.28.0\n  Downloading azure_core-1.28.0-py3-none-any.whl (185 kB)\nRequirement already satisfied: six>=1.11.0 in /databricks/python3/lib/python3.9/site-packages (from azure-core<2.0.0,>=1.28.0->azure-storage-blob) (1.16.0)\nRequirement already satisfied: requests>=2.18.4 in /databricks/python3/lib/python3.9/site-packages (from azure-core<2.0.0,>=1.28.0->azure-storage-blob) (2.27.1)\nRequirement already satisfied: cffi>=1.12 in /databricks/python3/lib/python3.9/site-packages (from cryptography>=2.1.4->azure-storage-blob) (1.15.0)\nRequirement already satisfied: pycparser in /databricks/python3/lib/python3.9/site-packages (from cffi>=1.12->cryptography>=2.1.4->azure-storage-blob) (2.21)\nRequirement already satisfied: idna<4,>=2.5 in /databricks/python3/lib/python3.9/site-packages (from requests>=2.18.4->azure-core<2.0.0,>=1.28.0->azure-storage-blob) (3.3)\nRequirement already satisfied: charset-normalizer~=2.0.0 in /databricks/python3/lib/python3.9/site-packages (from requests>=2.18.4->azure-core<2.0.0,>=1.28.0->azure-storage-blob) (2.0.4)\nRequirement already satisfied: urllib3<1.27,>=1.21.1 in /databricks/python3/lib/python3.9/site-packages (from requests>=2.18.4->azure-core<2.0.0,>=1.28.0->azure-storage-blob) (1.26.9)\nRequirement already satisfied: certifi>=2017.4.17 in /databricks/python3/lib/python3.9/site-packages (from requests>=2.18.4->azure-core<2.0.0,>=1.28.0->azure-storage-blob) (2021.10.8)\nInstalling collected packages: typing-extensions, isodate, azure-core, azure-storage-blob\n  Attempting uninstall: typing-extensions\n    Found existing installation: typing-extensions 4.1.1\n    Not uninstalling typing-extensions at /databricks/python3/lib/python3.9/site-packages, outside environment /local_disk0/.ephemeral_nfs/envs/pythonEnv-994cc749-c4f9-4331-b638-badef3e7ad8b\n    Can't uninstall 'typing-extensions'. No files were found to uninstall.\nSuccessfully installed azure-core-1.28.0 azure-storage-blob-12.17.0 isodate-0.6.1 typing-extensions-4.7.1\nPython interpreter will be restarted.\n"
     ]
    }
   ],
   "source": [
    "%pip install azure-storage-blob\n"
   ]
  },
  {
   "cell_type": "code",
   "execution_count": 0,
   "metadata": {
    "application/vnd.databricks.v1+cell": {
     "cellMetadata": {
      "byteLimit": 2048000,
      "rowLimit": 10000
     },
     "inputWidgets": {},
     "nuid": "affbac7d-5ac2-411e-9d30-9d369353a71c",
     "showTitle": false,
     "title": ""
    }
   },
   "outputs": [
    {
     "output_type": "display_data",
     "data": {
      "application/vnd.databricks.v1+bamboolib_hint": "{\"pd.DataFrames\": [], \"version\": \"0.0.1\"}",
      "text/plain": []
     },
     "metadata": {},
     "output_type": "display_data"
    }
   ],
   "source": [
    "%run \"/Users/anaparrillo03@gmail.com/Carga de Datos\""
   ]
  },
  {
   "cell_type": "code",
   "execution_count": 0,
   "metadata": {
    "application/vnd.databricks.v1+cell": {
     "cellMetadata": {
      "byteLimit": 2048000,
      "rowLimit": 10000
     },
     "inputWidgets": {},
     "nuid": "a9ef04cd-ec93-4432-9962-e8fe6a786622",
     "showTitle": false,
     "title": ""
    }
   },
   "outputs": [],
   "source": [
    "df_E = df_Usa.toPandas()\n",
    "df_M = df_Mexico.toPandas()\n",
    "df_J = df_Japon.toPandas()\n",
    "df_P = df_Peru.toPandas()"
   ]
  },
  {
   "cell_type": "code",
   "execution_count": 0,
   "metadata": {
    "application/vnd.databricks.v1+cell": {
     "cellMetadata": {
      "byteLimit": 2048000,
      "rowLimit": 10000
     },
     "inputWidgets": {},
     "nuid": "4f359974-dfa3-425a-8eb9-ce5d7d78f55e",
     "showTitle": false,
     "title": ""
    }
   },
   "outputs": [],
   "source": [
    "# Importar funciones y librerias\n",
    "from pyspark.sql.functions import *\n",
    "import seaborn as sns\n",
    "import pandas as pd\n",
    "import matplotlib as plt\n",
    "import warnings\n",
    "warnings.filterwarnings(\"ignore\")"
   ]
  },
  {
   "cell_type": "markdown",
   "metadata": {
    "application/vnd.databricks.v1+cell": {
     "cellMetadata": {
      "byteLimit": 2048000,
      "rowLimit": 10000
     },
     "inputWidgets": {},
     "nuid": "63d6510d-35b7-496f-93f3-56f5c52bacd2",
     "showTitle": false,
     "title": ""
    }
   },
   "source": [
    "## Tranformaciones base Perú"
   ]
  },
  {
   "cell_type": "code",
   "execution_count": 0,
   "metadata": {
    "application/vnd.databricks.v1+cell": {
     "cellMetadata": {
      "byteLimit": 2048000,
      "rowLimit": 10000
     },
     "inputWidgets": {},
     "nuid": "17e11938-5515-4025-a5d3-7ae7fac94047",
     "showTitle": false,
     "title": ""
    }
   },
   "outputs": [],
   "source": [
    "# Cambiar tipo de Dato\n",
    "df_P['Magnitud'] = pd.to_numeric(df_P['Magnitud'])\n",
    "df_P[\"Profundidad\"] = pd.to_numeric(df_P[\"Profundidad\"])\n",
    "df_P['Fecha'] = pd.to_datetime(df_P['Fecha'], errors='ignore')"
   ]
  },
  {
   "cell_type": "code",
   "execution_count": 0,
   "metadata": {
    "application/vnd.databricks.v1+cell": {
     "cellMetadata": {
      "byteLimit": 2048000,
      "rowLimit": 10000
     },
     "inputWidgets": {},
     "nuid": "174c6772-7e5a-4ea1-bbdc-c862bc7516b3",
     "showTitle": false,
     "title": ""
    }
   },
   "outputs": [],
   "source": [
    "df_P['Longitud'] = df_P['Longitud'].astype(str)\n",
    "df_P['Latitud'] = df_P['Latitud'].astype(str)\n",
    "df_P['Coordenadas'] = df_P['Latitud'] + ', ' + df_P['Longitud']\n",
    "df_P['País'] = 'Perú'"
   ]
  },
  {
   "cell_type": "code",
   "execution_count": 0,
   "metadata": {
    "application/vnd.databricks.v1+cell": {
     "cellMetadata": {
      "byteLimit": 2048000,
      "rowLimit": 10000
     },
     "inputWidgets": {},
     "nuid": "2df3953d-c925-4580-886e-86cd507d3a9f",
     "showTitle": false,
     "title": ""
    }
   },
   "outputs": [],
   "source": [
    "!pip install reverse_geocoder\n",
    "import reverse_geocoder as rg"
   ]
  },
  {
   "cell_type": "code",
   "execution_count": 0,
   "metadata": {
    "application/vnd.databricks.v1+cell": {
     "cellMetadata": {
      "byteLimit": 2048000,
      "rowLimit": 10000
     },
     "inputWidgets": {},
     "nuid": "6c74f3c0-092b-4343-b035-2f3572f7d857",
     "showTitle": false,
     "title": ""
    }
   },
   "outputs": [
    {
     "output_type": "display_data",
     "data": {
      "text/html": [
       "<div>\n",
       "<style scoped>\n",
       "    .dataframe tbody tr th:only-of-type {\n",
       "        vertical-align: middle;\n",
       "    }\n",
       "\n",
       "    .dataframe tbody tr th {\n",
       "        vertical-align: top;\n",
       "    }\n",
       "\n",
       "    .dataframe thead th {\n",
       "        text-align: right;\n",
       "    }\n",
       "</style>\n",
       "<table border=\"1\" class=\"dataframe\">\n",
       "  <thead>\n",
       "    <tr style=\"text-align: right;\">\n",
       "      <th></th>\n",
       "      <th>Fecha</th>\n",
       "      <th>Hora</th>\n",
       "      <th>Latitud</th>\n",
       "      <th>Longitud</th>\n",
       "      <th>Profundidad</th>\n",
       "      <th>Magnitud</th>\n",
       "      <th>Coordenadas</th>\n",
       "      <th>País</th>\n",
       "    </tr>\n",
       "  </thead>\n",
       "  <tbody>\n",
       "    <tr>\n",
       "      <th>0</th>\n",
       "      <td>2008-05-20</td>\n",
       "      <td>21:37:11.00</td>\n",
       "      <td>-8.6391</td>\n",
       "      <td>-74.7701</td>\n",
       "      <td>135.0</td>\n",
       "      <td>5.7</td>\n",
       "      <td>-8.6391, -74.7701</td>\n",
       "      <td>Perú</td>\n",
       "    </tr>\n",
       "    <tr>\n",
       "      <th>1</th>\n",
       "      <td>2008-07-06</td>\n",
       "      <td>13:06:29.00</td>\n",
       "      <td>-12.4652</td>\n",
       "      <td>-77.3985</td>\n",
       "      <td>66.0</td>\n",
       "      <td>5.3</td>\n",
       "      <td>-12.4652, -77.3985</td>\n",
       "      <td>Perú</td>\n",
       "    </tr>\n",
       "    <tr>\n",
       "      <th>2</th>\n",
       "      <td>2008-01-26</td>\n",
       "      <td>12:03:18.00</td>\n",
       "      <td>-5.947</td>\n",
       "      <td>-75.4306</td>\n",
       "      <td>156.0</td>\n",
       "      <td>4.5</td>\n",
       "      <td>-5.947, -75.4306</td>\n",
       "      <td>Perú</td>\n",
       "    </tr>\n",
       "    <tr>\n",
       "      <th>3</th>\n",
       "      <td>2008-10-01</td>\n",
       "      <td>21:46:29.00</td>\n",
       "      <td>-7.1948</td>\n",
       "      <td>-75.1474</td>\n",
       "      <td>170.0</td>\n",
       "      <td>4.5</td>\n",
       "      <td>-7.1948, -75.1474</td>\n",
       "      <td>Perú</td>\n",
       "    </tr>\n",
       "    <tr>\n",
       "      <th>4</th>\n",
       "      <td>2008-08-03</td>\n",
       "      <td>23:51:10.00</td>\n",
       "      <td>-13.348</td>\n",
       "      <td>-76.8272</td>\n",
       "      <td>29.0</td>\n",
       "      <td>5.2</td>\n",
       "      <td>-13.348, -76.8272</td>\n",
       "      <td>Perú</td>\n",
       "    </tr>\n",
       "    <tr>\n",
       "      <th>...</th>\n",
       "      <td>...</td>\n",
       "      <td>...</td>\n",
       "      <td>...</td>\n",
       "      <td>...</td>\n",
       "      <td>...</td>\n",
       "      <td>...</td>\n",
       "      <td>...</td>\n",
       "      <td>...</td>\n",
       "    </tr>\n",
       "    <tr>\n",
       "      <th>10884</th>\n",
       "      <td>2023-03-27</td>\n",
       "      <td>20:13:13</td>\n",
       "      <td>-10.53</td>\n",
       "      <td>-74.7</td>\n",
       "      <td>134.0</td>\n",
       "      <td>4.6</td>\n",
       "      <td>-10.53, -74.7</td>\n",
       "      <td>Perú</td>\n",
       "    </tr>\n",
       "    <tr>\n",
       "      <th>10885</th>\n",
       "      <td>2022-10-28</td>\n",
       "      <td>23:19:58</td>\n",
       "      <td>-3.76</td>\n",
       "      <td>-76.53</td>\n",
       "      <td>110.0</td>\n",
       "      <td>4.8</td>\n",
       "      <td>-3.76, -76.53</td>\n",
       "      <td>Perú</td>\n",
       "    </tr>\n",
       "    <tr>\n",
       "      <th>10886</th>\n",
       "      <td>2023-05-22</td>\n",
       "      <td>00:05:45</td>\n",
       "      <td>-15.81</td>\n",
       "      <td>-73.32</td>\n",
       "      <td>92.0</td>\n",
       "      <td>4.2</td>\n",
       "      <td>-15.81, -73.32</td>\n",
       "      <td>Perú</td>\n",
       "    </tr>\n",
       "    <tr>\n",
       "      <th>10887</th>\n",
       "      <td>2022-10-28</td>\n",
       "      <td>23:35:13</td>\n",
       "      <td>-14.61</td>\n",
       "      <td>-76.41</td>\n",
       "      <td>15.0</td>\n",
       "      <td>5.2</td>\n",
       "      <td>-14.61, -76.41</td>\n",
       "      <td>Perú</td>\n",
       "    </tr>\n",
       "    <tr>\n",
       "      <th>10888</th>\n",
       "      <td>2023-02-04</td>\n",
       "      <td>12:32:40</td>\n",
       "      <td>-1.85</td>\n",
       "      <td>-77.87</td>\n",
       "      <td>188.0</td>\n",
       "      <td>4.5</td>\n",
       "      <td>-1.85, -77.87</td>\n",
       "      <td>Perú</td>\n",
       "    </tr>\n",
       "  </tbody>\n",
       "</table>\n",
       "<p>10889 rows × 8 columns</p>\n",
       "</div>"
      ]
     },
     "metadata": {
      "application/vnd.databricks.v1+output": {
       "addedWidgets": {},
       "arguments": {},
       "data": "<div>\n<style scoped>\n    .dataframe tbody tr th:only-of-type {\n        vertical-align: middle;\n    }\n\n    .dataframe tbody tr th {\n        vertical-align: top;\n    }\n\n    .dataframe thead th {\n        text-align: right;\n    }\n</style>\n<table border=\"1\" class=\"dataframe\">\n  <thead>\n    <tr style=\"text-align: right;\">\n      <th></th>\n      <th>Fecha</th>\n      <th>Hora</th>\n      <th>Latitud</th>\n      <th>Longitud</th>\n      <th>Profundidad</th>\n      <th>Magnitud</th>\n      <th>Coordenadas</th>\n      <th>País</th>\n    </tr>\n  </thead>\n  <tbody>\n    <tr>\n      <th>0</th>\n      <td>2008-05-20</td>\n      <td>21:37:11.00</td>\n      <td>-8.6391</td>\n      <td>-74.7701</td>\n      <td>135.0</td>\n      <td>5.7</td>\n      <td>-8.6391, -74.7701</td>\n      <td>Perú</td>\n    </tr>\n    <tr>\n      <th>1</th>\n      <td>2008-07-06</td>\n      <td>13:06:29.00</td>\n      <td>-12.4652</td>\n      <td>-77.3985</td>\n      <td>66.0</td>\n      <td>5.3</td>\n      <td>-12.4652, -77.3985</td>\n      <td>Perú</td>\n    </tr>\n    <tr>\n      <th>2</th>\n      <td>2008-01-26</td>\n      <td>12:03:18.00</td>\n      <td>-5.947</td>\n      <td>-75.4306</td>\n      <td>156.0</td>\n      <td>4.5</td>\n      <td>-5.947, -75.4306</td>\n      <td>Perú</td>\n    </tr>\n    <tr>\n      <th>3</th>\n      <td>2008-10-01</td>\n      <td>21:46:29.00</td>\n      <td>-7.1948</td>\n      <td>-75.1474</td>\n      <td>170.0</td>\n      <td>4.5</td>\n      <td>-7.1948, -75.1474</td>\n      <td>Perú</td>\n    </tr>\n    <tr>\n      <th>4</th>\n      <td>2008-08-03</td>\n      <td>23:51:10.00</td>\n      <td>-13.348</td>\n      <td>-76.8272</td>\n      <td>29.0</td>\n      <td>5.2</td>\n      <td>-13.348, -76.8272</td>\n      <td>Perú</td>\n    </tr>\n    <tr>\n      <th>...</th>\n      <td>...</td>\n      <td>...</td>\n      <td>...</td>\n      <td>...</td>\n      <td>...</td>\n      <td>...</td>\n      <td>...</td>\n      <td>...</td>\n    </tr>\n    <tr>\n      <th>10884</th>\n      <td>2023-03-27</td>\n      <td>20:13:13</td>\n      <td>-10.53</td>\n      <td>-74.7</td>\n      <td>134.0</td>\n      <td>4.6</td>\n      <td>-10.53, -74.7</td>\n      <td>Perú</td>\n    </tr>\n    <tr>\n      <th>10885</th>\n      <td>2022-10-28</td>\n      <td>23:19:58</td>\n      <td>-3.76</td>\n      <td>-76.53</td>\n      <td>110.0</td>\n      <td>4.8</td>\n      <td>-3.76, -76.53</td>\n      <td>Perú</td>\n    </tr>\n    <tr>\n      <th>10886</th>\n      <td>2023-05-22</td>\n      <td>00:05:45</td>\n      <td>-15.81</td>\n      <td>-73.32</td>\n      <td>92.0</td>\n      <td>4.2</td>\n      <td>-15.81, -73.32</td>\n      <td>Perú</td>\n    </tr>\n    <tr>\n      <th>10887</th>\n      <td>2022-10-28</td>\n      <td>23:35:13</td>\n      <td>-14.61</td>\n      <td>-76.41</td>\n      <td>15.0</td>\n      <td>5.2</td>\n      <td>-14.61, -76.41</td>\n      <td>Perú</td>\n    </tr>\n    <tr>\n      <th>10888</th>\n      <td>2023-02-04</td>\n      <td>12:32:40</td>\n      <td>-1.85</td>\n      <td>-77.87</td>\n      <td>188.0</td>\n      <td>4.5</td>\n      <td>-1.85, -77.87</td>\n      <td>Perú</td>\n    </tr>\n  </tbody>\n</table>\n<p>10889 rows × 8 columns</p>\n</div>",
       "datasetInfos": [],
       "metadata": {},
       "removedWidgets": [],
       "textData": null,
       "type": "htmlSandbox"
      }
     },
     "output_type": "display_data"
    }
   ],
   "source": [
    "df_P"
   ]
  },
  {
   "cell_type": "code",
   "execution_count": 0,
   "metadata": {
    "application/vnd.databricks.v1+cell": {
     "cellMetadata": {
      "byteLimit": 2048000,
      "rowLimit": 10000
     },
     "inputWidgets": {},
     "nuid": "f4a654e0-32a5-460f-b4e7-ff36cd7a6ce6",
     "showTitle": false,
     "title": ""
    }
   },
   "outputs": [],
   "source": [
    "# Función Dirección Departamento\n",
    "def get_location_D(row):\n",
    "   lat, lon = row.split(',')\n",
    "   Departamento = rg.search([(float(lat), float(lon))])\n",
    "   return Departamento[0]['admin1']"
   ]
  },
  {
   "cell_type": "code",
   "execution_count": 0,
   "metadata": {
    "application/vnd.databricks.v1+cell": {
     "cellMetadata": {
      "byteLimit": 2048000,
      "rowLimit": 10000
     },
     "inputWidgets": {},
     "nuid": "5814a1c1-848c-4efe-889b-32382e02b73e",
     "showTitle": false,
     "title": ""
    }
   },
   "outputs": [
    {
     "output_type": "stream",
     "name": "stdout",
     "output_type": "stream",
     "text": [
      "Loading formatted geocoded file...\n"
     ]
    }
   ],
   "source": [
    "df_P['Locación'] = df_P['Coordenadas'].apply(get_location_D)"
   ]
  },
  {
   "cell_type": "code",
   "execution_count": 0,
   "metadata": {
    "application/vnd.databricks.v1+cell": {
     "cellMetadata": {
      "byteLimit": 2048000,
      "rowLimit": 10000
     },
     "inputWidgets": {},
     "nuid": "4b81e30a-8b92-4cd5-b536-2a2fc4d496e0",
     "showTitle": false,
     "title": ""
    }
   },
   "outputs": [],
   "source": [
    "df_P = df_P.drop('Coordenadas', axis=1)"
   ]
  },
  {
   "cell_type": "code",
   "execution_count": 0,
   "metadata": {
    "application/vnd.databricks.v1+cell": {
     "cellMetadata": {
      "byteLimit": 2048000,
      "rowLimit": 10000
     },
     "inputWidgets": {},
     "nuid": "4474c976-c589-4a0f-8b1f-538a2eee6575",
     "showTitle": false,
     "title": ""
    }
   },
   "outputs": [],
   "source": [
    "rangos = [(2, 2.9), (3, 3.9), (4, 4.9), (5, 5.9), (6, 6.9), (7, 7.9), (8, 9.9), (10, 15)]\n",
    "etiquetas = ['Micro Magnitud', 'Menor Magnitud', 'Ligera Magnitud', 'Moderada Magnitud',\n",
    "              'Fuerte Magnitud', 'Mayor Magnitud', 'Gran Magnitud', 'Magnitud Épica']\n",
    "\n",
    "df_P['Clasificación Magnitud'] = pd.cut(df_P['Magnitud'], bins=[lim[0] for lim in rangos] + [rangos[-1][1]],\n",
    "                               labels=etiquetas, right=False)"
   ]
  },
  {
   "cell_type": "code",
   "execution_count": 0,
   "metadata": {
    "application/vnd.databricks.v1+cell": {
     "cellMetadata": {
      "byteLimit": 2048000,
      "rowLimit": 10000
     },
     "inputWidgets": {},
     "nuid": "3dcd3216-1040-4805-a439-013e7e9acf6a",
     "showTitle": false,
     "title": ""
    }
   },
   "outputs": [],
   "source": [
    "rangos = [(0, 70), (70, 300), (300, 1500)]\n",
    "etiquetas = ['Superficial', 'Media', 'Profundo']\n",
    "\n",
    "df_P['Clasificación Profundidad'] = pd.cut(df_P['Profundidad'], bins=[lim[0] for lim in rangos] + [rangos[-1][1]],\n",
    "                               labels=etiquetas, right=False)"
   ]
  },
  {
   "cell_type": "code",
   "execution_count": 0,
   "metadata": {
    "application/vnd.databricks.v1+cell": {
     "cellMetadata": {
      "byteLimit": 2048000,
      "rowLimit": 10000
     },
     "inputWidgets": {},
     "nuid": "09be2f67-01e6-49f6-b62d-d1257ffe8608",
     "showTitle": false,
     "title": ""
    }
   },
   "outputs": [],
   "source": [
    "df_P = df_P.reindex(columns=['Fecha','Hora','Latitud','Longitud','País','Locación','Profundidad',\n",
    "                             'Clasificación Profundidad','Magnitud','Clasificación Magnitud'])"
   ]
  },
  {
   "cell_type": "code",
   "execution_count": 0,
   "metadata": {
    "application/vnd.databricks.v1+cell": {
     "cellMetadata": {
      "byteLimit": 2048000,
      "rowLimit": 10000
     },
     "inputWidgets": {},
     "nuid": "4da0d418-f75f-4275-a706-e7d7abcc2174",
     "showTitle": false,
     "title": ""
    }
   },
   "outputs": [],
   "source": [
    "df_P.rename(columns={'Locación':'Locacion'}, inplace = True)"
   ]
  },
  {
   "cell_type": "code",
   "execution_count": 0,
   "metadata": {
    "application/vnd.databricks.v1+cell": {
     "cellMetadata": {
      "byteLimit": 2048000,
      "rowLimit": 10000
     },
     "inputWidgets": {},
     "nuid": "e3671a2c-296a-4034-9485-bc7a83d92a6b",
     "showTitle": false,
     "title": ""
    }
   },
   "outputs": [],
   "source": [
    "df_P['Fecha'] = pd.to_datetime(df_P['Fecha'])"
   ]
  },
  {
   "cell_type": "code",
   "execution_count": 0,
   "metadata": {
    "application/vnd.databricks.v1+cell": {
     "cellMetadata": {
      "byteLimit": 2048000,
      "rowLimit": 10000
     },
     "inputWidgets": {},
     "nuid": "006d2051-2739-41e2-9598-87455e0624b9",
     "showTitle": false,
     "title": ""
    }
   },
   "outputs": [
    {
     "output_type": "stream",
     "name": "stdout",
     "output_type": "stream",
     "text": [
      "Out[22]: 0        21:37:11.00\n1        13:06:29.00\n2        12:03:18.00\n3        21:46:29.00\n4        23:51:10.00\n            ...     \n10884       20:13:13\n10885       23:19:58\n10886       00:05:45\n10887       23:35:13\n10888       12:32:40\nName: Hora, Length: 10889, dtype: object"
     ]
    }
   ],
   "source": [
    "df_P['Hora']"
   ]
  },
  {
   "cell_type": "code",
   "execution_count": 0,
   "metadata": {
    "application/vnd.databricks.v1+cell": {
     "cellMetadata": {
      "byteLimit": 2048000,
      "rowLimit": 10000
     },
     "inputWidgets": {},
     "nuid": "8c4b1965-49bd-4099-9bb4-57afb6b33db9",
     "showTitle": false,
     "title": ""
    }
   },
   "outputs": [],
   "source": [
    "Base_Final_Peru = df_P"
   ]
  },
  {
   "cell_type": "code",
   "execution_count": 0,
   "metadata": {
    "application/vnd.databricks.v1+cell": {
     "cellMetadata": {
      "byteLimit": 2048000,
      "rowLimit": 10000
     },
     "inputWidgets": {},
     "nuid": "d6f126bb-10f6-44d6-b5d5-e74f15e5f4ad",
     "showTitle": false,
     "title": ""
    }
   },
   "outputs": [
    {
     "output_type": "display_data",
     "data": {
      "text/html": [
       "<div>\n",
       "<style scoped>\n",
       "    .dataframe tbody tr th:only-of-type {\n",
       "        vertical-align: middle;\n",
       "    }\n",
       "\n",
       "    .dataframe tbody tr th {\n",
       "        vertical-align: top;\n",
       "    }\n",
       "\n",
       "    .dataframe thead th {\n",
       "        text-align: right;\n",
       "    }\n",
       "</style>\n",
       "<table border=\"1\" class=\"dataframe\">\n",
       "  <thead>\n",
       "    <tr style=\"text-align: right;\">\n",
       "      <th></th>\n",
       "      <th>Fecha</th>\n",
       "      <th>Hora</th>\n",
       "      <th>Latitud</th>\n",
       "      <th>Longitud</th>\n",
       "      <th>País</th>\n",
       "      <th>Locacion</th>\n",
       "      <th>Profundidad</th>\n",
       "      <th>Clasificación Profundidad</th>\n",
       "      <th>Magnitud</th>\n",
       "      <th>Clasificación Magnitud</th>\n",
       "    </tr>\n",
       "  </thead>\n",
       "  <tbody>\n",
       "    <tr>\n",
       "      <th>0</th>\n",
       "      <td>2008-05-20</td>\n",
       "      <td>21:37:11.00</td>\n",
       "      <td>-8.6391</td>\n",
       "      <td>-74.7701</td>\n",
       "      <td>Perú</td>\n",
       "      <td>Huanuco</td>\n",
       "      <td>135.0</td>\n",
       "      <td>Media</td>\n",
       "      <td>5.7</td>\n",
       "      <td>Moderada Magnitud</td>\n",
       "    </tr>\n",
       "    <tr>\n",
       "      <th>1</th>\n",
       "      <td>2008-07-06</td>\n",
       "      <td>13:06:29.00</td>\n",
       "      <td>-12.4652</td>\n",
       "      <td>-77.3985</td>\n",
       "      <td>Perú</td>\n",
       "      <td>Lima</td>\n",
       "      <td>66.0</td>\n",
       "      <td>Superficial</td>\n",
       "      <td>5.3</td>\n",
       "      <td>Moderada Magnitud</td>\n",
       "    </tr>\n",
       "    <tr>\n",
       "      <th>2</th>\n",
       "      <td>2008-01-26</td>\n",
       "      <td>12:03:18.00</td>\n",
       "      <td>-5.947</td>\n",
       "      <td>-75.4306</td>\n",
       "      <td>Perú</td>\n",
       "      <td>Loreto</td>\n",
       "      <td>156.0</td>\n",
       "      <td>Media</td>\n",
       "      <td>4.5</td>\n",
       "      <td>Ligera Magnitud</td>\n",
       "    </tr>\n",
       "    <tr>\n",
       "      <th>3</th>\n",
       "      <td>2008-10-01</td>\n",
       "      <td>21:46:29.00</td>\n",
       "      <td>-7.1948</td>\n",
       "      <td>-75.1474</td>\n",
       "      <td>Perú</td>\n",
       "      <td>San Martin</td>\n",
       "      <td>170.0</td>\n",
       "      <td>Media</td>\n",
       "      <td>4.5</td>\n",
       "      <td>Ligera Magnitud</td>\n",
       "    </tr>\n",
       "    <tr>\n",
       "      <th>4</th>\n",
       "      <td>2008-08-03</td>\n",
       "      <td>23:51:10.00</td>\n",
       "      <td>-13.348</td>\n",
       "      <td>-76.8272</td>\n",
       "      <td>Perú</td>\n",
       "      <td>Lima</td>\n",
       "      <td>29.0</td>\n",
       "      <td>Superficial</td>\n",
       "      <td>5.2</td>\n",
       "      <td>Moderada Magnitud</td>\n",
       "    </tr>\n",
       "    <tr>\n",
       "      <th>...</th>\n",
       "      <td>...</td>\n",
       "      <td>...</td>\n",
       "      <td>...</td>\n",
       "      <td>...</td>\n",
       "      <td>...</td>\n",
       "      <td>...</td>\n",
       "      <td>...</td>\n",
       "      <td>...</td>\n",
       "      <td>...</td>\n",
       "      <td>...</td>\n",
       "    </tr>\n",
       "    <tr>\n",
       "      <th>10884</th>\n",
       "      <td>2023-03-27</td>\n",
       "      <td>20:13:13</td>\n",
       "      <td>-10.53</td>\n",
       "      <td>-74.7</td>\n",
       "      <td>Perú</td>\n",
       "      <td>Junin</td>\n",
       "      <td>134.0</td>\n",
       "      <td>Media</td>\n",
       "      <td>4.6</td>\n",
       "      <td>Ligera Magnitud</td>\n",
       "    </tr>\n",
       "    <tr>\n",
       "      <th>10885</th>\n",
       "      <td>2022-10-28</td>\n",
       "      <td>23:19:58</td>\n",
       "      <td>-3.76</td>\n",
       "      <td>-76.53</td>\n",
       "      <td>Perú</td>\n",
       "      <td>Loreto</td>\n",
       "      <td>110.0</td>\n",
       "      <td>Media</td>\n",
       "      <td>4.8</td>\n",
       "      <td>Ligera Magnitud</td>\n",
       "    </tr>\n",
       "    <tr>\n",
       "      <th>10886</th>\n",
       "      <td>2023-05-22</td>\n",
       "      <td>00:05:45</td>\n",
       "      <td>-15.81</td>\n",
       "      <td>-73.32</td>\n",
       "      <td>Perú</td>\n",
       "      <td>Arequipa</td>\n",
       "      <td>92.0</td>\n",
       "      <td>Media</td>\n",
       "      <td>4.2</td>\n",
       "      <td>Ligera Magnitud</td>\n",
       "    </tr>\n",
       "    <tr>\n",
       "      <th>10887</th>\n",
       "      <td>2022-10-28</td>\n",
       "      <td>23:35:13</td>\n",
       "      <td>-14.61</td>\n",
       "      <td>-76.41</td>\n",
       "      <td>Perú</td>\n",
       "      <td>Ica</td>\n",
       "      <td>15.0</td>\n",
       "      <td>Superficial</td>\n",
       "      <td>5.2</td>\n",
       "      <td>Moderada Magnitud</td>\n",
       "    </tr>\n",
       "    <tr>\n",
       "      <th>10888</th>\n",
       "      <td>2023-02-04</td>\n",
       "      <td>12:32:40</td>\n",
       "      <td>-1.85</td>\n",
       "      <td>-77.87</td>\n",
       "      <td>Perú</td>\n",
       "      <td>Morona-Santiago</td>\n",
       "      <td>188.0</td>\n",
       "      <td>Media</td>\n",
       "      <td>4.5</td>\n",
       "      <td>Ligera Magnitud</td>\n",
       "    </tr>\n",
       "  </tbody>\n",
       "</table>\n",
       "<p>10889 rows × 10 columns</p>\n",
       "</div>"
      ]
     },
     "metadata": {
      "application/vnd.databricks.v1+output": {
       "addedWidgets": {},
       "arguments": {},
       "data": "<div>\n<style scoped>\n    .dataframe tbody tr th:only-of-type {\n        vertical-align: middle;\n    }\n\n    .dataframe tbody tr th {\n        vertical-align: top;\n    }\n\n    .dataframe thead th {\n        text-align: right;\n    }\n</style>\n<table border=\"1\" class=\"dataframe\">\n  <thead>\n    <tr style=\"text-align: right;\">\n      <th></th>\n      <th>Fecha</th>\n      <th>Hora</th>\n      <th>Latitud</th>\n      <th>Longitud</th>\n      <th>País</th>\n      <th>Locacion</th>\n      <th>Profundidad</th>\n      <th>Clasificación Profundidad</th>\n      <th>Magnitud</th>\n      <th>Clasificación Magnitud</th>\n    </tr>\n  </thead>\n  <tbody>\n    <tr>\n      <th>0</th>\n      <td>2008-05-20</td>\n      <td>21:37:11.00</td>\n      <td>-8.6391</td>\n      <td>-74.7701</td>\n      <td>Perú</td>\n      <td>Huanuco</td>\n      <td>135.0</td>\n      <td>Media</td>\n      <td>5.7</td>\n      <td>Moderada Magnitud</td>\n    </tr>\n    <tr>\n      <th>1</th>\n      <td>2008-07-06</td>\n      <td>13:06:29.00</td>\n      <td>-12.4652</td>\n      <td>-77.3985</td>\n      <td>Perú</td>\n      <td>Lima</td>\n      <td>66.0</td>\n      <td>Superficial</td>\n      <td>5.3</td>\n      <td>Moderada Magnitud</td>\n    </tr>\n    <tr>\n      <th>2</th>\n      <td>2008-01-26</td>\n      <td>12:03:18.00</td>\n      <td>-5.947</td>\n      <td>-75.4306</td>\n      <td>Perú</td>\n      <td>Loreto</td>\n      <td>156.0</td>\n      <td>Media</td>\n      <td>4.5</td>\n      <td>Ligera Magnitud</td>\n    </tr>\n    <tr>\n      <th>3</th>\n      <td>2008-10-01</td>\n      <td>21:46:29.00</td>\n      <td>-7.1948</td>\n      <td>-75.1474</td>\n      <td>Perú</td>\n      <td>San Martin</td>\n      <td>170.0</td>\n      <td>Media</td>\n      <td>4.5</td>\n      <td>Ligera Magnitud</td>\n    </tr>\n    <tr>\n      <th>4</th>\n      <td>2008-08-03</td>\n      <td>23:51:10.00</td>\n      <td>-13.348</td>\n      <td>-76.8272</td>\n      <td>Perú</td>\n      <td>Lima</td>\n      <td>29.0</td>\n      <td>Superficial</td>\n      <td>5.2</td>\n      <td>Moderada Magnitud</td>\n    </tr>\n    <tr>\n      <th>...</th>\n      <td>...</td>\n      <td>...</td>\n      <td>...</td>\n      <td>...</td>\n      <td>...</td>\n      <td>...</td>\n      <td>...</td>\n      <td>...</td>\n      <td>...</td>\n      <td>...</td>\n    </tr>\n    <tr>\n      <th>10884</th>\n      <td>2023-03-27</td>\n      <td>20:13:13</td>\n      <td>-10.53</td>\n      <td>-74.7</td>\n      <td>Perú</td>\n      <td>Junin</td>\n      <td>134.0</td>\n      <td>Media</td>\n      <td>4.6</td>\n      <td>Ligera Magnitud</td>\n    </tr>\n    <tr>\n      <th>10885</th>\n      <td>2022-10-28</td>\n      <td>23:19:58</td>\n      <td>-3.76</td>\n      <td>-76.53</td>\n      <td>Perú</td>\n      <td>Loreto</td>\n      <td>110.0</td>\n      <td>Media</td>\n      <td>4.8</td>\n      <td>Ligera Magnitud</td>\n    </tr>\n    <tr>\n      <th>10886</th>\n      <td>2023-05-22</td>\n      <td>00:05:45</td>\n      <td>-15.81</td>\n      <td>-73.32</td>\n      <td>Perú</td>\n      <td>Arequipa</td>\n      <td>92.0</td>\n      <td>Media</td>\n      <td>4.2</td>\n      <td>Ligera Magnitud</td>\n    </tr>\n    <tr>\n      <th>10887</th>\n      <td>2022-10-28</td>\n      <td>23:35:13</td>\n      <td>-14.61</td>\n      <td>-76.41</td>\n      <td>Perú</td>\n      <td>Ica</td>\n      <td>15.0</td>\n      <td>Superficial</td>\n      <td>5.2</td>\n      <td>Moderada Magnitud</td>\n    </tr>\n    <tr>\n      <th>10888</th>\n      <td>2023-02-04</td>\n      <td>12:32:40</td>\n      <td>-1.85</td>\n      <td>-77.87</td>\n      <td>Perú</td>\n      <td>Morona-Santiago</td>\n      <td>188.0</td>\n      <td>Media</td>\n      <td>4.5</td>\n      <td>Ligera Magnitud</td>\n    </tr>\n  </tbody>\n</table>\n<p>10889 rows × 10 columns</p>\n</div>",
       "datasetInfos": [],
       "metadata": {},
       "removedWidgets": [],
       "textData": null,
       "type": "htmlSandbox"
      }
     },
     "output_type": "display_data"
    }
   ],
   "source": [
    "Base_Final_Peru"
   ]
  },
  {
   "cell_type": "markdown",
   "metadata": {
    "application/vnd.databricks.v1+cell": {
     "cellMetadata": {
      "byteLimit": 2048000,
      "rowLimit": 10000
     },
     "inputWidgets": {},
     "nuid": "8d42ca96-73af-40ca-bec9-37f4eb93bb17",
     "showTitle": false,
     "title": ""
    }
   },
   "source": [
    "## Transformación Base EEUU"
   ]
  },
  {
   "cell_type": "code",
   "execution_count": 0,
   "metadata": {
    "application/vnd.databricks.v1+cell": {
     "cellMetadata": {
      "byteLimit": 2048000,
      "rowLimit": 10000
     },
     "inputWidgets": {},
     "nuid": "eecc453e-549b-435f-803f-85e83a3c9979",
     "showTitle": false,
     "title": ""
    }
   },
   "outputs": [],
   "source": [
    "# Definir la función para determinar la peligrosidad\n",
    "def determinar_peligrosidad(magnitud):\n",
    "    if magnitud < 2.0:\n",
    "        return 'Micro Magnitud'\n",
    "    elif magnitud < 3.0:\n",
    "        return 'Menor Magnitud'\n",
    "    elif magnitud < 4.0:\n",
    "        return 'Ligera Magnitud'\n",
    "    elif magnitud < 5.0:\n",
    "        return 'Moderada Magnitud'\n",
    "    elif magnitud < 6.0:\n",
    "        return 'Fuerte Magnitud'\n",
    "    elif magnitud < 7.0:\n",
    "        return 'Mayor Magnitud'\n",
    "    elif magnitud < 8.0:\n",
    "        return 'Gran Magnitud'\n",
    "    else:\n",
    "        return 'Magnitud Épica'\n",
    "\n",
    "    # Convertir la columna \"Magnitud\" a tipo float si es necesario\n",
    "\n",
    "df_E['Magnitud'] = df_E['Magnitud'].astype(float)\n",
    "\n",
    "# Aplicar la función a cada fila de la columna \"Magnitud\" y crear la nueva columna \"peligrosidad\"\n",
    "df_E['Clasificación Magnitud'] = df_E['Magnitud'].apply(determinar_peligrosidad)"
   ]
  },
  {
   "cell_type": "code",
   "execution_count": 0,
   "metadata": {
    "application/vnd.databricks.v1+cell": {
     "cellMetadata": {
      "byteLimit": 2048000,
      "rowLimit": 10000
     },
     "inputWidgets": {},
     "nuid": "878f5222-16ca-45a5-b549-acfa9d21c526",
     "showTitle": false,
     "title": ""
    }
   },
   "outputs": [],
   "source": [
    "def clasificar_profundidad(profundidad):\n",
    "\n",
    "    if profundidad <= 10:\n",
    "        return \"Superficial\"\n",
    "    elif profundidad > 10 and profundidad <= 30:\n",
    "        return\"Media\"\n",
    "    elif profundidad > 30:\n",
    "        return\"Profundo\"\n",
    "\n",
    "df_E['Profundidad'] = df_E['Profundidad'].astype(float)  # Convertir a tipo float\n",
    "\n",
    "# Aplicar la función a cada fila de la columna \"Profundidad\" y crear la nueva columna \"Clasificación Profundidad\"\n",
    "df_E['Clasificación Profundidad'] = df_E['Profundidad'].apply(clasificar_profundidad)"
   ]
  },
  {
   "cell_type": "code",
   "execution_count": 0,
   "metadata": {
    "application/vnd.databricks.v1+cell": {
     "cellMetadata": {
      "byteLimit": 2048000,
      "rowLimit": 10000
     },
     "inputWidgets": {},
     "nuid": "1345a96a-bad6-4165-a5c8-03144bc96b9c",
     "showTitle": false,
     "title": ""
    }
   },
   "outputs": [],
   "source": [
    "# Lista de columnas a eliminar\n",
    "columnas_eliminar = [\"Tipo\", \"Estatus\", \"Tsunami\",\"Fuente\",\"Significancia\",\"Ubicacion\"]\n",
    "\n",
    "# Eliminar las columnas en Databricks\n",
    "df_E = df_E.drop(columnas_eliminar, axis = 1)"
   ]
  },
  {
   "cell_type": "code",
   "execution_count": 0,
   "metadata": {
    "application/vnd.databricks.v1+cell": {
     "cellMetadata": {
      "byteLimit": 2048000,
      "rowLimit": 10000
     },
     "inputWidgets": {},
     "nuid": "0c2893b1-9ac3-4a22-8aef-936cfbb19164",
     "showTitle": false,
     "title": ""
    }
   },
   "outputs": [],
   "source": [
    "df_E['Fecha_1'] = pd.to_datetime(df_E['Fecha'], unit='ms').dt.date\n",
    "df_E['Hora'] = pd.to_datetime(df_E['Fecha'], unit='ms').dt.strftime('%H:%M:%S')\n",
    "df_E = df_E.drop(columns='Fecha', axis = 1)\n",
    "df_E.rename(columns={'Fecha_1':'Fecha'}, inplace= True)\n",
    "df_E['País'] = 'EEUU'"
   ]
  },
  {
   "cell_type": "code",
   "execution_count": 0,
   "metadata": {
    "application/vnd.databricks.v1+cell": {
     "cellMetadata": {
      "byteLimit": 2048000,
      "rowLimit": 10000
     },
     "inputWidgets": {},
     "nuid": "200e6688-738f-448b-a505-893b8b4b52c3",
     "showTitle": false,
     "title": ""
    }
   },
   "outputs": [],
   "source": [
    "def Cambio_estado(obj):\n",
    "    if obj == 1:\n",
    "        obj = 'California'\n",
    "        return obj\n",
    "    elif obj == 2:\n",
    "        obj = 'Washington'\n",
    "        return obj\n",
    "    elif obj == 3:\n",
    "        obj = 'Oregon'\n",
    "        return obj\n",
    "    else:\n",
    "        obj = 'Alaska'  \n",
    "        return obj\n",
    "        "
   ]
  },
  {
   "cell_type": "code",
   "execution_count": 0,
   "metadata": {
    "application/vnd.databricks.v1+cell": {
     "cellMetadata": {
      "byteLimit": 2048000,
      "rowLimit": 10000
     },
     "inputWidgets": {},
     "nuid": "ca887c79-16a0-41f8-ab7f-abb064b6b5d0",
     "showTitle": false,
     "title": ""
    }
   },
   "outputs": [
    {
     "output_type": "display_data",
     "data": {
      "text/html": [
       "<div>\n",
       "<style scoped>\n",
       "    .dataframe tbody tr th:only-of-type {\n",
       "        vertical-align: middle;\n",
       "    }\n",
       "\n",
       "    .dataframe tbody tr th {\n",
       "        vertical-align: top;\n",
       "    }\n",
       "\n",
       "    .dataframe thead th {\n",
       "        text-align: right;\n",
       "    }\n",
       "</style>\n",
       "<table border=\"1\" class=\"dataframe\">\n",
       "  <thead>\n",
       "    <tr style=\"text-align: right;\">\n",
       "      <th></th>\n",
       "      <th>Id</th>\n",
       "      <th>Magnitud</th>\n",
       "      <th>Profundidad</th>\n",
       "      <th>Ubicacion</th>\n",
       "      <th>Latitud</th>\n",
       "      <th>Longitud</th>\n",
       "      <th>Tipo</th>\n",
       "      <th>Estatus</th>\n",
       "      <th>Tsunami</th>\n",
       "      <th>Significancia</th>\n",
       "      <th>Fuente</th>\n",
       "      <th>Clasificación Magnitud</th>\n",
       "      <th>Clasificación Profundidad</th>\n",
       "      <th>Fecha</th>\n",
       "      <th>Hora</th>\n",
       "      <th>País</th>\n",
       "    </tr>\n",
       "  </thead>\n",
       "  <tbody>\n",
       "    <tr>\n",
       "      <th>0</th>\n",
       "      <td>1</td>\n",
       "      <td>2.51</td>\n",
       "      <td>7.82</td>\n",
       "      <td>12km SW of Searles Valley, CA</td>\n",
       "      <td>35.6848333</td>\n",
       "      <td>-117.483</td>\n",
       "      <td>earthquake</td>\n",
       "      <td>reviewed</td>\n",
       "      <td>0</td>\n",
       "      <td>97</td>\n",
       "      <td>ci</td>\n",
       "      <td>Menor Magnitud</td>\n",
       "      <td>Superficial</td>\n",
       "      <td>2023-06-21</td>\n",
       "      <td>13:58:59</td>\n",
       "      <td>EEUU</td>\n",
       "    </tr>\n",
       "    <tr>\n",
       "      <th>1</th>\n",
       "      <td>1</td>\n",
       "      <td>5.80</td>\n",
       "      <td>4.66</td>\n",
       "      <td>18km SSE of Lone Pine, CA</td>\n",
       "      <td>36.4468333</td>\n",
       "      <td>-117.9751667</td>\n",
       "      <td>earthquake</td>\n",
       "      <td>reviewed</td>\n",
       "      <td>1</td>\n",
       "      <td>1098</td>\n",
       "      <td>ci</td>\n",
       "      <td>Fuerte Magnitud</td>\n",
       "      <td>Superficial</td>\n",
       "      <td>2020-06-24</td>\n",
       "      <td>17:40:49</td>\n",
       "      <td>EEUU</td>\n",
       "    </tr>\n",
       "    <tr>\n",
       "      <th>2</th>\n",
       "      <td>1</td>\n",
       "      <td>2.77</td>\n",
       "      <td>3.69</td>\n",
       "      <td>20km E of Little Lake, CA</td>\n",
       "      <td>35.9531667</td>\n",
       "      <td>-117.6913333</td>\n",
       "      <td>earthquake</td>\n",
       "      <td>reviewed</td>\n",
       "      <td>0</td>\n",
       "      <td>118</td>\n",
       "      <td>ci</td>\n",
       "      <td>Menor Magnitud</td>\n",
       "      <td>Superficial</td>\n",
       "      <td>2023-05-21</td>\n",
       "      <td>10:09:07</td>\n",
       "      <td>EEUU</td>\n",
       "    </tr>\n",
       "    <tr>\n",
       "      <th>3</th>\n",
       "      <td>1</td>\n",
       "      <td>2.82</td>\n",
       "      <td>20.63</td>\n",
       "      <td>6km SW of Antioch, CA</td>\n",
       "      <td>37.9575</td>\n",
       "      <td>-121.846</td>\n",
       "      <td>earthquake</td>\n",
       "      <td>reviewed</td>\n",
       "      <td>0</td>\n",
       "      <td>133</td>\n",
       "      <td>nc</td>\n",
       "      <td>Menor Magnitud</td>\n",
       "      <td>Media</td>\n",
       "      <td>2023-04-23</td>\n",
       "      <td>20:20:18</td>\n",
       "      <td>EEUU</td>\n",
       "    </tr>\n",
       "    <tr>\n",
       "      <th>4</th>\n",
       "      <td>1</td>\n",
       "      <td>2.86</td>\n",
       "      <td>4.10</td>\n",
       "      <td>11km S of Tres Pinos, CA</td>\n",
       "      <td>36.688</td>\n",
       "      <td>-121.3255</td>\n",
       "      <td>earthquake</td>\n",
       "      <td>reviewed</td>\n",
       "      <td>0</td>\n",
       "      <td>128</td>\n",
       "      <td>nc</td>\n",
       "      <td>Menor Magnitud</td>\n",
       "      <td>Superficial</td>\n",
       "      <td>2023-04-18</td>\n",
       "      <td>17:23:53</td>\n",
       "      <td>EEUU</td>\n",
       "    </tr>\n",
       "    <tr>\n",
       "      <th>...</th>\n",
       "      <td>...</td>\n",
       "      <td>...</td>\n",
       "      <td>...</td>\n",
       "      <td>...</td>\n",
       "      <td>...</td>\n",
       "      <td>...</td>\n",
       "      <td>...</td>\n",
       "      <td>...</td>\n",
       "      <td>...</td>\n",
       "      <td>...</td>\n",
       "      <td>...</td>\n",
       "      <td>...</td>\n",
       "      <td>...</td>\n",
       "      <td>...</td>\n",
       "      <td>...</td>\n",
       "      <td>...</td>\n",
       "    </tr>\n",
       "    <tr>\n",
       "      <th>13011</th>\n",
       "      <td>4</td>\n",
       "      <td>2.50</td>\n",
       "      <td>76.20</td>\n",
       "      <td>15 km NNE of Skwentna, Alaska</td>\n",
       "      <td>62.1141</td>\n",
       "      <td>-151.2852</td>\n",
       "      <td>earthquake</td>\n",
       "      <td>reviewed</td>\n",
       "      <td>0</td>\n",
       "      <td>96</td>\n",
       "      <td>ak</td>\n",
       "      <td>Menor Magnitud</td>\n",
       "      <td>Profundo</td>\n",
       "      <td>2008-02-16</td>\n",
       "      <td>00:57:29</td>\n",
       "      <td>EEUU</td>\n",
       "    </tr>\n",
       "    <tr>\n",
       "      <th>13012</th>\n",
       "      <td>4</td>\n",
       "      <td>2.50</td>\n",
       "      <td>7.40</td>\n",
       "      <td>53 km SSE of Denali National Park, Alaska</td>\n",
       "      <td>63.0842</td>\n",
       "      <td>-151.3811</td>\n",
       "      <td>earthquake</td>\n",
       "      <td>reviewed</td>\n",
       "      <td>0</td>\n",
       "      <td>96</td>\n",
       "      <td>ak</td>\n",
       "      <td>Menor Magnitud</td>\n",
       "      <td>Superficial</td>\n",
       "      <td>2008-02-06</td>\n",
       "      <td>12:11:28</td>\n",
       "      <td>EEUU</td>\n",
       "    </tr>\n",
       "    <tr>\n",
       "      <th>13013</th>\n",
       "      <td>4</td>\n",
       "      <td>2.50</td>\n",
       "      <td>11.30</td>\n",
       "      <td>41 km SE of Denali National Park, Alaska</td>\n",
       "      <td>63.2929</td>\n",
       "      <td>-151.1068</td>\n",
       "      <td>earthquake</td>\n",
       "      <td>reviewed</td>\n",
       "      <td>0</td>\n",
       "      <td>96</td>\n",
       "      <td>ak</td>\n",
       "      <td>Menor Magnitud</td>\n",
       "      <td>Media</td>\n",
       "      <td>2008-01-31</td>\n",
       "      <td>05:06:05</td>\n",
       "      <td>EEUU</td>\n",
       "    </tr>\n",
       "    <tr>\n",
       "      <th>13014</th>\n",
       "      <td>4</td>\n",
       "      <td>3.00</td>\n",
       "      <td>128.20</td>\n",
       "      <td>60 km NNW of Petersville, Alaska</td>\n",
       "      <td>63.0307</td>\n",
       "      <td>-151.0047</td>\n",
       "      <td>earthquake</td>\n",
       "      <td>reviewed</td>\n",
       "      <td>0</td>\n",
       "      <td>138</td>\n",
       "      <td>ak</td>\n",
       "      <td>Ligera Magnitud</td>\n",
       "      <td>Profundo</td>\n",
       "      <td>2008-01-19</td>\n",
       "      <td>21:27:10</td>\n",
       "      <td>EEUU</td>\n",
       "    </tr>\n",
       "    <tr>\n",
       "      <th>13015</th>\n",
       "      <td>4</td>\n",
       "      <td>3.00</td>\n",
       "      <td>102.30</td>\n",
       "      <td>40 km SW of Skwentna, Alaska</td>\n",
       "      <td>61.7548</td>\n",
       "      <td>-151.976</td>\n",
       "      <td>earthquake</td>\n",
       "      <td>reviewed</td>\n",
       "      <td>0</td>\n",
       "      <td>138</td>\n",
       "      <td>ak</td>\n",
       "      <td>Ligera Magnitud</td>\n",
       "      <td>Profundo</td>\n",
       "      <td>2008-01-07</td>\n",
       "      <td>12:07:52</td>\n",
       "      <td>EEUU</td>\n",
       "    </tr>\n",
       "  </tbody>\n",
       "</table>\n",
       "<p>13016 rows × 16 columns</p>\n",
       "</div>"
      ]
     },
     "metadata": {
      "application/vnd.databricks.v1+output": {
       "addedWidgets": {},
       "arguments": {},
       "data": "<div>\n<style scoped>\n    .dataframe tbody tr th:only-of-type {\n        vertical-align: middle;\n    }\n\n    .dataframe tbody tr th {\n        vertical-align: top;\n    }\n\n    .dataframe thead th {\n        text-align: right;\n    }\n</style>\n<table border=\"1\" class=\"dataframe\">\n  <thead>\n    <tr style=\"text-align: right;\">\n      <th></th>\n      <th>Id</th>\n      <th>Magnitud</th>\n      <th>Profundidad</th>\n      <th>Ubicacion</th>\n      <th>Latitud</th>\n      <th>Longitud</th>\n      <th>Tipo</th>\n      <th>Estatus</th>\n      <th>Tsunami</th>\n      <th>Significancia</th>\n      <th>Fuente</th>\n      <th>Clasificación Magnitud</th>\n      <th>Clasificación Profundidad</th>\n      <th>Fecha</th>\n      <th>Hora</th>\n      <th>País</th>\n    </tr>\n  </thead>\n  <tbody>\n    <tr>\n      <th>0</th>\n      <td>1</td>\n      <td>2.51</td>\n      <td>7.82</td>\n      <td>12km SW of Searles Valley, CA</td>\n      <td>35.6848333</td>\n      <td>-117.483</td>\n      <td>earthquake</td>\n      <td>reviewed</td>\n      <td>0</td>\n      <td>97</td>\n      <td>ci</td>\n      <td>Menor Magnitud</td>\n      <td>Superficial</td>\n      <td>2023-06-21</td>\n      <td>13:58:59</td>\n      <td>EEUU</td>\n    </tr>\n    <tr>\n      <th>1</th>\n      <td>1</td>\n      <td>5.80</td>\n      <td>4.66</td>\n      <td>18km SSE of Lone Pine, CA</td>\n      <td>36.4468333</td>\n      <td>-117.9751667</td>\n      <td>earthquake</td>\n      <td>reviewed</td>\n      <td>1</td>\n      <td>1098</td>\n      <td>ci</td>\n      <td>Fuerte Magnitud</td>\n      <td>Superficial</td>\n      <td>2020-06-24</td>\n      <td>17:40:49</td>\n      <td>EEUU</td>\n    </tr>\n    <tr>\n      <th>2</th>\n      <td>1</td>\n      <td>2.77</td>\n      <td>3.69</td>\n      <td>20km E of Little Lake, CA</td>\n      <td>35.9531667</td>\n      <td>-117.6913333</td>\n      <td>earthquake</td>\n      <td>reviewed</td>\n      <td>0</td>\n      <td>118</td>\n      <td>ci</td>\n      <td>Menor Magnitud</td>\n      <td>Superficial</td>\n      <td>2023-05-21</td>\n      <td>10:09:07</td>\n      <td>EEUU</td>\n    </tr>\n    <tr>\n      <th>3</th>\n      <td>1</td>\n      <td>2.82</td>\n      <td>20.63</td>\n      <td>6km SW of Antioch, CA</td>\n      <td>37.9575</td>\n      <td>-121.846</td>\n      <td>earthquake</td>\n      <td>reviewed</td>\n      <td>0</td>\n      <td>133</td>\n      <td>nc</td>\n      <td>Menor Magnitud</td>\n      <td>Media</td>\n      <td>2023-04-23</td>\n      <td>20:20:18</td>\n      <td>EEUU</td>\n    </tr>\n    <tr>\n      <th>4</th>\n      <td>1</td>\n      <td>2.86</td>\n      <td>4.10</td>\n      <td>11km S of Tres Pinos, CA</td>\n      <td>36.688</td>\n      <td>-121.3255</td>\n      <td>earthquake</td>\n      <td>reviewed</td>\n      <td>0</td>\n      <td>128</td>\n      <td>nc</td>\n      <td>Menor Magnitud</td>\n      <td>Superficial</td>\n      <td>2023-04-18</td>\n      <td>17:23:53</td>\n      <td>EEUU</td>\n    </tr>\n    <tr>\n      <th>...</th>\n      <td>...</td>\n      <td>...</td>\n      <td>...</td>\n      <td>...</td>\n      <td>...</td>\n      <td>...</td>\n      <td>...</td>\n      <td>...</td>\n      <td>...</td>\n      <td>...</td>\n      <td>...</td>\n      <td>...</td>\n      <td>...</td>\n      <td>...</td>\n      <td>...</td>\n      <td>...</td>\n    </tr>\n    <tr>\n      <th>13011</th>\n      <td>4</td>\n      <td>2.50</td>\n      <td>76.20</td>\n      <td>15 km NNE of Skwentna, Alaska</td>\n      <td>62.1141</td>\n      <td>-151.2852</td>\n      <td>earthquake</td>\n      <td>reviewed</td>\n      <td>0</td>\n      <td>96</td>\n      <td>ak</td>\n      <td>Menor Magnitud</td>\n      <td>Profundo</td>\n      <td>2008-02-16</td>\n      <td>00:57:29</td>\n      <td>EEUU</td>\n    </tr>\n    <tr>\n      <th>13012</th>\n      <td>4</td>\n      <td>2.50</td>\n      <td>7.40</td>\n      <td>53 km SSE of Denali National Park, Alaska</td>\n      <td>63.0842</td>\n      <td>-151.3811</td>\n      <td>earthquake</td>\n      <td>reviewed</td>\n      <td>0</td>\n      <td>96</td>\n      <td>ak</td>\n      <td>Menor Magnitud</td>\n      <td>Superficial</td>\n      <td>2008-02-06</td>\n      <td>12:11:28</td>\n      <td>EEUU</td>\n    </tr>\n    <tr>\n      <th>13013</th>\n      <td>4</td>\n      <td>2.50</td>\n      <td>11.30</td>\n      <td>41 km SE of Denali National Park, Alaska</td>\n      <td>63.2929</td>\n      <td>-151.1068</td>\n      <td>earthquake</td>\n      <td>reviewed</td>\n      <td>0</td>\n      <td>96</td>\n      <td>ak</td>\n      <td>Menor Magnitud</td>\n      <td>Media</td>\n      <td>2008-01-31</td>\n      <td>05:06:05</td>\n      <td>EEUU</td>\n    </tr>\n    <tr>\n      <th>13014</th>\n      <td>4</td>\n      <td>3.00</td>\n      <td>128.20</td>\n      <td>60 km NNW of Petersville, Alaska</td>\n      <td>63.0307</td>\n      <td>-151.0047</td>\n      <td>earthquake</td>\n      <td>reviewed</td>\n      <td>0</td>\n      <td>138</td>\n      <td>ak</td>\n      <td>Ligera Magnitud</td>\n      <td>Profundo</td>\n      <td>2008-01-19</td>\n      <td>21:27:10</td>\n      <td>EEUU</td>\n    </tr>\n    <tr>\n      <th>13015</th>\n      <td>4</td>\n      <td>3.00</td>\n      <td>102.30</td>\n      <td>40 km SW of Skwentna, Alaska</td>\n      <td>61.7548</td>\n      <td>-151.976</td>\n      <td>earthquake</td>\n      <td>reviewed</td>\n      <td>0</td>\n      <td>138</td>\n      <td>ak</td>\n      <td>Ligera Magnitud</td>\n      <td>Profundo</td>\n      <td>2008-01-07</td>\n      <td>12:07:52</td>\n      <td>EEUU</td>\n    </tr>\n  </tbody>\n</table>\n<p>13016 rows × 16 columns</p>\n</div>",
       "datasetInfos": [],
       "metadata": {},
       "removedWidgets": [],
       "textData": null,
       "type": "htmlSandbox"
      }
     },
     "output_type": "display_data"
    }
   ],
   "source": [
    "df_E"
   ]
  },
  {
   "cell_type": "code",
   "execution_count": 0,
   "metadata": {
    "application/vnd.databricks.v1+cell": {
     "cellMetadata": {
      "byteLimit": 2048000,
      "rowLimit": 10000
     },
     "inputWidgets": {},
     "nuid": "f41150af-2945-45f5-81d9-a76e259c73e0",
     "showTitle": false,
     "title": ""
    }
   },
   "outputs": [],
   "source": [
    "df_E['Id'] = df_E['Id'].apply(Cambio_estado)\n",
    "df_E.rename(columns={'Id':'Locación'}, inplace= True) \n",
    "df_E = df_E.reindex(columns = ['Fecha','Hora','Latitud','Longitud','País','Locación','Profundidad',\n",
    "                         'Clasificación Profundidad', 'Magnitud', 'Clasificación Magnitud'])\n",
    "\n",
    "df_E = df_E.sort_values('Fecha')\n",
    "df_E = df_E.reset_index(drop=True)\n"
   ]
  },
  {
   "cell_type": "code",
   "execution_count": 0,
   "metadata": {
    "application/vnd.databricks.v1+cell": {
     "cellMetadata": {
      "byteLimit": 2048000,
      "rowLimit": 10000
     },
     "inputWidgets": {},
     "nuid": "5c88ff04-bcd6-4e28-b3b3-a2653a8d4643",
     "showTitle": false,
     "title": ""
    }
   },
   "outputs": [],
   "source": [
    "df_E.rename(columns={'Locación':'Locacion'}, inplace=True)"
   ]
  },
  {
   "cell_type": "code",
   "execution_count": 0,
   "metadata": {
    "application/vnd.databricks.v1+cell": {
     "cellMetadata": {
      "byteLimit": 2048000,
      "rowLimit": 10000
     },
     "inputWidgets": {},
     "nuid": "66840121-f04a-4ad4-9029-b5c2d0078698",
     "showTitle": false,
     "title": ""
    }
   },
   "outputs": [],
   "source": [
    "df_E['Fecha'] = pd.to_datetime(df_E['Fecha'])"
   ]
  },
  {
   "cell_type": "code",
   "execution_count": 0,
   "metadata": {
    "application/vnd.databricks.v1+cell": {
     "cellMetadata": {
      "byteLimit": 2048000,
      "rowLimit": 10000
     },
     "inputWidgets": {},
     "nuid": "d8378ed4-e99e-4f58-98e9-eea8df321e13",
     "showTitle": false,
     "title": ""
    }
   },
   "outputs": [],
   "source": [
    "Base_Final_EEUU = df_E"
   ]
  },
  {
   "cell_type": "code",
   "execution_count": 0,
   "metadata": {
    "application/vnd.databricks.v1+cell": {
     "cellMetadata": {
      "byteLimit": 2048000,
      "rowLimit": 10000
     },
     "inputWidgets": {},
     "nuid": "b60edf00-0675-4618-b8ec-017da55c0fdb",
     "showTitle": false,
     "title": ""
    }
   },
   "outputs": [
    {
     "output_type": "display_data",
     "data": {
      "text/html": [
       "<div>\n",
       "<style scoped>\n",
       "    .dataframe tbody tr th:only-of-type {\n",
       "        vertical-align: middle;\n",
       "    }\n",
       "\n",
       "    .dataframe tbody tr th {\n",
       "        vertical-align: top;\n",
       "    }\n",
       "\n",
       "    .dataframe thead th {\n",
       "        text-align: right;\n",
       "    }\n",
       "</style>\n",
       "<table border=\"1\" class=\"dataframe\">\n",
       "  <thead>\n",
       "    <tr style=\"text-align: right;\">\n",
       "      <th></th>\n",
       "      <th>Fecha</th>\n",
       "      <th>Hora</th>\n",
       "      <th>Latitud</th>\n",
       "      <th>Longitud</th>\n",
       "      <th>País</th>\n",
       "      <th>Locacion</th>\n",
       "      <th>Profundidad</th>\n",
       "      <th>Clasificación Profundidad</th>\n",
       "      <th>Magnitud</th>\n",
       "      <th>Clasificación Magnitud</th>\n",
       "    </tr>\n",
       "  </thead>\n",
       "  <tbody>\n",
       "    <tr>\n",
       "      <th>0</th>\n",
       "      <td>2008-01-01</td>\n",
       "      <td>00:34:53</td>\n",
       "      <td>63.5818</td>\n",
       "      <td>-150.0199</td>\n",
       "      <td>EEUU</td>\n",
       "      <td>Alaska</td>\n",
       "      <td>132.700</td>\n",
       "      <td>Profundo</td>\n",
       "      <td>2.60</td>\n",
       "      <td>Menor Magnitud</td>\n",
       "    </tr>\n",
       "    <tr>\n",
       "      <th>1</th>\n",
       "      <td>2008-01-03</td>\n",
       "      <td>04:21:53</td>\n",
       "      <td>45.127</td>\n",
       "      <td>-120.946</td>\n",
       "      <td>EEUU</td>\n",
       "      <td>Oregon</td>\n",
       "      <td>16.162</td>\n",
       "      <td>Media</td>\n",
       "      <td>2.70</td>\n",
       "      <td>Menor Magnitud</td>\n",
       "    </tr>\n",
       "    <tr>\n",
       "      <th>2</th>\n",
       "      <td>2008-01-03</td>\n",
       "      <td>04:21:53</td>\n",
       "      <td>45.127</td>\n",
       "      <td>-120.946</td>\n",
       "      <td>EEUU</td>\n",
       "      <td>Washington</td>\n",
       "      <td>16.162</td>\n",
       "      <td>Media</td>\n",
       "      <td>2.70</td>\n",
       "      <td>Menor Magnitud</td>\n",
       "    </tr>\n",
       "    <tr>\n",
       "      <th>3</th>\n",
       "      <td>2008-01-04</td>\n",
       "      <td>04:38:59</td>\n",
       "      <td>63.652</td>\n",
       "      <td>-149.5325</td>\n",
       "      <td>EEUU</td>\n",
       "      <td>Alaska</td>\n",
       "      <td>117.300</td>\n",
       "      <td>Profundo</td>\n",
       "      <td>3.10</td>\n",
       "      <td>Ligera Magnitud</td>\n",
       "    </tr>\n",
       "    <tr>\n",
       "      <th>4</th>\n",
       "      <td>2008-01-07</td>\n",
       "      <td>22:02:08</td>\n",
       "      <td>48.0623333</td>\n",
       "      <td>-120.8096667</td>\n",
       "      <td>EEUU</td>\n",
       "      <td>Washington</td>\n",
       "      <td>-0.300</td>\n",
       "      <td>Superficial</td>\n",
       "      <td>2.70</td>\n",
       "      <td>Menor Magnitud</td>\n",
       "    </tr>\n",
       "    <tr>\n",
       "      <th>...</th>\n",
       "      <td>...</td>\n",
       "      <td>...</td>\n",
       "      <td>...</td>\n",
       "      <td>...</td>\n",
       "      <td>...</td>\n",
       "      <td>...</td>\n",
       "      <td>...</td>\n",
       "      <td>...</td>\n",
       "      <td>...</td>\n",
       "      <td>...</td>\n",
       "    </tr>\n",
       "    <tr>\n",
       "      <th>13011</th>\n",
       "      <td>2023-06-21</td>\n",
       "      <td>14:26:08</td>\n",
       "      <td>62.4333</td>\n",
       "      <td>-150.5708</td>\n",
       "      <td>EEUU</td>\n",
       "      <td>Alaska</td>\n",
       "      <td>63.700</td>\n",
       "      <td>Profundo</td>\n",
       "      <td>3.80</td>\n",
       "      <td>Ligera Magnitud</td>\n",
       "    </tr>\n",
       "    <tr>\n",
       "      <th>13012</th>\n",
       "      <td>2023-06-21</td>\n",
       "      <td>21:01:18</td>\n",
       "      <td>45.6715</td>\n",
       "      <td>-122.71283333333334</td>\n",
       "      <td>EEUU</td>\n",
       "      <td>Washington</td>\n",
       "      <td>20.070</td>\n",
       "      <td>Media</td>\n",
       "      <td>2.54</td>\n",
       "      <td>Menor Magnitud</td>\n",
       "    </tr>\n",
       "    <tr>\n",
       "      <th>13013</th>\n",
       "      <td>2023-06-21</td>\n",
       "      <td>13:58:59</td>\n",
       "      <td>35.6848333</td>\n",
       "      <td>-117.483</td>\n",
       "      <td>EEUU</td>\n",
       "      <td>California</td>\n",
       "      <td>7.820</td>\n",
       "      <td>Superficial</td>\n",
       "      <td>2.51</td>\n",
       "      <td>Menor Magnitud</td>\n",
       "    </tr>\n",
       "    <tr>\n",
       "      <th>13014</th>\n",
       "      <td>2023-06-22</td>\n",
       "      <td>08:04:45</td>\n",
       "      <td>46.629333333333335</td>\n",
       "      <td>-121.95766666666668</td>\n",
       "      <td>EEUU</td>\n",
       "      <td>Washington</td>\n",
       "      <td>8.170</td>\n",
       "      <td>Superficial</td>\n",
       "      <td>2.64</td>\n",
       "      <td>Menor Magnitud</td>\n",
       "    </tr>\n",
       "    <tr>\n",
       "      <th>13015</th>\n",
       "      <td>2023-06-23</td>\n",
       "      <td>18:52:31</td>\n",
       "      <td>36.538</td>\n",
       "      <td>-121.145</td>\n",
       "      <td>EEUU</td>\n",
       "      <td>California</td>\n",
       "      <td>2.650</td>\n",
       "      <td>Superficial</td>\n",
       "      <td>2.84</td>\n",
       "      <td>Menor Magnitud</td>\n",
       "    </tr>\n",
       "  </tbody>\n",
       "</table>\n",
       "<p>13016 rows × 10 columns</p>\n",
       "</div>"
      ]
     },
     "metadata": {
      "application/vnd.databricks.v1+output": {
       "addedWidgets": {},
       "arguments": {},
       "data": "<div>\n<style scoped>\n    .dataframe tbody tr th:only-of-type {\n        vertical-align: middle;\n    }\n\n    .dataframe tbody tr th {\n        vertical-align: top;\n    }\n\n    .dataframe thead th {\n        text-align: right;\n    }\n</style>\n<table border=\"1\" class=\"dataframe\">\n  <thead>\n    <tr style=\"text-align: right;\">\n      <th></th>\n      <th>Fecha</th>\n      <th>Hora</th>\n      <th>Latitud</th>\n      <th>Longitud</th>\n      <th>País</th>\n      <th>Locacion</th>\n      <th>Profundidad</th>\n      <th>Clasificación Profundidad</th>\n      <th>Magnitud</th>\n      <th>Clasificación Magnitud</th>\n    </tr>\n  </thead>\n  <tbody>\n    <tr>\n      <th>0</th>\n      <td>2008-01-01</td>\n      <td>00:34:53</td>\n      <td>63.5818</td>\n      <td>-150.0199</td>\n      <td>EEUU</td>\n      <td>Alaska</td>\n      <td>132.700</td>\n      <td>Profundo</td>\n      <td>2.60</td>\n      <td>Menor Magnitud</td>\n    </tr>\n    <tr>\n      <th>1</th>\n      <td>2008-01-03</td>\n      <td>04:21:53</td>\n      <td>45.127</td>\n      <td>-120.946</td>\n      <td>EEUU</td>\n      <td>Oregon</td>\n      <td>16.162</td>\n      <td>Media</td>\n      <td>2.70</td>\n      <td>Menor Magnitud</td>\n    </tr>\n    <tr>\n      <th>2</th>\n      <td>2008-01-03</td>\n      <td>04:21:53</td>\n      <td>45.127</td>\n      <td>-120.946</td>\n      <td>EEUU</td>\n      <td>Washington</td>\n      <td>16.162</td>\n      <td>Media</td>\n      <td>2.70</td>\n      <td>Menor Magnitud</td>\n    </tr>\n    <tr>\n      <th>3</th>\n      <td>2008-01-04</td>\n      <td>04:38:59</td>\n      <td>63.652</td>\n      <td>-149.5325</td>\n      <td>EEUU</td>\n      <td>Alaska</td>\n      <td>117.300</td>\n      <td>Profundo</td>\n      <td>3.10</td>\n      <td>Ligera Magnitud</td>\n    </tr>\n    <tr>\n      <th>4</th>\n      <td>2008-01-07</td>\n      <td>22:02:08</td>\n      <td>48.0623333</td>\n      <td>-120.8096667</td>\n      <td>EEUU</td>\n      <td>Washington</td>\n      <td>-0.300</td>\n      <td>Superficial</td>\n      <td>2.70</td>\n      <td>Menor Magnitud</td>\n    </tr>\n    <tr>\n      <th>...</th>\n      <td>...</td>\n      <td>...</td>\n      <td>...</td>\n      <td>...</td>\n      <td>...</td>\n      <td>...</td>\n      <td>...</td>\n      <td>...</td>\n      <td>...</td>\n      <td>...</td>\n    </tr>\n    <tr>\n      <th>13011</th>\n      <td>2023-06-21</td>\n      <td>14:26:08</td>\n      <td>62.4333</td>\n      <td>-150.5708</td>\n      <td>EEUU</td>\n      <td>Alaska</td>\n      <td>63.700</td>\n      <td>Profundo</td>\n      <td>3.80</td>\n      <td>Ligera Magnitud</td>\n    </tr>\n    <tr>\n      <th>13012</th>\n      <td>2023-06-21</td>\n      <td>21:01:18</td>\n      <td>45.6715</td>\n      <td>-122.71283333333334</td>\n      <td>EEUU</td>\n      <td>Washington</td>\n      <td>20.070</td>\n      <td>Media</td>\n      <td>2.54</td>\n      <td>Menor Magnitud</td>\n    </tr>\n    <tr>\n      <th>13013</th>\n      <td>2023-06-21</td>\n      <td>13:58:59</td>\n      <td>35.6848333</td>\n      <td>-117.483</td>\n      <td>EEUU</td>\n      <td>California</td>\n      <td>7.820</td>\n      <td>Superficial</td>\n      <td>2.51</td>\n      <td>Menor Magnitud</td>\n    </tr>\n    <tr>\n      <th>13014</th>\n      <td>2023-06-22</td>\n      <td>08:04:45</td>\n      <td>46.629333333333335</td>\n      <td>-121.95766666666668</td>\n      <td>EEUU</td>\n      <td>Washington</td>\n      <td>8.170</td>\n      <td>Superficial</td>\n      <td>2.64</td>\n      <td>Menor Magnitud</td>\n    </tr>\n    <tr>\n      <th>13015</th>\n      <td>2023-06-23</td>\n      <td>18:52:31</td>\n      <td>36.538</td>\n      <td>-121.145</td>\n      <td>EEUU</td>\n      <td>California</td>\n      <td>2.650</td>\n      <td>Superficial</td>\n      <td>2.84</td>\n      <td>Menor Magnitud</td>\n    </tr>\n  </tbody>\n</table>\n<p>13016 rows × 10 columns</p>\n</div>",
       "datasetInfos": [],
       "metadata": {},
       "removedWidgets": [],
       "textData": null,
       "type": "htmlSandbox"
      }
     },
     "output_type": "display_data"
    }
   ],
   "source": [
    "Base_Final_EEUU"
   ]
  },
  {
   "cell_type": "markdown",
   "metadata": {
    "application/vnd.databricks.v1+cell": {
     "cellMetadata": {
      "byteLimit": 2048000,
      "rowLimit": 10000
     },
     "inputWidgets": {},
     "nuid": "df2732f0-a91b-455d-b570-070b4604e47f",
     "showTitle": false,
     "title": ""
    }
   },
   "source": [
    "##Transformación Base México"
   ]
  },
  {
   "cell_type": "code",
   "execution_count": 0,
   "metadata": {
    "application/vnd.databricks.v1+cell": {
     "cellMetadata": {
      "byteLimit": 2048000,
      "rowLimit": 10000
     },
     "inputWidgets": {},
     "nuid": "f4b0188f-6647-40ad-895b-b3a6dabf267a",
     "showTitle": false,
     "title": ""
    }
   },
   "outputs": [
    {
     "output_type": "display_data",
     "data": {
      "text/html": [
       "<div>\n",
       "<style scoped>\n",
       "    .dataframe tbody tr th:only-of-type {\n",
       "        vertical-align: middle;\n",
       "    }\n",
       "\n",
       "    .dataframe tbody tr th {\n",
       "        vertical-align: top;\n",
       "    }\n",
       "\n",
       "    .dataframe thead th {\n",
       "        text-align: right;\n",
       "    }\n",
       "</style>\n",
       "<table border=\"1\" class=\"dataframe\">\n",
       "  <thead>\n",
       "    <tr style=\"text-align: right;\">\n",
       "      <th></th>\n",
       "      <th>Fecha</th>\n",
       "      <th>Hora</th>\n",
       "      <th>Magnitud</th>\n",
       "      <th>Latitud</th>\n",
       "      <th>Longitud</th>\n",
       "      <th>Profundidad</th>\n",
       "      <th>Locacion</th>\n",
       "      <th>Fecha_UTC</th>\n",
       "      <th>Hora_UTC</th>\n",
       "      <th>Estatus</th>\n",
       "    </tr>\n",
       "  </thead>\n",
       "  <tbody>\n",
       "    <tr>\n",
       "      <th>0</th>\n",
       "      <td>2008-01-04</td>\n",
       "      <td>1970-01-01 16:25:43</td>\n",
       "      <td>4.1</td>\n",
       "      <td>19.2</td>\n",
       "      <td>-104.75</td>\n",
       "      <td>46.0</td>\n",
       "      <td>20 km al OESTE de CIHUATLAN, JAL</td>\n",
       "      <td>2008-01-04</td>\n",
       "      <td>1970-01-01 22:25:43</td>\n",
       "      <td>revisado</td>\n",
       "    </tr>\n",
       "    <tr>\n",
       "      <th>1</th>\n",
       "      <td>2009-08-03</td>\n",
       "      <td>1970-01-01 13:40:54</td>\n",
       "      <td>5.8</td>\n",
       "      <td>29.42</td>\n",
       "      <td>-113.5</td>\n",
       "      <td>10.0</td>\n",
       "      <td>171 km al NORESTE de GUERRERO NEGRO, BCS</td>\n",
       "      <td>2009-08-03</td>\n",
       "      <td>1970-01-01 18:40:54</td>\n",
       "      <td>revisado</td>\n",
       "    </tr>\n",
       "    <tr>\n",
       "      <th>2</th>\n",
       "      <td>2008-01-06</td>\n",
       "      <td>1970-01-01 03:10:22</td>\n",
       "      <td>3.8</td>\n",
       "      <td>16.87</td>\n",
       "      <td>-94.91</td>\n",
       "      <td>20.0</td>\n",
       "      <td>14 km al ESTE de MATIAS ROMERO, OAX</td>\n",
       "      <td>2008-01-06</td>\n",
       "      <td>1970-01-01 09:10:22</td>\n",
       "      <td>revisado</td>\n",
       "    </tr>\n",
       "    <tr>\n",
       "      <th>3</th>\n",
       "      <td>2008-01-01</td>\n",
       "      <td>1970-01-01 14:07:14</td>\n",
       "      <td>3.4</td>\n",
       "      <td>16.82</td>\n",
       "      <td>-100.19</td>\n",
       "      <td>5.0</td>\n",
       "      <td>23 km al SUROESTE de COYUCA DE BENITEZ, GRO</td>\n",
       "      <td>2008-01-01</td>\n",
       "      <td>1970-01-01 20:07:14</td>\n",
       "      <td>revisado</td>\n",
       "    </tr>\n",
       "    <tr>\n",
       "      <th>4</th>\n",
       "      <td>2009-05-01</td>\n",
       "      <td>1970-01-01 18:38:09</td>\n",
       "      <td>2.7</td>\n",
       "      <td>17.01</td>\n",
       "      <td>-100.08</td>\n",
       "      <td>7.0</td>\n",
       "      <td>1 km al NORESTE de COYUCA DE BENITEZ, GRO</td>\n",
       "      <td>2009-05-01</td>\n",
       "      <td>1970-01-01 23:38:09</td>\n",
       "      <td>revisado</td>\n",
       "    </tr>\n",
       "    <tr>\n",
       "      <th>...</th>\n",
       "      <td>...</td>\n",
       "      <td>...</td>\n",
       "      <td>...</td>\n",
       "      <td>...</td>\n",
       "      <td>...</td>\n",
       "      <td>...</td>\n",
       "      <td>...</td>\n",
       "      <td>...</td>\n",
       "      <td>...</td>\n",
       "      <td>...</td>\n",
       "    </tr>\n",
       "    <tr>\n",
       "      <th>9995</th>\n",
       "      <td>2011-07-08</td>\n",
       "      <td>1970-01-01 00:15:23</td>\n",
       "      <td>3.6</td>\n",
       "      <td>31.15</td>\n",
       "      <td>-115.36</td>\n",
       "      <td>38.0</td>\n",
       "      <td>52 km al NOROESTE de SAN FELIPE, BC</td>\n",
       "      <td>2011-07-08</td>\n",
       "      <td>1970-01-01 05:15:23</td>\n",
       "      <td>revisado</td>\n",
       "    </tr>\n",
       "    <tr>\n",
       "      <th>9996</th>\n",
       "      <td>2011-07-08</td>\n",
       "      <td>1970-01-01 14:05:24</td>\n",
       "      <td>3.6</td>\n",
       "      <td>14.2</td>\n",
       "      <td>-93.08</td>\n",
       "      <td>20.0</td>\n",
       "      <td>113 km al SUROESTE de CD HIDALGO, CHIS</td>\n",
       "      <td>2011-07-08</td>\n",
       "      <td>1970-01-01 19:05:24</td>\n",
       "      <td>revisado</td>\n",
       "    </tr>\n",
       "    <tr>\n",
       "      <th>9997</th>\n",
       "      <td>2011-07-08</td>\n",
       "      <td>1970-01-01 15:51:18</td>\n",
       "      <td>3.6</td>\n",
       "      <td>15.35</td>\n",
       "      <td>-93.1</td>\n",
       "      <td>89.0</td>\n",
       "      <td>25 km al SUROESTE de MAPASTEPEC, CHIS</td>\n",
       "      <td>2011-07-08</td>\n",
       "      <td>1970-01-01 20:51:18</td>\n",
       "      <td>revisado</td>\n",
       "    </tr>\n",
       "    <tr>\n",
       "      <th>9998</th>\n",
       "      <td>2011-07-09</td>\n",
       "      <td>1970-01-01 04:13:36</td>\n",
       "      <td>4.3</td>\n",
       "      <td>14.32</td>\n",
       "      <td>-92.93</td>\n",
       "      <td>19.0</td>\n",
       "      <td>93 km al SUROESTE de CD HIDALGO, CHIS</td>\n",
       "      <td>2011-07-09</td>\n",
       "      <td>1970-01-01 09:13:36</td>\n",
       "      <td>revisado</td>\n",
       "    </tr>\n",
       "    <tr>\n",
       "      <th>9999</th>\n",
       "      <td>2011-07-09</td>\n",
       "      <td>1970-01-01 11:55:10</td>\n",
       "      <td>3.6</td>\n",
       "      <td>15.83</td>\n",
       "      <td>-96.42</td>\n",
       "      <td>36.0</td>\n",
       "      <td>11 km al NORESTE de S PEDRO POCHUTLA, OAX</td>\n",
       "      <td>2011-07-09</td>\n",
       "      <td>1970-01-01 16:55:10</td>\n",
       "      <td>revisado</td>\n",
       "    </tr>\n",
       "  </tbody>\n",
       "</table>\n",
       "<p>10000 rows × 10 columns</p>\n",
       "</div>"
      ]
     },
     "metadata": {
      "application/vnd.databricks.v1+output": {
       "addedWidgets": {},
       "arguments": {},
       "data": "<div>\n<style scoped>\n    .dataframe tbody tr th:only-of-type {\n        vertical-align: middle;\n    }\n\n    .dataframe tbody tr th {\n        vertical-align: top;\n    }\n\n    .dataframe thead th {\n        text-align: right;\n    }\n</style>\n<table border=\"1\" class=\"dataframe\">\n  <thead>\n    <tr style=\"text-align: right;\">\n      <th></th>\n      <th>Fecha</th>\n      <th>Hora</th>\n      <th>Magnitud</th>\n      <th>Latitud</th>\n      <th>Longitud</th>\n      <th>Profundidad</th>\n      <th>Locacion</th>\n      <th>Fecha_UTC</th>\n      <th>Hora_UTC</th>\n      <th>Estatus</th>\n    </tr>\n  </thead>\n  <tbody>\n    <tr>\n      <th>0</th>\n      <td>2008-01-04</td>\n      <td>1970-01-01 16:25:43</td>\n      <td>4.1</td>\n      <td>19.2</td>\n      <td>-104.75</td>\n      <td>46.0</td>\n      <td>20 km al OESTE de CIHUATLAN, JAL</td>\n      <td>2008-01-04</td>\n      <td>1970-01-01 22:25:43</td>\n      <td>revisado</td>\n    </tr>\n    <tr>\n      <th>1</th>\n      <td>2009-08-03</td>\n      <td>1970-01-01 13:40:54</td>\n      <td>5.8</td>\n      <td>29.42</td>\n      <td>-113.5</td>\n      <td>10.0</td>\n      <td>171 km al NORESTE de GUERRERO NEGRO, BCS</td>\n      <td>2009-08-03</td>\n      <td>1970-01-01 18:40:54</td>\n      <td>revisado</td>\n    </tr>\n    <tr>\n      <th>2</th>\n      <td>2008-01-06</td>\n      <td>1970-01-01 03:10:22</td>\n      <td>3.8</td>\n      <td>16.87</td>\n      <td>-94.91</td>\n      <td>20.0</td>\n      <td>14 km al ESTE de MATIAS ROMERO, OAX</td>\n      <td>2008-01-06</td>\n      <td>1970-01-01 09:10:22</td>\n      <td>revisado</td>\n    </tr>\n    <tr>\n      <th>3</th>\n      <td>2008-01-01</td>\n      <td>1970-01-01 14:07:14</td>\n      <td>3.4</td>\n      <td>16.82</td>\n      <td>-100.19</td>\n      <td>5.0</td>\n      <td>23 km al SUROESTE de COYUCA DE BENITEZ, GRO</td>\n      <td>2008-01-01</td>\n      <td>1970-01-01 20:07:14</td>\n      <td>revisado</td>\n    </tr>\n    <tr>\n      <th>4</th>\n      <td>2009-05-01</td>\n      <td>1970-01-01 18:38:09</td>\n      <td>2.7</td>\n      <td>17.01</td>\n      <td>-100.08</td>\n      <td>7.0</td>\n      <td>1 km al NORESTE de COYUCA DE BENITEZ, GRO</td>\n      <td>2009-05-01</td>\n      <td>1970-01-01 23:38:09</td>\n      <td>revisado</td>\n    </tr>\n    <tr>\n      <th>...</th>\n      <td>...</td>\n      <td>...</td>\n      <td>...</td>\n      <td>...</td>\n      <td>...</td>\n      <td>...</td>\n      <td>...</td>\n      <td>...</td>\n      <td>...</td>\n      <td>...</td>\n    </tr>\n    <tr>\n      <th>9995</th>\n      <td>2011-07-08</td>\n      <td>1970-01-01 00:15:23</td>\n      <td>3.6</td>\n      <td>31.15</td>\n      <td>-115.36</td>\n      <td>38.0</td>\n      <td>52 km al NOROESTE de SAN FELIPE, BC</td>\n      <td>2011-07-08</td>\n      <td>1970-01-01 05:15:23</td>\n      <td>revisado</td>\n    </tr>\n    <tr>\n      <th>9996</th>\n      <td>2011-07-08</td>\n      <td>1970-01-01 14:05:24</td>\n      <td>3.6</td>\n      <td>14.2</td>\n      <td>-93.08</td>\n      <td>20.0</td>\n      <td>113 km al SUROESTE de CD HIDALGO, CHIS</td>\n      <td>2011-07-08</td>\n      <td>1970-01-01 19:05:24</td>\n      <td>revisado</td>\n    </tr>\n    <tr>\n      <th>9997</th>\n      <td>2011-07-08</td>\n      <td>1970-01-01 15:51:18</td>\n      <td>3.6</td>\n      <td>15.35</td>\n      <td>-93.1</td>\n      <td>89.0</td>\n      <td>25 km al SUROESTE de MAPASTEPEC, CHIS</td>\n      <td>2011-07-08</td>\n      <td>1970-01-01 20:51:18</td>\n      <td>revisado</td>\n    </tr>\n    <tr>\n      <th>9998</th>\n      <td>2011-07-09</td>\n      <td>1970-01-01 04:13:36</td>\n      <td>4.3</td>\n      <td>14.32</td>\n      <td>-92.93</td>\n      <td>19.0</td>\n      <td>93 km al SUROESTE de CD HIDALGO, CHIS</td>\n      <td>2011-07-09</td>\n      <td>1970-01-01 09:13:36</td>\n      <td>revisado</td>\n    </tr>\n    <tr>\n      <th>9999</th>\n      <td>2011-07-09</td>\n      <td>1970-01-01 11:55:10</td>\n      <td>3.6</td>\n      <td>15.83</td>\n      <td>-96.42</td>\n      <td>36.0</td>\n      <td>11 km al NORESTE de S PEDRO POCHUTLA, OAX</td>\n      <td>2011-07-09</td>\n      <td>1970-01-01 16:55:10</td>\n      <td>revisado</td>\n    </tr>\n  </tbody>\n</table>\n<p>10000 rows × 10 columns</p>\n</div>",
       "datasetInfos": [],
       "metadata": {},
       "removedWidgets": [],
       "textData": null,
       "type": "htmlSandbox"
      }
     },
     "output_type": "display_data"
    }
   ],
   "source": [
    "df_M"
   ]
  },
  {
   "cell_type": "code",
   "execution_count": 0,
   "metadata": {
    "application/vnd.databricks.v1+cell": {
     "cellMetadata": {
      "byteLimit": 2048000,
      "rowLimit": 10000
     },
     "inputWidgets": {},
     "nuid": "b2e2512b-a4b4-4a94-b0e2-64a06cfc3033",
     "showTitle": false,
     "title": ""
    }
   },
   "outputs": [],
   "source": [
    "df_M.drop([\"Estatus\"],axis=1,inplace=True)\n",
    "df_M[\"País\"] = 'México'"
   ]
  },
  {
   "cell_type": "code",
   "execution_count": 0,
   "metadata": {
    "application/vnd.databricks.v1+cell": {
     "cellMetadata": {
      "byteLimit": 2048000,
      "rowLimit": 10000
     },
     "inputWidgets": {},
     "nuid": "bc81ee0a-52de-4ef3-b1b6-0880a62b7409",
     "showTitle": false,
     "title": ""
    }
   },
   "outputs": [],
   "source": [
    "df_M.dropna(inplace=True)\n",
    "df_M.reset_index(inplace=True,drop=True)"
   ]
  },
  {
   "cell_type": "code",
   "execution_count": 0,
   "metadata": {
    "application/vnd.databricks.v1+cell": {
     "cellMetadata": {
      "byteLimit": 2048000,
      "rowLimit": 10000
     },
     "inputWidgets": {},
     "nuid": "58364806-ee98-4e3a-8e8b-38db4a749abd",
     "showTitle": false,
     "title": ""
    }
   },
   "outputs": [],
   "source": [
    "for indice in (range(len(df_M))):\n",
    "    estado = df_M[\"Locacion\"][indice].split(\",\")[-1].strip()\n",
    "\n",
    "    if estado == \"OAX\":\n",
    "        df_M.loc[indice,\"Locacion\"] = \"Oaxaca\"\n",
    "    elif estado == \"GRO\":\n",
    "        df_M.loc[indice,\"Locacion\"] = \"Guerrero\"\n",
    "    elif estado == \"CHIS\":\n",
    "        df_M.loc[indice,\"Locacion\"] = \"Chiapas\"\n",
    "    elif estado == \"MICH\":\n",
    "        df_M.loc[indice,\"Locacion\"] = \"Michoacán\"\n",
    "    elif estado == \"BC\":\n",
    "        df_M.loc[indice,\"Locacion\"] = \"Baja California\"\n",
    "    elif estado == \"JAL\":\n",
    "        df_M.loc[indice,\"Locacion\"] = \"Jalisco\"\n",
    "    elif estado == \"COL\":\n",
    "        df_M.loc[indice,\"Locacion\"] = \"Colima\" \n",
    "    elif estado == \"VER\":\n",
    "        df_M.loc[indice,\"Locacion\"] = \"Veracruz\"\n",
    "    elif estado == \"BCS\":\n",
    "        df_M.loc[indice,\"Locacion\"] = \"Baja California Sur\"\n",
    "    elif estado == \"SON\":\n",
    "        df_M.loc[indice,\"Locacion\"] = \"Sonora\"\n",
    "    elif estado == \"PUE\":\n",
    "        df_M.loc[indice,\"Locacion\"] = \"Puebla\"\n",
    "    elif estado == \"SIN\":\n",
    "        df_M.loc[indice,\"Locacion\"] = \"Sinaloa\"\n",
    "    elif estado == \"HGO\":\n",
    "        df_M.loc[indice,\"Locacion\"] = \"Hidalgo\"\n",
    "    \n",
    "    elif estado == \"CHIH\":\n",
    "        df_M.loc[indice,\"Locacion\"] = \"Chihuahua\"\n",
    "    elif estado == \"MEX\":\n",
    "        df_M.loc[indice,\"Locacion\"] = \"Mexico\"\n",
    "    elif estado == \"NL\":\n",
    "        df_M.loc[indice,\"Locacion\"] = \"Nuevo León\"\n",
    "    elif estado == \"ZAC\":\n",
    "        df_M.loc[indice,\"Locacion\"] = \"Zacatecas\"\n",
    "    elif estado == \"TAB\":\n",
    "        df_M.loc[indice,\"Locacion\"] = \"Tabasco\"\n",
    "    elif estado == \"NAY\":\n",
    "        df_M.loc[indice,\"Locacion\"] = \"Nayarit\"\n",
    "    elif estado == \"MOR\":\n",
    "        df_M.loc[indice,\"Locacion\"] = \"Morelos\"\n",
    "    elif estado == \"CDMX\":\n",
    "        df_M.loc[indice,\"Locacion\"] = \"Ciudad de México\"\n",
    "    elif estado == \"SLP\":\n",
    "        df_M.loc[indice,\"Locacion\"] = \"San Luis Potosí\"\n",
    "    elif estado == \"COAH\":\n",
    "        df_M.loc[indice,\"Locacion\"] = \"Coahuila de Zaragoza\"\n",
    "    elif estado == \"TAMS\":\n",
    "        df_M.loc[indice,\"Locacion\"] = \"Tamaulipas\"\n",
    "    elif estado == \"GTO\":\n",
    "        df_M.loc[indice,\"Locacion\"] = \"Guanajuato\"\n",
    "\n",
    "    elif estado == \"TLAX\":\n",
    "        df_M.loc[indice,\"Locacion\"] = \"Tlaxcala\"\n",
    "    elif estado == \"DGO\":\n",
    "        df_M.loc[indice,\"Locacion\"] = \"Durango\"\n",
    "    elif estado == \"AGS\":\n",
    "        df_M.loc[indice,\"Locacion\"] = \"Aguascalientes\"\n",
    "    elif estado == \"QRO\":\n",
    "        df_M.loc[indice,\"Locacion\"] = \"Querétaro\"\n",
    "    elif estado == \"QR\":\n",
    "        df_M.loc[indice,\"Locacion\"] = \"Quintana Roo\"\n",
    "    elif estado == \"CAMP\":\n",
    "        df_M.loc[indice,\"Locacion\"] = \"Campeche\"\n",
    "    elif estado == \"YUC\":\n",
    "        df_M.loc[indice,\"Locacion\"] = \"Yucatán\"\n",
    "    elif estado == \"N\":\n",
    "        df_M.loc[indice,\"Locacion\"] = \"Nuevo León\" \n"
   ]
  },
  {
   "cell_type": "code",
   "execution_count": 0,
   "metadata": {
    "application/vnd.databricks.v1+cell": {
     "cellMetadata": {
      "byteLimit": 2048000,
      "rowLimit": 10000
     },
     "inputWidgets": {},
     "nuid": "083ea747-3274-4b8b-b309-9d64f1aa310f",
     "showTitle": false,
     "title": ""
    }
   },
   "outputs": [],
   "source": [
    "lista = df_M[(df_M[\"Profundidad\"]==\"en revision\") | (df_M[\"Profundidad\"]==\"menos de 1\") | (df_M[\"Magnitud\"]==\"no calculable\")].index\n",
    "df_M.drop(index=lista,inplace=True)\n",
    "df_M.reset_index(inplace=True,drop=True)\n",
    "df_M['Profundidad'] = df_M['Profundidad'].astype(float)  # Convertir a tipo float\n",
    "# Aplicar la función a cada fila de la columna \"Profundidad\" y crear la nueva columna \"Clasificación Profundidad\"\n",
    "df_M['Clasificación Profundidad'] = df_M['Profundidad'].apply(clasificar_profundidad)"
   ]
  },
  {
   "cell_type": "code",
   "execution_count": 0,
   "metadata": {
    "application/vnd.databricks.v1+cell": {
     "cellMetadata": {
      "byteLimit": 2048000,
      "rowLimit": 10000
     },
     "inputWidgets": {},
     "nuid": "cee89dd6-3348-41fd-a66d-bc8ed0704b40",
     "showTitle": false,
     "title": ""
    }
   },
   "outputs": [],
   "source": [
    "rangos = [(2, 2.9), (3, 3.9), (4, 4.9), (5, 5.9), (6, 6.9), (7, 7.9), (8, 9.9), (10, 15)]\n",
    "etiquetas = ['Micro Magnitud', 'Menor Magnitud', 'Ligera Magnitud', 'Moderada Magnitud',\n",
    "              'Fuerte Magnitud', 'Mayor Magnitud', 'Gran Magnitud', 'Magnitud Épica']\n",
    "\n",
    "df_M['Clasificación Magnitud'] = pd.cut(df_M['Magnitud'], bins=[lim[0] for lim in rangos] + [rangos[-1][1]],\n",
    "                               labels=etiquetas, right=False)"
   ]
  },
  {
   "cell_type": "code",
   "execution_count": 0,
   "metadata": {
    "application/vnd.databricks.v1+cell": {
     "cellMetadata": {
      "byteLimit": 2048000,
      "rowLimit": 10000
     },
     "inputWidgets": {},
     "nuid": "c9e15503-90e9-43ba-8113-3c492694c774",
     "showTitle": false,
     "title": ""
    }
   },
   "outputs": [
    {
     "output_type": "display_data",
     "data": {
      "text/html": [
       "<div>\n",
       "<style scoped>\n",
       "    .dataframe tbody tr th:only-of-type {\n",
       "        vertical-align: middle;\n",
       "    }\n",
       "\n",
       "    .dataframe tbody tr th {\n",
       "        vertical-align: top;\n",
       "    }\n",
       "\n",
       "    .dataframe thead th {\n",
       "        text-align: right;\n",
       "    }\n",
       "</style>\n",
       "<table border=\"1\" class=\"dataframe\">\n",
       "  <thead>\n",
       "    <tr style=\"text-align: right;\">\n",
       "      <th></th>\n",
       "      <th>Fecha</th>\n",
       "      <th>Hora</th>\n",
       "      <th>Magnitud</th>\n",
       "      <th>Latitud</th>\n",
       "      <th>Longitud</th>\n",
       "      <th>Profundidad</th>\n",
       "      <th>Locacion</th>\n",
       "      <th>Fecha_UTC</th>\n",
       "      <th>Hora_UTC</th>\n",
       "      <th>País</th>\n",
       "      <th>Clasificación Profundidad</th>\n",
       "      <th>Clasificación Magnitud</th>\n",
       "    </tr>\n",
       "  </thead>\n",
       "  <tbody>\n",
       "    <tr>\n",
       "      <th>0</th>\n",
       "      <td>2008-01-04</td>\n",
       "      <td>1970-01-01 16:25:43</td>\n",
       "      <td>4.1</td>\n",
       "      <td>19.2</td>\n",
       "      <td>-104.75</td>\n",
       "      <td>46.0</td>\n",
       "      <td>Jalisco</td>\n",
       "      <td>2008-01-04</td>\n",
       "      <td>1970-01-01 22:25:43</td>\n",
       "      <td>México</td>\n",
       "      <td>Profundo</td>\n",
       "      <td>Ligera Magnitud</td>\n",
       "    </tr>\n",
       "    <tr>\n",
       "      <th>1</th>\n",
       "      <td>2009-08-03</td>\n",
       "      <td>1970-01-01 13:40:54</td>\n",
       "      <td>5.8</td>\n",
       "      <td>29.42</td>\n",
       "      <td>-113.5</td>\n",
       "      <td>10.0</td>\n",
       "      <td>Baja California Sur</td>\n",
       "      <td>2009-08-03</td>\n",
       "      <td>1970-01-01 18:40:54</td>\n",
       "      <td>México</td>\n",
       "      <td>Superficial</td>\n",
       "      <td>Moderada Magnitud</td>\n",
       "    </tr>\n",
       "    <tr>\n",
       "      <th>2</th>\n",
       "      <td>2008-01-06</td>\n",
       "      <td>1970-01-01 03:10:22</td>\n",
       "      <td>3.8</td>\n",
       "      <td>16.87</td>\n",
       "      <td>-94.91</td>\n",
       "      <td>20.0</td>\n",
       "      <td>Oaxaca</td>\n",
       "      <td>2008-01-06</td>\n",
       "      <td>1970-01-01 09:10:22</td>\n",
       "      <td>México</td>\n",
       "      <td>Media</td>\n",
       "      <td>Menor Magnitud</td>\n",
       "    </tr>\n",
       "    <tr>\n",
       "      <th>3</th>\n",
       "      <td>2008-01-01</td>\n",
       "      <td>1970-01-01 14:07:14</td>\n",
       "      <td>3.4</td>\n",
       "      <td>16.82</td>\n",
       "      <td>-100.19</td>\n",
       "      <td>5.0</td>\n",
       "      <td>Guerrero</td>\n",
       "      <td>2008-01-01</td>\n",
       "      <td>1970-01-01 20:07:14</td>\n",
       "      <td>México</td>\n",
       "      <td>Superficial</td>\n",
       "      <td>Menor Magnitud</td>\n",
       "    </tr>\n",
       "    <tr>\n",
       "      <th>4</th>\n",
       "      <td>2009-05-01</td>\n",
       "      <td>1970-01-01 18:38:09</td>\n",
       "      <td>2.7</td>\n",
       "      <td>17.01</td>\n",
       "      <td>-100.08</td>\n",
       "      <td>7.0</td>\n",
       "      <td>Guerrero</td>\n",
       "      <td>2009-05-01</td>\n",
       "      <td>1970-01-01 23:38:09</td>\n",
       "      <td>México</td>\n",
       "      <td>Superficial</td>\n",
       "      <td>Micro Magnitud</td>\n",
       "    </tr>\n",
       "    <tr>\n",
       "      <th>...</th>\n",
       "      <td>...</td>\n",
       "      <td>...</td>\n",
       "      <td>...</td>\n",
       "      <td>...</td>\n",
       "      <td>...</td>\n",
       "      <td>...</td>\n",
       "      <td>...</td>\n",
       "      <td>...</td>\n",
       "      <td>...</td>\n",
       "      <td>...</td>\n",
       "      <td>...</td>\n",
       "      <td>...</td>\n",
       "    </tr>\n",
       "    <tr>\n",
       "      <th>9995</th>\n",
       "      <td>2011-07-08</td>\n",
       "      <td>1970-01-01 00:15:23</td>\n",
       "      <td>3.6</td>\n",
       "      <td>31.15</td>\n",
       "      <td>-115.36</td>\n",
       "      <td>38.0</td>\n",
       "      <td>Baja California</td>\n",
       "      <td>2011-07-08</td>\n",
       "      <td>1970-01-01 05:15:23</td>\n",
       "      <td>México</td>\n",
       "      <td>Profundo</td>\n",
       "      <td>Menor Magnitud</td>\n",
       "    </tr>\n",
       "    <tr>\n",
       "      <th>9996</th>\n",
       "      <td>2011-07-08</td>\n",
       "      <td>1970-01-01 14:05:24</td>\n",
       "      <td>3.6</td>\n",
       "      <td>14.2</td>\n",
       "      <td>-93.08</td>\n",
       "      <td>20.0</td>\n",
       "      <td>Chiapas</td>\n",
       "      <td>2011-07-08</td>\n",
       "      <td>1970-01-01 19:05:24</td>\n",
       "      <td>México</td>\n",
       "      <td>Media</td>\n",
       "      <td>Menor Magnitud</td>\n",
       "    </tr>\n",
       "    <tr>\n",
       "      <th>9997</th>\n",
       "      <td>2011-07-08</td>\n",
       "      <td>1970-01-01 15:51:18</td>\n",
       "      <td>3.6</td>\n",
       "      <td>15.35</td>\n",
       "      <td>-93.1</td>\n",
       "      <td>89.0</td>\n",
       "      <td>Chiapas</td>\n",
       "      <td>2011-07-08</td>\n",
       "      <td>1970-01-01 20:51:18</td>\n",
       "      <td>México</td>\n",
       "      <td>Profundo</td>\n",
       "      <td>Menor Magnitud</td>\n",
       "    </tr>\n",
       "    <tr>\n",
       "      <th>9998</th>\n",
       "      <td>2011-07-09</td>\n",
       "      <td>1970-01-01 04:13:36</td>\n",
       "      <td>4.3</td>\n",
       "      <td>14.32</td>\n",
       "      <td>-92.93</td>\n",
       "      <td>19.0</td>\n",
       "      <td>Chiapas</td>\n",
       "      <td>2011-07-09</td>\n",
       "      <td>1970-01-01 09:13:36</td>\n",
       "      <td>México</td>\n",
       "      <td>Media</td>\n",
       "      <td>Ligera Magnitud</td>\n",
       "    </tr>\n",
       "    <tr>\n",
       "      <th>9999</th>\n",
       "      <td>2011-07-09</td>\n",
       "      <td>1970-01-01 11:55:10</td>\n",
       "      <td>3.6</td>\n",
       "      <td>15.83</td>\n",
       "      <td>-96.42</td>\n",
       "      <td>36.0</td>\n",
       "      <td>Oaxaca</td>\n",
       "      <td>2011-07-09</td>\n",
       "      <td>1970-01-01 16:55:10</td>\n",
       "      <td>México</td>\n",
       "      <td>Profundo</td>\n",
       "      <td>Menor Magnitud</td>\n",
       "    </tr>\n",
       "  </tbody>\n",
       "</table>\n",
       "<p>10000 rows × 12 columns</p>\n",
       "</div>"
      ]
     },
     "metadata": {
      "application/vnd.databricks.v1+output": {
       "addedWidgets": {},
       "arguments": {},
       "data": "<div>\n<style scoped>\n    .dataframe tbody tr th:only-of-type {\n        vertical-align: middle;\n    }\n\n    .dataframe tbody tr th {\n        vertical-align: top;\n    }\n\n    .dataframe thead th {\n        text-align: right;\n    }\n</style>\n<table border=\"1\" class=\"dataframe\">\n  <thead>\n    <tr style=\"text-align: right;\">\n      <th></th>\n      <th>Fecha</th>\n      <th>Hora</th>\n      <th>Magnitud</th>\n      <th>Latitud</th>\n      <th>Longitud</th>\n      <th>Profundidad</th>\n      <th>Locacion</th>\n      <th>Fecha_UTC</th>\n      <th>Hora_UTC</th>\n      <th>País</th>\n      <th>Clasificación Profundidad</th>\n      <th>Clasificación Magnitud</th>\n    </tr>\n  </thead>\n  <tbody>\n    <tr>\n      <th>0</th>\n      <td>2008-01-04</td>\n      <td>1970-01-01 16:25:43</td>\n      <td>4.1</td>\n      <td>19.2</td>\n      <td>-104.75</td>\n      <td>46.0</td>\n      <td>Jalisco</td>\n      <td>2008-01-04</td>\n      <td>1970-01-01 22:25:43</td>\n      <td>México</td>\n      <td>Profundo</td>\n      <td>Ligera Magnitud</td>\n    </tr>\n    <tr>\n      <th>1</th>\n      <td>2009-08-03</td>\n      <td>1970-01-01 13:40:54</td>\n      <td>5.8</td>\n      <td>29.42</td>\n      <td>-113.5</td>\n      <td>10.0</td>\n      <td>Baja California Sur</td>\n      <td>2009-08-03</td>\n      <td>1970-01-01 18:40:54</td>\n      <td>México</td>\n      <td>Superficial</td>\n      <td>Moderada Magnitud</td>\n    </tr>\n    <tr>\n      <th>2</th>\n      <td>2008-01-06</td>\n      <td>1970-01-01 03:10:22</td>\n      <td>3.8</td>\n      <td>16.87</td>\n      <td>-94.91</td>\n      <td>20.0</td>\n      <td>Oaxaca</td>\n      <td>2008-01-06</td>\n      <td>1970-01-01 09:10:22</td>\n      <td>México</td>\n      <td>Media</td>\n      <td>Menor Magnitud</td>\n    </tr>\n    <tr>\n      <th>3</th>\n      <td>2008-01-01</td>\n      <td>1970-01-01 14:07:14</td>\n      <td>3.4</td>\n      <td>16.82</td>\n      <td>-100.19</td>\n      <td>5.0</td>\n      <td>Guerrero</td>\n      <td>2008-01-01</td>\n      <td>1970-01-01 20:07:14</td>\n      <td>México</td>\n      <td>Superficial</td>\n      <td>Menor Magnitud</td>\n    </tr>\n    <tr>\n      <th>4</th>\n      <td>2009-05-01</td>\n      <td>1970-01-01 18:38:09</td>\n      <td>2.7</td>\n      <td>17.01</td>\n      <td>-100.08</td>\n      <td>7.0</td>\n      <td>Guerrero</td>\n      <td>2009-05-01</td>\n      <td>1970-01-01 23:38:09</td>\n      <td>México</td>\n      <td>Superficial</td>\n      <td>Micro Magnitud</td>\n    </tr>\n    <tr>\n      <th>...</th>\n      <td>...</td>\n      <td>...</td>\n      <td>...</td>\n      <td>...</td>\n      <td>...</td>\n      <td>...</td>\n      <td>...</td>\n      <td>...</td>\n      <td>...</td>\n      <td>...</td>\n      <td>...</td>\n      <td>...</td>\n    </tr>\n    <tr>\n      <th>9995</th>\n      <td>2011-07-08</td>\n      <td>1970-01-01 00:15:23</td>\n      <td>3.6</td>\n      <td>31.15</td>\n      <td>-115.36</td>\n      <td>38.0</td>\n      <td>Baja California</td>\n      <td>2011-07-08</td>\n      <td>1970-01-01 05:15:23</td>\n      <td>México</td>\n      <td>Profundo</td>\n      <td>Menor Magnitud</td>\n    </tr>\n    <tr>\n      <th>9996</th>\n      <td>2011-07-08</td>\n      <td>1970-01-01 14:05:24</td>\n      <td>3.6</td>\n      <td>14.2</td>\n      <td>-93.08</td>\n      <td>20.0</td>\n      <td>Chiapas</td>\n      <td>2011-07-08</td>\n      <td>1970-01-01 19:05:24</td>\n      <td>México</td>\n      <td>Media</td>\n      <td>Menor Magnitud</td>\n    </tr>\n    <tr>\n      <th>9997</th>\n      <td>2011-07-08</td>\n      <td>1970-01-01 15:51:18</td>\n      <td>3.6</td>\n      <td>15.35</td>\n      <td>-93.1</td>\n      <td>89.0</td>\n      <td>Chiapas</td>\n      <td>2011-07-08</td>\n      <td>1970-01-01 20:51:18</td>\n      <td>México</td>\n      <td>Profundo</td>\n      <td>Menor Magnitud</td>\n    </tr>\n    <tr>\n      <th>9998</th>\n      <td>2011-07-09</td>\n      <td>1970-01-01 04:13:36</td>\n      <td>4.3</td>\n      <td>14.32</td>\n      <td>-92.93</td>\n      <td>19.0</td>\n      <td>Chiapas</td>\n      <td>2011-07-09</td>\n      <td>1970-01-01 09:13:36</td>\n      <td>México</td>\n      <td>Media</td>\n      <td>Ligera Magnitud</td>\n    </tr>\n    <tr>\n      <th>9999</th>\n      <td>2011-07-09</td>\n      <td>1970-01-01 11:55:10</td>\n      <td>3.6</td>\n      <td>15.83</td>\n      <td>-96.42</td>\n      <td>36.0</td>\n      <td>Oaxaca</td>\n      <td>2011-07-09</td>\n      <td>1970-01-01 16:55:10</td>\n      <td>México</td>\n      <td>Profundo</td>\n      <td>Menor Magnitud</td>\n    </tr>\n  </tbody>\n</table>\n<p>10000 rows × 12 columns</p>\n</div>",
       "datasetInfos": [],
       "metadata": {},
       "removedWidgets": [],
       "textData": null,
       "type": "htmlSandbox"
      }
     },
     "output_type": "display_data"
    }
   ],
   "source": [
    "df_M"
   ]
  },
  {
   "cell_type": "code",
   "execution_count": 0,
   "metadata": {
    "application/vnd.databricks.v1+cell": {
     "cellMetadata": {
      "byteLimit": 2048000,
      "rowLimit": 10000
     },
     "inputWidgets": {},
     "nuid": "7f97155f-18b8-4101-9d92-2dbeebf0456a",
     "showTitle": false,
     "title": ""
    }
   },
   "outputs": [],
   "source": [
    "df_M.drop(columns=['Fecha_UTC','Hora_UTC'], inplace = True)\n",
    "df_M['Fecha'] = pd.to_datetime(df_M['Fecha'])"
   ]
  },
  {
   "cell_type": "code",
   "execution_count": 0,
   "metadata": {
    "application/vnd.databricks.v1+cell": {
     "cellMetadata": {
      "byteLimit": 2048000,
      "rowLimit": 10000
     },
     "inputWidgets": {},
     "nuid": "9d68708c-4135-43db-9ab4-56f70a3700ba",
     "showTitle": false,
     "title": ""
    }
   },
   "outputs": [],
   "source": [
    "df_M = df_M.reindex(columns = ['Fecha','Hora','Latitud','Longitud','País','Locacion','Profundidad',\n",
    "                         'Clasificación Profundidad', 'Magnitud', 'Clasificación Magnitud'])"
   ]
  },
  {
   "cell_type": "code",
   "execution_count": 0,
   "metadata": {
    "application/vnd.databricks.v1+cell": {
     "cellMetadata": {
      "byteLimit": 2048000,
      "rowLimit": 10000
     },
     "inputWidgets": {},
     "nuid": "b103d364-4669-4b0c-b8f6-c49c6634e9ff",
     "showTitle": false,
     "title": ""
    }
   },
   "outputs": [
    {
     "output_type": "display_data",
     "data": {
      "text/html": [
       "<div>\n",
       "<style scoped>\n",
       "    .dataframe tbody tr th:only-of-type {\n",
       "        vertical-align: middle;\n",
       "    }\n",
       "\n",
       "    .dataframe tbody tr th {\n",
       "        vertical-align: top;\n",
       "    }\n",
       "\n",
       "    .dataframe thead th {\n",
       "        text-align: right;\n",
       "    }\n",
       "</style>\n",
       "<table border=\"1\" class=\"dataframe\">\n",
       "  <thead>\n",
       "    <tr style=\"text-align: right;\">\n",
       "      <th></th>\n",
       "      <th>Fecha</th>\n",
       "      <th>Hora</th>\n",
       "      <th>Latitud</th>\n",
       "      <th>Longitud</th>\n",
       "      <th>País</th>\n",
       "      <th>Locacion</th>\n",
       "      <th>Profundidad</th>\n",
       "      <th>Clasificación Profundidad</th>\n",
       "      <th>Magnitud</th>\n",
       "      <th>Clasificación Magnitud</th>\n",
       "    </tr>\n",
       "  </thead>\n",
       "  <tbody>\n",
       "    <tr>\n",
       "      <th>0</th>\n",
       "      <td>2008-01-04</td>\n",
       "      <td>1970-01-01 16:25:43</td>\n",
       "      <td>19.2</td>\n",
       "      <td>-104.75</td>\n",
       "      <td>México</td>\n",
       "      <td>Jalisco</td>\n",
       "      <td>46.0</td>\n",
       "      <td>Profundo</td>\n",
       "      <td>4.1</td>\n",
       "      <td>Ligera Magnitud</td>\n",
       "    </tr>\n",
       "    <tr>\n",
       "      <th>1</th>\n",
       "      <td>2009-08-03</td>\n",
       "      <td>1970-01-01 13:40:54</td>\n",
       "      <td>29.42</td>\n",
       "      <td>-113.5</td>\n",
       "      <td>México</td>\n",
       "      <td>Baja California Sur</td>\n",
       "      <td>10.0</td>\n",
       "      <td>Superficial</td>\n",
       "      <td>5.8</td>\n",
       "      <td>Moderada Magnitud</td>\n",
       "    </tr>\n",
       "    <tr>\n",
       "      <th>2</th>\n",
       "      <td>2008-01-06</td>\n",
       "      <td>1970-01-01 03:10:22</td>\n",
       "      <td>16.87</td>\n",
       "      <td>-94.91</td>\n",
       "      <td>México</td>\n",
       "      <td>Oaxaca</td>\n",
       "      <td>20.0</td>\n",
       "      <td>Media</td>\n",
       "      <td>3.8</td>\n",
       "      <td>Menor Magnitud</td>\n",
       "    </tr>\n",
       "    <tr>\n",
       "      <th>3</th>\n",
       "      <td>2008-01-01</td>\n",
       "      <td>1970-01-01 14:07:14</td>\n",
       "      <td>16.82</td>\n",
       "      <td>-100.19</td>\n",
       "      <td>México</td>\n",
       "      <td>Guerrero</td>\n",
       "      <td>5.0</td>\n",
       "      <td>Superficial</td>\n",
       "      <td>3.4</td>\n",
       "      <td>Menor Magnitud</td>\n",
       "    </tr>\n",
       "    <tr>\n",
       "      <th>4</th>\n",
       "      <td>2009-05-01</td>\n",
       "      <td>1970-01-01 18:38:09</td>\n",
       "      <td>17.01</td>\n",
       "      <td>-100.08</td>\n",
       "      <td>México</td>\n",
       "      <td>Guerrero</td>\n",
       "      <td>7.0</td>\n",
       "      <td>Superficial</td>\n",
       "      <td>2.7</td>\n",
       "      <td>Micro Magnitud</td>\n",
       "    </tr>\n",
       "    <tr>\n",
       "      <th>...</th>\n",
       "      <td>...</td>\n",
       "      <td>...</td>\n",
       "      <td>...</td>\n",
       "      <td>...</td>\n",
       "      <td>...</td>\n",
       "      <td>...</td>\n",
       "      <td>...</td>\n",
       "      <td>...</td>\n",
       "      <td>...</td>\n",
       "      <td>...</td>\n",
       "    </tr>\n",
       "    <tr>\n",
       "      <th>9995</th>\n",
       "      <td>2011-07-08</td>\n",
       "      <td>1970-01-01 00:15:23</td>\n",
       "      <td>31.15</td>\n",
       "      <td>-115.36</td>\n",
       "      <td>México</td>\n",
       "      <td>Baja California</td>\n",
       "      <td>38.0</td>\n",
       "      <td>Profundo</td>\n",
       "      <td>3.6</td>\n",
       "      <td>Menor Magnitud</td>\n",
       "    </tr>\n",
       "    <tr>\n",
       "      <th>9996</th>\n",
       "      <td>2011-07-08</td>\n",
       "      <td>1970-01-01 14:05:24</td>\n",
       "      <td>14.2</td>\n",
       "      <td>-93.08</td>\n",
       "      <td>México</td>\n",
       "      <td>Chiapas</td>\n",
       "      <td>20.0</td>\n",
       "      <td>Media</td>\n",
       "      <td>3.6</td>\n",
       "      <td>Menor Magnitud</td>\n",
       "    </tr>\n",
       "    <tr>\n",
       "      <th>9997</th>\n",
       "      <td>2011-07-08</td>\n",
       "      <td>1970-01-01 15:51:18</td>\n",
       "      <td>15.35</td>\n",
       "      <td>-93.1</td>\n",
       "      <td>México</td>\n",
       "      <td>Chiapas</td>\n",
       "      <td>89.0</td>\n",
       "      <td>Profundo</td>\n",
       "      <td>3.6</td>\n",
       "      <td>Menor Magnitud</td>\n",
       "    </tr>\n",
       "    <tr>\n",
       "      <th>9998</th>\n",
       "      <td>2011-07-09</td>\n",
       "      <td>1970-01-01 04:13:36</td>\n",
       "      <td>14.32</td>\n",
       "      <td>-92.93</td>\n",
       "      <td>México</td>\n",
       "      <td>Chiapas</td>\n",
       "      <td>19.0</td>\n",
       "      <td>Media</td>\n",
       "      <td>4.3</td>\n",
       "      <td>Ligera Magnitud</td>\n",
       "    </tr>\n",
       "    <tr>\n",
       "      <th>9999</th>\n",
       "      <td>2011-07-09</td>\n",
       "      <td>1970-01-01 11:55:10</td>\n",
       "      <td>15.83</td>\n",
       "      <td>-96.42</td>\n",
       "      <td>México</td>\n",
       "      <td>Oaxaca</td>\n",
       "      <td>36.0</td>\n",
       "      <td>Profundo</td>\n",
       "      <td>3.6</td>\n",
       "      <td>Menor Magnitud</td>\n",
       "    </tr>\n",
       "  </tbody>\n",
       "</table>\n",
       "<p>10000 rows × 10 columns</p>\n",
       "</div>"
      ]
     },
     "metadata": {
      "application/vnd.databricks.v1+output": {
       "addedWidgets": {},
       "arguments": {},
       "data": "<div>\n<style scoped>\n    .dataframe tbody tr th:only-of-type {\n        vertical-align: middle;\n    }\n\n    .dataframe tbody tr th {\n        vertical-align: top;\n    }\n\n    .dataframe thead th {\n        text-align: right;\n    }\n</style>\n<table border=\"1\" class=\"dataframe\">\n  <thead>\n    <tr style=\"text-align: right;\">\n      <th></th>\n      <th>Fecha</th>\n      <th>Hora</th>\n      <th>Latitud</th>\n      <th>Longitud</th>\n      <th>País</th>\n      <th>Locacion</th>\n      <th>Profundidad</th>\n      <th>Clasificación Profundidad</th>\n      <th>Magnitud</th>\n      <th>Clasificación Magnitud</th>\n    </tr>\n  </thead>\n  <tbody>\n    <tr>\n      <th>0</th>\n      <td>2008-01-04</td>\n      <td>1970-01-01 16:25:43</td>\n      <td>19.2</td>\n      <td>-104.75</td>\n      <td>México</td>\n      <td>Jalisco</td>\n      <td>46.0</td>\n      <td>Profundo</td>\n      <td>4.1</td>\n      <td>Ligera Magnitud</td>\n    </tr>\n    <tr>\n      <th>1</th>\n      <td>2009-08-03</td>\n      <td>1970-01-01 13:40:54</td>\n      <td>29.42</td>\n      <td>-113.5</td>\n      <td>México</td>\n      <td>Baja California Sur</td>\n      <td>10.0</td>\n      <td>Superficial</td>\n      <td>5.8</td>\n      <td>Moderada Magnitud</td>\n    </tr>\n    <tr>\n      <th>2</th>\n      <td>2008-01-06</td>\n      <td>1970-01-01 03:10:22</td>\n      <td>16.87</td>\n      <td>-94.91</td>\n      <td>México</td>\n      <td>Oaxaca</td>\n      <td>20.0</td>\n      <td>Media</td>\n      <td>3.8</td>\n      <td>Menor Magnitud</td>\n    </tr>\n    <tr>\n      <th>3</th>\n      <td>2008-01-01</td>\n      <td>1970-01-01 14:07:14</td>\n      <td>16.82</td>\n      <td>-100.19</td>\n      <td>México</td>\n      <td>Guerrero</td>\n      <td>5.0</td>\n      <td>Superficial</td>\n      <td>3.4</td>\n      <td>Menor Magnitud</td>\n    </tr>\n    <tr>\n      <th>4</th>\n      <td>2009-05-01</td>\n      <td>1970-01-01 18:38:09</td>\n      <td>17.01</td>\n      <td>-100.08</td>\n      <td>México</td>\n      <td>Guerrero</td>\n      <td>7.0</td>\n      <td>Superficial</td>\n      <td>2.7</td>\n      <td>Micro Magnitud</td>\n    </tr>\n    <tr>\n      <th>...</th>\n      <td>...</td>\n      <td>...</td>\n      <td>...</td>\n      <td>...</td>\n      <td>...</td>\n      <td>...</td>\n      <td>...</td>\n      <td>...</td>\n      <td>...</td>\n      <td>...</td>\n    </tr>\n    <tr>\n      <th>9995</th>\n      <td>2011-07-08</td>\n      <td>1970-01-01 00:15:23</td>\n      <td>31.15</td>\n      <td>-115.36</td>\n      <td>México</td>\n      <td>Baja California</td>\n      <td>38.0</td>\n      <td>Profundo</td>\n      <td>3.6</td>\n      <td>Menor Magnitud</td>\n    </tr>\n    <tr>\n      <th>9996</th>\n      <td>2011-07-08</td>\n      <td>1970-01-01 14:05:24</td>\n      <td>14.2</td>\n      <td>-93.08</td>\n      <td>México</td>\n      <td>Chiapas</td>\n      <td>20.0</td>\n      <td>Media</td>\n      <td>3.6</td>\n      <td>Menor Magnitud</td>\n    </tr>\n    <tr>\n      <th>9997</th>\n      <td>2011-07-08</td>\n      <td>1970-01-01 15:51:18</td>\n      <td>15.35</td>\n      <td>-93.1</td>\n      <td>México</td>\n      <td>Chiapas</td>\n      <td>89.0</td>\n      <td>Profundo</td>\n      <td>3.6</td>\n      <td>Menor Magnitud</td>\n    </tr>\n    <tr>\n      <th>9998</th>\n      <td>2011-07-09</td>\n      <td>1970-01-01 04:13:36</td>\n      <td>14.32</td>\n      <td>-92.93</td>\n      <td>México</td>\n      <td>Chiapas</td>\n      <td>19.0</td>\n      <td>Media</td>\n      <td>4.3</td>\n      <td>Ligera Magnitud</td>\n    </tr>\n    <tr>\n      <th>9999</th>\n      <td>2011-07-09</td>\n      <td>1970-01-01 11:55:10</td>\n      <td>15.83</td>\n      <td>-96.42</td>\n      <td>México</td>\n      <td>Oaxaca</td>\n      <td>36.0</td>\n      <td>Profundo</td>\n      <td>3.6</td>\n      <td>Menor Magnitud</td>\n    </tr>\n  </tbody>\n</table>\n<p>10000 rows × 10 columns</p>\n</div>",
       "datasetInfos": [],
       "metadata": {},
       "removedWidgets": [],
       "textData": null,
       "type": "htmlSandbox"
      }
     },
     "output_type": "display_data"
    }
   ],
   "source": [
    "df_M"
   ]
  },
  {
   "cell_type": "code",
   "execution_count": 0,
   "metadata": {
    "application/vnd.databricks.v1+cell": {
     "cellMetadata": {
      "byteLimit": 2048000,
      "rowLimit": 10000
     },
     "inputWidgets": {},
     "nuid": "dd94ed8b-1479-40fa-8de0-044753e6542d",
     "showTitle": false,
     "title": ""
    }
   },
   "outputs": [],
   "source": [
    "df_M['Hora'] = df_M['Hora'].dt.strftime('%H:%M:%S')\n"
   ]
  },
  {
   "cell_type": "code",
   "execution_count": 0,
   "metadata": {
    "application/vnd.databricks.v1+cell": {
     "cellMetadata": {
      "byteLimit": 2048000,
      "rowLimit": 10000
     },
     "inputWidgets": {},
     "nuid": "136db8f8-92f5-424c-95eb-6eb7b784d3c5",
     "showTitle": false,
     "title": ""
    }
   },
   "outputs": [],
   "source": [
    "Base_Final_Mexico = df_M"
   ]
  },
  {
   "cell_type": "code",
   "execution_count": 0,
   "metadata": {
    "application/vnd.databricks.v1+cell": {
     "cellMetadata": {
      "byteLimit": 2048000,
      "rowLimit": 10000
     },
     "inputWidgets": {},
     "nuid": "574feee1-39b6-4bf8-9a3a-e52781002efa",
     "showTitle": false,
     "title": ""
    }
   },
   "outputs": [
    {
     "output_type": "stream",
     "name": "stdout",
     "output_type": "stream",
     "text": [
      "<class 'pandas.core.frame.DataFrame'>\nRangeIndex: 10000 entries, 0 to 9999\nData columns (total 10 columns):\n #   Column                     Non-Null Count  Dtype         \n---  ------                     --------------  -----         \n 0   Fecha                      10000 non-null  datetime64[ns]\n 1   Hora                       10000 non-null  object        \n 2   Latitud                    10000 non-null  object        \n 3   Longitud                   10000 non-null  object        \n 4   País                       10000 non-null  object        \n 5   Locacion                   10000 non-null  object        \n 6   Profundidad                10000 non-null  float64       \n 7   Clasificación Profundidad  10000 non-null  object        \n 8   Magnitud                   10000 non-null  float64       \n 9   Clasificación Magnitud     9995 non-null   category      \ndtypes: category(1), datetime64[ns](1), float64(2), object(6)\nmemory usage: 713.4+ KB\n"
     ]
    }
   ],
   "source": [
    "Base_Final_Mexico.info()"
   ]
  },
  {
   "cell_type": "markdown",
   "metadata": {
    "application/vnd.databricks.v1+cell": {
     "cellMetadata": {
      "byteLimit": 2048000,
      "rowLimit": 10000
     },
     "inputWidgets": {},
     "nuid": "7ec00f42-24dc-4a9a-94f5-2337a5c7b78e",
     "showTitle": false,
     "title": ""
    }
   },
   "source": [
    "##Transformación Base Japón"
   ]
  },
  {
   "cell_type": "code",
   "execution_count": 0,
   "metadata": {
    "application/vnd.databricks.v1+cell": {
     "cellMetadata": {
      "byteLimit": 2048000,
      "rowLimit": 10000
     },
     "inputWidgets": {},
     "nuid": "5669c78a-2cdf-4f0d-9088-7698bdbf0d3d",
     "showTitle": false,
     "title": ""
    }
   },
   "outputs": [
    {
     "output_type": "display_data",
     "data": {
      "text/html": [
       "<div>\n",
       "<style scoped>\n",
       "    .dataframe tbody tr th:only-of-type {\n",
       "        vertical-align: middle;\n",
       "    }\n",
       "\n",
       "    .dataframe tbody tr th {\n",
       "        vertical-align: top;\n",
       "    }\n",
       "\n",
       "    .dataframe thead th {\n",
       "        text-align: right;\n",
       "    }\n",
       "</style>\n",
       "<table border=\"1\" class=\"dataframe\">\n",
       "  <thead>\n",
       "    <tr style=\"text-align: right;\">\n",
       "      <th></th>\n",
       "      <th>Time</th>\n",
       "      <th>Latitude</th>\n",
       "      <th>Longitude</th>\n",
       "      <th>Depth</th>\n",
       "      <th>Mag</th>\n",
       "      <th>Nst</th>\n",
       "      <th>Gap</th>\n",
       "      <th>Place</th>\n",
       "    </tr>\n",
       "  </thead>\n",
       "  <tbody>\n",
       "    <tr>\n",
       "      <th>0</th>\n",
       "      <td>2023-06-15T01:13:05.542Z</td>\n",
       "      <td>33.5871</td>\n",
       "      <td>141.1257</td>\n",
       "      <td>35</td>\n",
       "      <td>4.4</td>\n",
       "      <td>29</td>\n",
       "      <td>130</td>\n",
       "      <td>188 km SSE of Katsuura, Japan</td>\n",
       "    </tr>\n",
       "    <tr>\n",
       "      <th>1</th>\n",
       "      <td>2023-06-11T09:54:44.886Z</td>\n",
       "      <td>42.5268</td>\n",
       "      <td>141.9005</td>\n",
       "      <td>121</td>\n",
       "      <td>6.2</td>\n",
       "      <td>143</td>\n",
       "      <td>31</td>\n",
       "      <td>20 km WSW of Biratori, Japan</td>\n",
       "    </tr>\n",
       "    <tr>\n",
       "      <th>2</th>\n",
       "      <td>2023-06-17T14:10:16.472Z</td>\n",
       "      <td>38.9607</td>\n",
       "      <td>144.8172</td>\n",
       "      <td>10</td>\n",
       "      <td>4.5</td>\n",
       "      <td>19</td>\n",
       "      <td>198</td>\n",
       "      <td>253 km ESE of Yamada, Japan</td>\n",
       "    </tr>\n",
       "    <tr>\n",
       "      <th>3</th>\n",
       "      <td>2023-06-25T01:12:51.284Z</td>\n",
       "      <td>29.9147</td>\n",
       "      <td>139.9913</td>\n",
       "      <td>10</td>\n",
       "      <td>5</td>\n",
       "      <td>46</td>\n",
       "      <td>125</td>\n",
       "      <td>Izu Islands, Japan region</td>\n",
       "    </tr>\n",
       "    <tr>\n",
       "      <th>4</th>\n",
       "      <td>2023-06-18T09:46:54.634Z</td>\n",
       "      <td>34.4987</td>\n",
       "      <td>143.0695</td>\n",
       "      <td>10</td>\n",
       "      <td>4.4</td>\n",
       "      <td>36</td>\n",
       "      <td>146</td>\n",
       "      <td>245 km SE of Hasaki, Japan</td>\n",
       "    </tr>\n",
       "    <tr>\n",
       "      <th>...</th>\n",
       "      <td>...</td>\n",
       "      <td>...</td>\n",
       "      <td>...</td>\n",
       "      <td>...</td>\n",
       "      <td>...</td>\n",
       "      <td>...</td>\n",
       "      <td>...</td>\n",
       "      <td>...</td>\n",
       "    </tr>\n",
       "    <tr>\n",
       "      <th>15979</th>\n",
       "      <td>2008-04-10T20:32:54.700Z</td>\n",
       "      <td>38.888</td>\n",
       "      <td>142.152</td>\n",
       "      <td>48.3</td>\n",
       "      <td>4.2</td>\n",
       "      <td>48</td>\n",
       "      <td>122.4</td>\n",
       "      <td>42 km ESE of ?funato, Japan</td>\n",
       "    </tr>\n",
       "    <tr>\n",
       "      <th>15980</th>\n",
       "      <td>2008-03-16T19:20:40.540Z</td>\n",
       "      <td>43.595</td>\n",
       "      <td>133.775</td>\n",
       "      <td>431.3</td>\n",
       "      <td>4.6</td>\n",
       "      <td>10</td>\n",
       "      <td>131.2</td>\n",
       "      <td>25 km NNW of Lazo, Russia</td>\n",
       "    </tr>\n",
       "    <tr>\n",
       "      <th>15981</th>\n",
       "      <td>2008-02-21T13:05:10.190Z</td>\n",
       "      <td>44.342</td>\n",
       "      <td>141.266</td>\n",
       "      <td>247</td>\n",
       "      <td>3.7</td>\n",
       "      <td>6</td>\n",
       "      <td>127.3</td>\n",
       "      <td>54 km NW of Rumoi, Japan</td>\n",
       "    </tr>\n",
       "    <tr>\n",
       "      <th>15982</th>\n",
       "      <td>2008-02-05T02:07:07.710Z</td>\n",
       "      <td>37.103</td>\n",
       "      <td>135.025</td>\n",
       "      <td>377.4</td>\n",
       "      <td>3.2</td>\n",
       "      <td>5</td>\n",
       "      <td>120.4</td>\n",
       "      <td>140 km NW of Mikuni, Japan</td>\n",
       "    </tr>\n",
       "    <tr>\n",
       "      <th>15983</th>\n",
       "      <td>2008-01-03T19:29:37.240Z</td>\n",
       "      <td>39.93</td>\n",
       "      <td>142.548</td>\n",
       "      <td>35</td>\n",
       "      <td>4.1</td>\n",
       "      <td>8</td>\n",
       "      <td>238.1</td>\n",
       "      <td>60 km ENE of Miyako, Japan</td>\n",
       "    </tr>\n",
       "  </tbody>\n",
       "</table>\n",
       "<p>15984 rows × 8 columns</p>\n",
       "</div>"
      ]
     },
     "metadata": {
      "application/vnd.databricks.v1+output": {
       "addedWidgets": {},
       "arguments": {},
       "data": "<div>\n<style scoped>\n    .dataframe tbody tr th:only-of-type {\n        vertical-align: middle;\n    }\n\n    .dataframe tbody tr th {\n        vertical-align: top;\n    }\n\n    .dataframe thead th {\n        text-align: right;\n    }\n</style>\n<table border=\"1\" class=\"dataframe\">\n  <thead>\n    <tr style=\"text-align: right;\">\n      <th></th>\n      <th>Time</th>\n      <th>Latitude</th>\n      <th>Longitude</th>\n      <th>Depth</th>\n      <th>Mag</th>\n      <th>Nst</th>\n      <th>Gap</th>\n      <th>Place</th>\n    </tr>\n  </thead>\n  <tbody>\n    <tr>\n      <th>0</th>\n      <td>2023-06-15T01:13:05.542Z</td>\n      <td>33.5871</td>\n      <td>141.1257</td>\n      <td>35</td>\n      <td>4.4</td>\n      <td>29</td>\n      <td>130</td>\n      <td>188 km SSE of Katsuura, Japan</td>\n    </tr>\n    <tr>\n      <th>1</th>\n      <td>2023-06-11T09:54:44.886Z</td>\n      <td>42.5268</td>\n      <td>141.9005</td>\n      <td>121</td>\n      <td>6.2</td>\n      <td>143</td>\n      <td>31</td>\n      <td>20 km WSW of Biratori, Japan</td>\n    </tr>\n    <tr>\n      <th>2</th>\n      <td>2023-06-17T14:10:16.472Z</td>\n      <td>38.9607</td>\n      <td>144.8172</td>\n      <td>10</td>\n      <td>4.5</td>\n      <td>19</td>\n      <td>198</td>\n      <td>253 km ESE of Yamada, Japan</td>\n    </tr>\n    <tr>\n      <th>3</th>\n      <td>2023-06-25T01:12:51.284Z</td>\n      <td>29.9147</td>\n      <td>139.9913</td>\n      <td>10</td>\n      <td>5</td>\n      <td>46</td>\n      <td>125</td>\n      <td>Izu Islands, Japan region</td>\n    </tr>\n    <tr>\n      <th>4</th>\n      <td>2023-06-18T09:46:54.634Z</td>\n      <td>34.4987</td>\n      <td>143.0695</td>\n      <td>10</td>\n      <td>4.4</td>\n      <td>36</td>\n      <td>146</td>\n      <td>245 km SE of Hasaki, Japan</td>\n    </tr>\n    <tr>\n      <th>...</th>\n      <td>...</td>\n      <td>...</td>\n      <td>...</td>\n      <td>...</td>\n      <td>...</td>\n      <td>...</td>\n      <td>...</td>\n      <td>...</td>\n    </tr>\n    <tr>\n      <th>15979</th>\n      <td>2008-04-10T20:32:54.700Z</td>\n      <td>38.888</td>\n      <td>142.152</td>\n      <td>48.3</td>\n      <td>4.2</td>\n      <td>48</td>\n      <td>122.4</td>\n      <td>42 km ESE of ?funato, Japan</td>\n    </tr>\n    <tr>\n      <th>15980</th>\n      <td>2008-03-16T19:20:40.540Z</td>\n      <td>43.595</td>\n      <td>133.775</td>\n      <td>431.3</td>\n      <td>4.6</td>\n      <td>10</td>\n      <td>131.2</td>\n      <td>25 km NNW of Lazo, Russia</td>\n    </tr>\n    <tr>\n      <th>15981</th>\n      <td>2008-02-21T13:05:10.190Z</td>\n      <td>44.342</td>\n      <td>141.266</td>\n      <td>247</td>\n      <td>3.7</td>\n      <td>6</td>\n      <td>127.3</td>\n      <td>54 km NW of Rumoi, Japan</td>\n    </tr>\n    <tr>\n      <th>15982</th>\n      <td>2008-02-05T02:07:07.710Z</td>\n      <td>37.103</td>\n      <td>135.025</td>\n      <td>377.4</td>\n      <td>3.2</td>\n      <td>5</td>\n      <td>120.4</td>\n      <td>140 km NW of Mikuni, Japan</td>\n    </tr>\n    <tr>\n      <th>15983</th>\n      <td>2008-01-03T19:29:37.240Z</td>\n      <td>39.93</td>\n      <td>142.548</td>\n      <td>35</td>\n      <td>4.1</td>\n      <td>8</td>\n      <td>238.1</td>\n      <td>60 km ENE of Miyako, Japan</td>\n    </tr>\n  </tbody>\n</table>\n<p>15984 rows × 8 columns</p>\n</div>",
       "datasetInfos": [],
       "metadata": {},
       "removedWidgets": [],
       "textData": null,
       "type": "htmlSandbox"
      }
     },
     "output_type": "display_data"
    }
   ],
   "source": [
    "df_J"
   ]
  },
  {
   "cell_type": "code",
   "execution_count": 0,
   "metadata": {
    "application/vnd.databricks.v1+cell": {
     "cellMetadata": {
      "byteLimit": 2048000,
      "rowLimit": 10000
     },
     "inputWidgets": {},
     "nuid": "9e4e0353-7ad4-4287-8d6f-f35c36b9f02f",
     "showTitle": false,
     "title": ""
    }
   },
   "outputs": [],
   "source": [
    "df_J[\"Time\"] = pd.to_datetime(df_J[\"Time\"])\n",
    "df_J[\"Fecha\"] = df_J[\"Time\"].dt.strftime(\"%d/%m/%Y\")\n",
    "df_J[\"Hora\"] = df_J[\"Time\"].dt.strftime(\"%H:%M:%S\")"
   ]
  },
  {
   "cell_type": "code",
   "execution_count": 0,
   "metadata": {
    "application/vnd.databricks.v1+cell": {
     "cellMetadata": {
      "byteLimit": 2048000,
      "rowLimit": 10000
     },
     "inputWidgets": {},
     "nuid": "58778759-f20d-4a19-942d-8dabedce5089",
     "showTitle": false,
     "title": ""
    }
   },
   "outputs": [],
   "source": [
    "def obtener_pais(ubicacion):\n",
    "    if isinstance(ubicacion, str):\n",
    "        pais = ubicacion.split(',')[-1].strip()\n",
    "        return pais\n",
    "    else:\n",
    "        return 'Desconocido'"
   ]
  },
  {
   "cell_type": "code",
   "execution_count": 0,
   "metadata": {
    "application/vnd.databricks.v1+cell": {
     "cellMetadata": {
      "byteLimit": 2048000,
      "rowLimit": 10000
     },
     "inputWidgets": {},
     "nuid": "4820e771-dff2-4852-b183-2fa8d6efb8f1",
     "showTitle": false,
     "title": ""
    }
   },
   "outputs": [],
   "source": [
    "df_J[\"País\"] = df_J[\"Place\"].apply(obtener_pais)"
   ]
  },
  {
   "cell_type": "code",
   "execution_count": 0,
   "metadata": {
    "application/vnd.databricks.v1+cell": {
     "cellMetadata": {
      "byteLimit": 2048000,
      "rowLimit": 10000
     },
     "inputWidgets": {},
     "nuid": "5db6d6d5-7ac6-4eef-b272-70720c6efd47",
     "showTitle": false,
     "title": ""
    }
   },
   "outputs": [
    {
     "output_type": "display_data",
     "data": {
      "text/html": [
       "<div>\n",
       "<style scoped>\n",
       "    .dataframe tbody tr th:only-of-type {\n",
       "        vertical-align: middle;\n",
       "    }\n",
       "\n",
       "    .dataframe tbody tr th {\n",
       "        vertical-align: top;\n",
       "    }\n",
       "\n",
       "    .dataframe thead th {\n",
       "        text-align: right;\n",
       "    }\n",
       "</style>\n",
       "<table border=\"1\" class=\"dataframe\">\n",
       "  <thead>\n",
       "    <tr style=\"text-align: right;\">\n",
       "      <th></th>\n",
       "      <th>Time</th>\n",
       "      <th>Latitude</th>\n",
       "      <th>Longitude</th>\n",
       "      <th>Depth</th>\n",
       "      <th>Mag</th>\n",
       "      <th>Nst</th>\n",
       "      <th>Gap</th>\n",
       "      <th>Place</th>\n",
       "      <th>Fecha</th>\n",
       "      <th>Hora</th>\n",
       "      <th>País</th>\n",
       "    </tr>\n",
       "  </thead>\n",
       "  <tbody>\n",
       "    <tr>\n",
       "      <th>0</th>\n",
       "      <td>2023-06-15 01:13:05.542000+00:00</td>\n",
       "      <td>33.5871</td>\n",
       "      <td>141.1257</td>\n",
       "      <td>35</td>\n",
       "      <td>4.4</td>\n",
       "      <td>29</td>\n",
       "      <td>130</td>\n",
       "      <td>188 km SSE of Katsuura, Japan</td>\n",
       "      <td>15/06/2023</td>\n",
       "      <td>01:13:05</td>\n",
       "      <td>Japan</td>\n",
       "    </tr>\n",
       "    <tr>\n",
       "      <th>1</th>\n",
       "      <td>2023-06-11 09:54:44.886000+00:00</td>\n",
       "      <td>42.5268</td>\n",
       "      <td>141.9005</td>\n",
       "      <td>121</td>\n",
       "      <td>6.2</td>\n",
       "      <td>143</td>\n",
       "      <td>31</td>\n",
       "      <td>20 km WSW of Biratori, Japan</td>\n",
       "      <td>11/06/2023</td>\n",
       "      <td>09:54:44</td>\n",
       "      <td>Japan</td>\n",
       "    </tr>\n",
       "    <tr>\n",
       "      <th>2</th>\n",
       "      <td>2023-06-17 14:10:16.472000+00:00</td>\n",
       "      <td>38.9607</td>\n",
       "      <td>144.8172</td>\n",
       "      <td>10</td>\n",
       "      <td>4.5</td>\n",
       "      <td>19</td>\n",
       "      <td>198</td>\n",
       "      <td>253 km ESE of Yamada, Japan</td>\n",
       "      <td>17/06/2023</td>\n",
       "      <td>14:10:16</td>\n",
       "      <td>Japan</td>\n",
       "    </tr>\n",
       "    <tr>\n",
       "      <th>3</th>\n",
       "      <td>2023-06-25 01:12:51.284000+00:00</td>\n",
       "      <td>29.9147</td>\n",
       "      <td>139.9913</td>\n",
       "      <td>10</td>\n",
       "      <td>5</td>\n",
       "      <td>46</td>\n",
       "      <td>125</td>\n",
       "      <td>Izu Islands, Japan region</td>\n",
       "      <td>25/06/2023</td>\n",
       "      <td>01:12:51</td>\n",
       "      <td>Japan region</td>\n",
       "    </tr>\n",
       "    <tr>\n",
       "      <th>4</th>\n",
       "      <td>2023-06-18 09:46:54.634000+00:00</td>\n",
       "      <td>34.4987</td>\n",
       "      <td>143.0695</td>\n",
       "      <td>10</td>\n",
       "      <td>4.4</td>\n",
       "      <td>36</td>\n",
       "      <td>146</td>\n",
       "      <td>245 km SE of Hasaki, Japan</td>\n",
       "      <td>18/06/2023</td>\n",
       "      <td>09:46:54</td>\n",
       "      <td>Japan</td>\n",
       "    </tr>\n",
       "    <tr>\n",
       "      <th>...</th>\n",
       "      <td>...</td>\n",
       "      <td>...</td>\n",
       "      <td>...</td>\n",
       "      <td>...</td>\n",
       "      <td>...</td>\n",
       "      <td>...</td>\n",
       "      <td>...</td>\n",
       "      <td>...</td>\n",
       "      <td>...</td>\n",
       "      <td>...</td>\n",
       "      <td>...</td>\n",
       "    </tr>\n",
       "    <tr>\n",
       "      <th>15979</th>\n",
       "      <td>2008-04-10 20:32:54.700000+00:00</td>\n",
       "      <td>38.888</td>\n",
       "      <td>142.152</td>\n",
       "      <td>48.3</td>\n",
       "      <td>4.2</td>\n",
       "      <td>48</td>\n",
       "      <td>122.4</td>\n",
       "      <td>42 km ESE of ?funato, Japan</td>\n",
       "      <td>10/04/2008</td>\n",
       "      <td>20:32:54</td>\n",
       "      <td>Japan</td>\n",
       "    </tr>\n",
       "    <tr>\n",
       "      <th>15980</th>\n",
       "      <td>2008-03-16 19:20:40.540000+00:00</td>\n",
       "      <td>43.595</td>\n",
       "      <td>133.775</td>\n",
       "      <td>431.3</td>\n",
       "      <td>4.6</td>\n",
       "      <td>10</td>\n",
       "      <td>131.2</td>\n",
       "      <td>25 km NNW of Lazo, Russia</td>\n",
       "      <td>16/03/2008</td>\n",
       "      <td>19:20:40</td>\n",
       "      <td>Russia</td>\n",
       "    </tr>\n",
       "    <tr>\n",
       "      <th>15981</th>\n",
       "      <td>2008-02-21 13:05:10.190000+00:00</td>\n",
       "      <td>44.342</td>\n",
       "      <td>141.266</td>\n",
       "      <td>247</td>\n",
       "      <td>3.7</td>\n",
       "      <td>6</td>\n",
       "      <td>127.3</td>\n",
       "      <td>54 km NW of Rumoi, Japan</td>\n",
       "      <td>21/02/2008</td>\n",
       "      <td>13:05:10</td>\n",
       "      <td>Japan</td>\n",
       "    </tr>\n",
       "    <tr>\n",
       "      <th>15982</th>\n",
       "      <td>2008-02-05 02:07:07.710000+00:00</td>\n",
       "      <td>37.103</td>\n",
       "      <td>135.025</td>\n",
       "      <td>377.4</td>\n",
       "      <td>3.2</td>\n",
       "      <td>5</td>\n",
       "      <td>120.4</td>\n",
       "      <td>140 km NW of Mikuni, Japan</td>\n",
       "      <td>05/02/2008</td>\n",
       "      <td>02:07:07</td>\n",
       "      <td>Japan</td>\n",
       "    </tr>\n",
       "    <tr>\n",
       "      <th>15983</th>\n",
       "      <td>2008-01-03 19:29:37.240000+00:00</td>\n",
       "      <td>39.93</td>\n",
       "      <td>142.548</td>\n",
       "      <td>35</td>\n",
       "      <td>4.1</td>\n",
       "      <td>8</td>\n",
       "      <td>238.1</td>\n",
       "      <td>60 km ENE of Miyako, Japan</td>\n",
       "      <td>03/01/2008</td>\n",
       "      <td>19:29:37</td>\n",
       "      <td>Japan</td>\n",
       "    </tr>\n",
       "  </tbody>\n",
       "</table>\n",
       "<p>15984 rows × 11 columns</p>\n",
       "</div>"
      ]
     },
     "metadata": {
      "application/vnd.databricks.v1+output": {
       "addedWidgets": {},
       "arguments": {},
       "data": "<div>\n<style scoped>\n    .dataframe tbody tr th:only-of-type {\n        vertical-align: middle;\n    }\n\n    .dataframe tbody tr th {\n        vertical-align: top;\n    }\n\n    .dataframe thead th {\n        text-align: right;\n    }\n</style>\n<table border=\"1\" class=\"dataframe\">\n  <thead>\n    <tr style=\"text-align: right;\">\n      <th></th>\n      <th>Time</th>\n      <th>Latitude</th>\n      <th>Longitude</th>\n      <th>Depth</th>\n      <th>Mag</th>\n      <th>Nst</th>\n      <th>Gap</th>\n      <th>Place</th>\n      <th>Fecha</th>\n      <th>Hora</th>\n      <th>País</th>\n    </tr>\n  </thead>\n  <tbody>\n    <tr>\n      <th>0</th>\n      <td>2023-06-15 01:13:05.542000+00:00</td>\n      <td>33.5871</td>\n      <td>141.1257</td>\n      <td>35</td>\n      <td>4.4</td>\n      <td>29</td>\n      <td>130</td>\n      <td>188 km SSE of Katsuura, Japan</td>\n      <td>15/06/2023</td>\n      <td>01:13:05</td>\n      <td>Japan</td>\n    </tr>\n    <tr>\n      <th>1</th>\n      <td>2023-06-11 09:54:44.886000+00:00</td>\n      <td>42.5268</td>\n      <td>141.9005</td>\n      <td>121</td>\n      <td>6.2</td>\n      <td>143</td>\n      <td>31</td>\n      <td>20 km WSW of Biratori, Japan</td>\n      <td>11/06/2023</td>\n      <td>09:54:44</td>\n      <td>Japan</td>\n    </tr>\n    <tr>\n      <th>2</th>\n      <td>2023-06-17 14:10:16.472000+00:00</td>\n      <td>38.9607</td>\n      <td>144.8172</td>\n      <td>10</td>\n      <td>4.5</td>\n      <td>19</td>\n      <td>198</td>\n      <td>253 km ESE of Yamada, Japan</td>\n      <td>17/06/2023</td>\n      <td>14:10:16</td>\n      <td>Japan</td>\n    </tr>\n    <tr>\n      <th>3</th>\n      <td>2023-06-25 01:12:51.284000+00:00</td>\n      <td>29.9147</td>\n      <td>139.9913</td>\n      <td>10</td>\n      <td>5</td>\n      <td>46</td>\n      <td>125</td>\n      <td>Izu Islands, Japan region</td>\n      <td>25/06/2023</td>\n      <td>01:12:51</td>\n      <td>Japan region</td>\n    </tr>\n    <tr>\n      <th>4</th>\n      <td>2023-06-18 09:46:54.634000+00:00</td>\n      <td>34.4987</td>\n      <td>143.0695</td>\n      <td>10</td>\n      <td>4.4</td>\n      <td>36</td>\n      <td>146</td>\n      <td>245 km SE of Hasaki, Japan</td>\n      <td>18/06/2023</td>\n      <td>09:46:54</td>\n      <td>Japan</td>\n    </tr>\n    <tr>\n      <th>...</th>\n      <td>...</td>\n      <td>...</td>\n      <td>...</td>\n      <td>...</td>\n      <td>...</td>\n      <td>...</td>\n      <td>...</td>\n      <td>...</td>\n      <td>...</td>\n      <td>...</td>\n      <td>...</td>\n    </tr>\n    <tr>\n      <th>15979</th>\n      <td>2008-04-10 20:32:54.700000+00:00</td>\n      <td>38.888</td>\n      <td>142.152</td>\n      <td>48.3</td>\n      <td>4.2</td>\n      <td>48</td>\n      <td>122.4</td>\n      <td>42 km ESE of ?funato, Japan</td>\n      <td>10/04/2008</td>\n      <td>20:32:54</td>\n      <td>Japan</td>\n    </tr>\n    <tr>\n      <th>15980</th>\n      <td>2008-03-16 19:20:40.540000+00:00</td>\n      <td>43.595</td>\n      <td>133.775</td>\n      <td>431.3</td>\n      <td>4.6</td>\n      <td>10</td>\n      <td>131.2</td>\n      <td>25 km NNW of Lazo, Russia</td>\n      <td>16/03/2008</td>\n      <td>19:20:40</td>\n      <td>Russia</td>\n    </tr>\n    <tr>\n      <th>15981</th>\n      <td>2008-02-21 13:05:10.190000+00:00</td>\n      <td>44.342</td>\n      <td>141.266</td>\n      <td>247</td>\n      <td>3.7</td>\n      <td>6</td>\n      <td>127.3</td>\n      <td>54 km NW of Rumoi, Japan</td>\n      <td>21/02/2008</td>\n      <td>13:05:10</td>\n      <td>Japan</td>\n    </tr>\n    <tr>\n      <th>15982</th>\n      <td>2008-02-05 02:07:07.710000+00:00</td>\n      <td>37.103</td>\n      <td>135.025</td>\n      <td>377.4</td>\n      <td>3.2</td>\n      <td>5</td>\n      <td>120.4</td>\n      <td>140 km NW of Mikuni, Japan</td>\n      <td>05/02/2008</td>\n      <td>02:07:07</td>\n      <td>Japan</td>\n    </tr>\n    <tr>\n      <th>15983</th>\n      <td>2008-01-03 19:29:37.240000+00:00</td>\n      <td>39.93</td>\n      <td>142.548</td>\n      <td>35</td>\n      <td>4.1</td>\n      <td>8</td>\n      <td>238.1</td>\n      <td>60 km ENE of Miyako, Japan</td>\n      <td>03/01/2008</td>\n      <td>19:29:37</td>\n      <td>Japan</td>\n    </tr>\n  </tbody>\n</table>\n<p>15984 rows × 11 columns</p>\n</div>",
       "datasetInfos": [],
       "metadata": {},
       "removedWidgets": [],
       "textData": null,
       "type": "htmlSandbox"
      }
     },
     "output_type": "display_data"
    }
   ],
   "source": [
    "df_J"
   ]
  },
  {
   "cell_type": "code",
   "execution_count": 0,
   "metadata": {
    "application/vnd.databricks.v1+cell": {
     "cellMetadata": {
      "byteLimit": 2048000,
      "rowLimit": 10000
     },
     "inputWidgets": {},
     "nuid": "0d4bd5af-5169-4779-8e0b-226c1900001d",
     "showTitle": false,
     "title": ""
    }
   },
   "outputs": [],
   "source": [
    "df_J[\"País\"] = df_J[\"País\"].replace(\"Japan region\", \"Japan\")\n"
   ]
  },
  {
   "cell_type": "code",
   "execution_count": 0,
   "metadata": {
    "application/vnd.databricks.v1+cell": {
     "cellMetadata": {
      "byteLimit": 2048000,
      "rowLimit": 10000
     },
     "inputWidgets": {},
     "nuid": "19a3569a-04b2-4bc0-bf60-38cc1c8737ca",
     "showTitle": false,
     "title": ""
    }
   },
   "outputs": [],
   "source": [
    "df_J[\"Localidad\"] = df_J[\"Place\"].str.split(\",\").str[0].str.split(\"of\").str[-1].str.strip()\n"
   ]
  },
  {
   "cell_type": "code",
   "execution_count": 0,
   "metadata": {
    "application/vnd.databricks.v1+cell": {
     "cellMetadata": {
      "byteLimit": 2048000,
      "rowLimit": 10000
     },
     "inputWidgets": {},
     "nuid": "1c5b9542-2a7e-4508-8b9e-6860a2311de2",
     "showTitle": false,
     "title": ""
    }
   },
   "outputs": [],
   "source": [
    "columnas_eliminar = [\"Nst\", \"Gap\", \"Time\", \"Place\"]\n",
    "df_J = df_J.drop(columns=columnas_eliminar, axis = 1)"
   ]
  },
  {
   "cell_type": "code",
   "execution_count": 0,
   "metadata": {
    "application/vnd.databricks.v1+cell": {
     "cellMetadata": {
      "byteLimit": 2048000,
      "rowLimit": 10000
     },
     "inputWidgets": {},
     "nuid": "b2dd422f-1ac7-492e-952c-6a8fb75baa23",
     "showTitle": false,
     "title": ""
    }
   },
   "outputs": [],
   "source": [
    "df_J = df_J.rename(columns={\"Localidad\" : \"Locacion\"})\n",
    "df_J[\"Latitude\"] = pd.to_numeric(df_J[\"Latitude\"])\n",
    "df_J[\"Longitude\"] = pd.to_numeric(df_J[\"Longitude\"])\n",
    "df_J[\"Mag\"] = pd.to_numeric(df_J[\"Mag\"])\n",
    "df_J[\"Depth\"] = pd.to_numeric(df_J[\"Depth\"])\n",
    "df_J[\"Fecha\"] = pd.to_datetime(df_J[\"Fecha\"])"
   ]
  },
  {
   "cell_type": "code",
   "execution_count": 0,
   "metadata": {
    "application/vnd.databricks.v1+cell": {
     "cellMetadata": {
      "byteLimit": 2048000,
      "rowLimit": 10000
     },
     "inputWidgets": {},
     "nuid": "bf66d166-843f-4575-99bf-0fa43c16e6c0",
     "showTitle": false,
     "title": ""
    }
   },
   "outputs": [],
   "source": [
    "df_J.rename(columns={'Latitude':'Latitud','Longitude':'Longitud','Mag':'Magnitud','Depth':'Profundidad'}, inplace= True)\n"
   ]
  },
  {
   "cell_type": "code",
   "execution_count": 0,
   "metadata": {
    "application/vnd.databricks.v1+cell": {
     "cellMetadata": {
      "byteLimit": 2048000,
      "rowLimit": 10000
     },
     "inputWidgets": {},
     "nuid": "e9dcaa4a-6e83-4183-90d7-4b848c68b9a1",
     "showTitle": false,
     "title": ""
    }
   },
   "outputs": [
    {
     "output_type": "display_data",
     "data": {
      "text/html": [
       "<div>\n",
       "<style scoped>\n",
       "    .dataframe tbody tr th:only-of-type {\n",
       "        vertical-align: middle;\n",
       "    }\n",
       "\n",
       "    .dataframe tbody tr th {\n",
       "        vertical-align: top;\n",
       "    }\n",
       "\n",
       "    .dataframe thead th {\n",
       "        text-align: right;\n",
       "    }\n",
       "</style>\n",
       "<table border=\"1\" class=\"dataframe\">\n",
       "  <thead>\n",
       "    <tr style=\"text-align: right;\">\n",
       "      <th></th>\n",
       "      <th>Latitud</th>\n",
       "      <th>Longitud</th>\n",
       "      <th>Profundidad</th>\n",
       "      <th>Magnitud</th>\n",
       "      <th>Fecha</th>\n",
       "      <th>Hora</th>\n",
       "      <th>País</th>\n",
       "      <th>Locacion</th>\n",
       "    </tr>\n",
       "  </thead>\n",
       "  <tbody>\n",
       "    <tr>\n",
       "      <th>0</th>\n",
       "      <td>33.5871</td>\n",
       "      <td>141.1257</td>\n",
       "      <td>35.0</td>\n",
       "      <td>4.4</td>\n",
       "      <td>2023-06-15</td>\n",
       "      <td>01:13:05</td>\n",
       "      <td>Japan</td>\n",
       "      <td>Katsuura</td>\n",
       "    </tr>\n",
       "    <tr>\n",
       "      <th>1</th>\n",
       "      <td>42.5268</td>\n",
       "      <td>141.9005</td>\n",
       "      <td>121.0</td>\n",
       "      <td>6.2</td>\n",
       "      <td>2023-11-06</td>\n",
       "      <td>09:54:44</td>\n",
       "      <td>Japan</td>\n",
       "      <td>Biratori</td>\n",
       "    </tr>\n",
       "    <tr>\n",
       "      <th>2</th>\n",
       "      <td>38.9607</td>\n",
       "      <td>144.8172</td>\n",
       "      <td>10.0</td>\n",
       "      <td>4.5</td>\n",
       "      <td>2023-06-17</td>\n",
       "      <td>14:10:16</td>\n",
       "      <td>Japan</td>\n",
       "      <td>Yamada</td>\n",
       "    </tr>\n",
       "    <tr>\n",
       "      <th>3</th>\n",
       "      <td>29.9147</td>\n",
       "      <td>139.9913</td>\n",
       "      <td>10.0</td>\n",
       "      <td>5.0</td>\n",
       "      <td>2023-06-25</td>\n",
       "      <td>01:12:51</td>\n",
       "      <td>Japan</td>\n",
       "      <td>Izu Islands</td>\n",
       "    </tr>\n",
       "    <tr>\n",
       "      <th>4</th>\n",
       "      <td>34.4987</td>\n",
       "      <td>143.0695</td>\n",
       "      <td>10.0</td>\n",
       "      <td>4.4</td>\n",
       "      <td>2023-06-18</td>\n",
       "      <td>09:46:54</td>\n",
       "      <td>Japan</td>\n",
       "      <td>Hasaki</td>\n",
       "    </tr>\n",
       "    <tr>\n",
       "      <th>...</th>\n",
       "      <td>...</td>\n",
       "      <td>...</td>\n",
       "      <td>...</td>\n",
       "      <td>...</td>\n",
       "      <td>...</td>\n",
       "      <td>...</td>\n",
       "      <td>...</td>\n",
       "      <td>...</td>\n",
       "    </tr>\n",
       "    <tr>\n",
       "      <th>15979</th>\n",
       "      <td>38.8880</td>\n",
       "      <td>142.1520</td>\n",
       "      <td>48.3</td>\n",
       "      <td>4.2</td>\n",
       "      <td>2008-10-04</td>\n",
       "      <td>20:32:54</td>\n",
       "      <td>Japan</td>\n",
       "      <td>?funato</td>\n",
       "    </tr>\n",
       "    <tr>\n",
       "      <th>15980</th>\n",
       "      <td>43.5950</td>\n",
       "      <td>133.7750</td>\n",
       "      <td>431.3</td>\n",
       "      <td>4.6</td>\n",
       "      <td>2008-03-16</td>\n",
       "      <td>19:20:40</td>\n",
       "      <td>Russia</td>\n",
       "      <td>Lazo</td>\n",
       "    </tr>\n",
       "    <tr>\n",
       "      <th>15981</th>\n",
       "      <td>44.3420</td>\n",
       "      <td>141.2660</td>\n",
       "      <td>247.0</td>\n",
       "      <td>3.7</td>\n",
       "      <td>2008-02-21</td>\n",
       "      <td>13:05:10</td>\n",
       "      <td>Japan</td>\n",
       "      <td>Rumoi</td>\n",
       "    </tr>\n",
       "    <tr>\n",
       "      <th>15982</th>\n",
       "      <td>37.1030</td>\n",
       "      <td>135.0250</td>\n",
       "      <td>377.4</td>\n",
       "      <td>3.2</td>\n",
       "      <td>2008-05-02</td>\n",
       "      <td>02:07:07</td>\n",
       "      <td>Japan</td>\n",
       "      <td>Mikuni</td>\n",
       "    </tr>\n",
       "    <tr>\n",
       "      <th>15983</th>\n",
       "      <td>39.9300</td>\n",
       "      <td>142.5480</td>\n",
       "      <td>35.0</td>\n",
       "      <td>4.1</td>\n",
       "      <td>2008-03-01</td>\n",
       "      <td>19:29:37</td>\n",
       "      <td>Japan</td>\n",
       "      <td>Miyako</td>\n",
       "    </tr>\n",
       "  </tbody>\n",
       "</table>\n",
       "<p>15984 rows × 8 columns</p>\n",
       "</div>"
      ]
     },
     "metadata": {
      "application/vnd.databricks.v1+output": {
       "addedWidgets": {},
       "arguments": {},
       "data": "<div>\n<style scoped>\n    .dataframe tbody tr th:only-of-type {\n        vertical-align: middle;\n    }\n\n    .dataframe tbody tr th {\n        vertical-align: top;\n    }\n\n    .dataframe thead th {\n        text-align: right;\n    }\n</style>\n<table border=\"1\" class=\"dataframe\">\n  <thead>\n    <tr style=\"text-align: right;\">\n      <th></th>\n      <th>Latitud</th>\n      <th>Longitud</th>\n      <th>Profundidad</th>\n      <th>Magnitud</th>\n      <th>Fecha</th>\n      <th>Hora</th>\n      <th>País</th>\n      <th>Locacion</th>\n    </tr>\n  </thead>\n  <tbody>\n    <tr>\n      <th>0</th>\n      <td>33.5871</td>\n      <td>141.1257</td>\n      <td>35.0</td>\n      <td>4.4</td>\n      <td>2023-06-15</td>\n      <td>01:13:05</td>\n      <td>Japan</td>\n      <td>Katsuura</td>\n    </tr>\n    <tr>\n      <th>1</th>\n      <td>42.5268</td>\n      <td>141.9005</td>\n      <td>121.0</td>\n      <td>6.2</td>\n      <td>2023-11-06</td>\n      <td>09:54:44</td>\n      <td>Japan</td>\n      <td>Biratori</td>\n    </tr>\n    <tr>\n      <th>2</th>\n      <td>38.9607</td>\n      <td>144.8172</td>\n      <td>10.0</td>\n      <td>4.5</td>\n      <td>2023-06-17</td>\n      <td>14:10:16</td>\n      <td>Japan</td>\n      <td>Yamada</td>\n    </tr>\n    <tr>\n      <th>3</th>\n      <td>29.9147</td>\n      <td>139.9913</td>\n      <td>10.0</td>\n      <td>5.0</td>\n      <td>2023-06-25</td>\n      <td>01:12:51</td>\n      <td>Japan</td>\n      <td>Izu Islands</td>\n    </tr>\n    <tr>\n      <th>4</th>\n      <td>34.4987</td>\n      <td>143.0695</td>\n      <td>10.0</td>\n      <td>4.4</td>\n      <td>2023-06-18</td>\n      <td>09:46:54</td>\n      <td>Japan</td>\n      <td>Hasaki</td>\n    </tr>\n    <tr>\n      <th>...</th>\n      <td>...</td>\n      <td>...</td>\n      <td>...</td>\n      <td>...</td>\n      <td>...</td>\n      <td>...</td>\n      <td>...</td>\n      <td>...</td>\n    </tr>\n    <tr>\n      <th>15979</th>\n      <td>38.8880</td>\n      <td>142.1520</td>\n      <td>48.3</td>\n      <td>4.2</td>\n      <td>2008-10-04</td>\n      <td>20:32:54</td>\n      <td>Japan</td>\n      <td>?funato</td>\n    </tr>\n    <tr>\n      <th>15980</th>\n      <td>43.5950</td>\n      <td>133.7750</td>\n      <td>431.3</td>\n      <td>4.6</td>\n      <td>2008-03-16</td>\n      <td>19:20:40</td>\n      <td>Russia</td>\n      <td>Lazo</td>\n    </tr>\n    <tr>\n      <th>15981</th>\n      <td>44.3420</td>\n      <td>141.2660</td>\n      <td>247.0</td>\n      <td>3.7</td>\n      <td>2008-02-21</td>\n      <td>13:05:10</td>\n      <td>Japan</td>\n      <td>Rumoi</td>\n    </tr>\n    <tr>\n      <th>15982</th>\n      <td>37.1030</td>\n      <td>135.0250</td>\n      <td>377.4</td>\n      <td>3.2</td>\n      <td>2008-05-02</td>\n      <td>02:07:07</td>\n      <td>Japan</td>\n      <td>Mikuni</td>\n    </tr>\n    <tr>\n      <th>15983</th>\n      <td>39.9300</td>\n      <td>142.5480</td>\n      <td>35.0</td>\n      <td>4.1</td>\n      <td>2008-03-01</td>\n      <td>19:29:37</td>\n      <td>Japan</td>\n      <td>Miyako</td>\n    </tr>\n  </tbody>\n</table>\n<p>15984 rows × 8 columns</p>\n</div>",
       "datasetInfos": [],
       "metadata": {},
       "removedWidgets": [],
       "textData": null,
       "type": "htmlSandbox"
      }
     },
     "output_type": "display_data"
    }
   ],
   "source": [
    "df_J"
   ]
  },
  {
   "cell_type": "code",
   "execution_count": 0,
   "metadata": {
    "application/vnd.databricks.v1+cell": {
     "cellMetadata": {
      "byteLimit": 2048000,
      "rowLimit": 10000
     },
     "inputWidgets": {},
     "nuid": "898360a6-14ac-4780-a1eb-3f5d95e8004d",
     "showTitle": false,
     "title": ""
    }
   },
   "outputs": [],
   "source": [
    "df_J.loc[:,\"Clasificación Profundidad\"] = 0\n",
    "\n",
    "for indice in range(len(df_J)):\n",
    "\n",
    "    valor_prof =float(df_J[\"Profundidad\"][indice])\n",
    "\n",
    "    if valor_prof <= 70:\n",
    "        df_J.loc[indice,\"Clasificación Profundidad\"] = \"Superficial\"\n",
    "\n",
    "    elif valor_prof > 70 and valor_prof <= 299:\n",
    "        df_J.loc[indice,\"Clasificación Profundidad\"] = \"Media\"\n",
    "        \n",
    "    elif valor_prof >= 300:\n",
    "        df_J.loc[indice,\"Clasificación Profundidad\"] = \"Profundo\""
   ]
  },
  {
   "cell_type": "code",
   "execution_count": 0,
   "metadata": {
    "application/vnd.databricks.v1+cell": {
     "cellMetadata": {
      "byteLimit": 2048000,
      "rowLimit": 10000
     },
     "inputWidgets": {},
     "nuid": "2ce8db2b-2861-4e3b-a288-199b39c51574",
     "showTitle": false,
     "title": ""
    }
   },
   "outputs": [],
   "source": [
    "rangos = [(2, 2.9), (3, 3.9), (4, 4.9), (5, 5.9), (6, 6.9), (7, 7.9), (8, 9.9), (10, 15)]\n",
    "etiquetas = ['Micro Magnitud', 'Menor Magnitud', 'Ligera Magnitud', 'Moderada Magnitud',\n",
    "              'Fuerte Magnitud', 'Mayor Magnitud', 'Gran Magnitud', 'Magnitud Épica']\n",
    "\n",
    "df_J['Clasificación Magnitud'] = pd.cut(df_J['Magnitud'], bins=[lim[0] for lim in rangos] + [rangos[-1][1]],\n",
    "                               labels=etiquetas, right=False)"
   ]
  },
  {
   "cell_type": "code",
   "execution_count": 0,
   "metadata": {
    "application/vnd.databricks.v1+cell": {
     "cellMetadata": {
      "byteLimit": 2048000,
      "rowLimit": 10000
     },
     "inputWidgets": {},
     "nuid": "075f53a6-6667-427c-96d7-0e97a5cf8a84",
     "showTitle": false,
     "title": ""
    }
   },
   "outputs": [],
   "source": [
    "df_J = df_J[[\"Fecha\" , \"Hora\", \"Latitud\", \"Longitud\", \"País\", \"Locacion\", \"Profundidad\", \"Clasificación Profundidad\", \"Magnitud\", \"Clasificación Magnitud\"]]\n",
    "df_J = df_J.sort_values('Fecha')\n",
    "df_J = df_J.reset_index(drop=True)"
   ]
  },
  {
   "cell_type": "code",
   "execution_count": 0,
   "metadata": {
    "application/vnd.databricks.v1+cell": {
     "cellMetadata": {
      "byteLimit": 2048000,
      "rowLimit": 10000
     },
     "inputWidgets": {},
     "nuid": "cce6b4dc-59a6-447e-8819-c896c5affd98",
     "showTitle": false,
     "title": ""
    }
   },
   "outputs": [],
   "source": [
    "df_J['Fecha'] = pd.to_datetime(df_J['Fecha'])"
   ]
  },
  {
   "cell_type": "code",
   "execution_count": 0,
   "metadata": {
    "application/vnd.databricks.v1+cell": {
     "cellMetadata": {
      "byteLimit": 2048000,
      "rowLimit": 10000
     },
     "inputWidgets": {},
     "nuid": "0f73e94c-e3b1-49c4-b5b4-f9c69fff3953",
     "showTitle": false,
     "title": ""
    }
   },
   "outputs": [],
   "source": [
    "Base_Final_Japon = df_J"
   ]
  },
  {
   "cell_type": "code",
   "execution_count": 0,
   "metadata": {
    "application/vnd.databricks.v1+cell": {
     "cellMetadata": {
      "byteLimit": 2048000,
      "rowLimit": 10000
     },
     "inputWidgets": {},
     "nuid": "0bcfbf2e-5279-4d4b-981c-c119e1aa0c87",
     "showTitle": false,
     "title": ""
    }
   },
   "outputs": [
    {
     "output_type": "display_data",
     "data": {
      "text/html": [
       "<div>\n",
       "<style scoped>\n",
       "    .dataframe tbody tr th:only-of-type {\n",
       "        vertical-align: middle;\n",
       "    }\n",
       "\n",
       "    .dataframe tbody tr th {\n",
       "        vertical-align: top;\n",
       "    }\n",
       "\n",
       "    .dataframe thead th {\n",
       "        text-align: right;\n",
       "    }\n",
       "</style>\n",
       "<table border=\"1\" class=\"dataframe\">\n",
       "  <thead>\n",
       "    <tr style=\"text-align: right;\">\n",
       "      <th></th>\n",
       "      <th>Fecha</th>\n",
       "      <th>Hora</th>\n",
       "      <th>Latitud</th>\n",
       "      <th>Longitud</th>\n",
       "      <th>País</th>\n",
       "      <th>Locacion</th>\n",
       "      <th>Profundidad</th>\n",
       "      <th>Clasificación Profundidad</th>\n",
       "      <th>Magnitud</th>\n",
       "      <th>Clasificación Magnitud</th>\n",
       "    </tr>\n",
       "  </thead>\n",
       "  <tbody>\n",
       "    <tr>\n",
       "      <th>0</th>\n",
       "      <td>2008-01-01</td>\n",
       "      <td>05:32:40</td>\n",
       "      <td>44.0490</td>\n",
       "      <td>142.6850</td>\n",
       "      <td>Japan</td>\n",
       "      <td>Kamikawa</td>\n",
       "      <td>233.600</td>\n",
       "      <td>Media</td>\n",
       "      <td>3.7</td>\n",
       "      <td>Menor Magnitud</td>\n",
       "    </tr>\n",
       "    <tr>\n",
       "      <th>1</th>\n",
       "      <td>2008-01-01</td>\n",
       "      <td>16:20:06</td>\n",
       "      <td>42.4080</td>\n",
       "      <td>143.0570</td>\n",
       "      <td>Japan</td>\n",
       "      <td>Shizunai-furukawach?</td>\n",
       "      <td>55.900</td>\n",
       "      <td>Superficial</td>\n",
       "      <td>4.2</td>\n",
       "      <td>Ligera Magnitud</td>\n",
       "    </tr>\n",
       "    <tr>\n",
       "      <th>2</th>\n",
       "      <td>2008-01-01</td>\n",
       "      <td>11:12:08</td>\n",
       "      <td>39.0190</td>\n",
       "      <td>142.3410</td>\n",
       "      <td>Japan</td>\n",
       "      <td>Honshu</td>\n",
       "      <td>40.000</td>\n",
       "      <td>Superficial</td>\n",
       "      <td>4.2</td>\n",
       "      <td>Ligera Magnitud</td>\n",
       "    </tr>\n",
       "    <tr>\n",
       "      <th>3</th>\n",
       "      <td>2008-01-02</td>\n",
       "      <td>14:40:22</td>\n",
       "      <td>34.2070</td>\n",
       "      <td>135.0810</td>\n",
       "      <td>Japan</td>\n",
       "      <td>Minato</td>\n",
       "      <td>10.100</td>\n",
       "      <td>Superficial</td>\n",
       "      <td>3.4</td>\n",
       "      <td>Menor Magnitud</td>\n",
       "    </tr>\n",
       "    <tr>\n",
       "      <th>4</th>\n",
       "      <td>2008-01-02</td>\n",
       "      <td>10:13:49</td>\n",
       "      <td>33.3030</td>\n",
       "      <td>140.9170</td>\n",
       "      <td>Japan</td>\n",
       "      <td>Tateyama</td>\n",
       "      <td>47.000</td>\n",
       "      <td>Superficial</td>\n",
       "      <td>3.2</td>\n",
       "      <td>Menor Magnitud</td>\n",
       "    </tr>\n",
       "    <tr>\n",
       "      <th>...</th>\n",
       "      <td>...</td>\n",
       "      <td>...</td>\n",
       "      <td>...</td>\n",
       "      <td>...</td>\n",
       "      <td>...</td>\n",
       "      <td>...</td>\n",
       "      <td>...</td>\n",
       "      <td>...</td>\n",
       "      <td>...</td>\n",
       "      <td>...</td>\n",
       "    </tr>\n",
       "    <tr>\n",
       "      <th>15979</th>\n",
       "      <td>2023-12-03</td>\n",
       "      <td>20:25:34</td>\n",
       "      <td>39.5736</td>\n",
       "      <td>142.3764</td>\n",
       "      <td>Japan</td>\n",
       "      <td>Honshu</td>\n",
       "      <td>88.630</td>\n",
       "      <td>Media</td>\n",
       "      <td>4.2</td>\n",
       "      <td>Ligera Magnitud</td>\n",
       "    </tr>\n",
       "    <tr>\n",
       "      <th>15980</th>\n",
       "      <td>2023-12-04</td>\n",
       "      <td>08:45:55</td>\n",
       "      <td>37.0881</td>\n",
       "      <td>141.2152</td>\n",
       "      <td>Desconocido</td>\n",
       "      <td>None</td>\n",
       "      <td>60.211</td>\n",
       "      <td>Superficial</td>\n",
       "      <td>4.3</td>\n",
       "      <td>Ligera Magnitud</td>\n",
       "    </tr>\n",
       "    <tr>\n",
       "      <th>15981</th>\n",
       "      <td>2023-12-04</td>\n",
       "      <td>23:12:49</td>\n",
       "      <td>43.5428</td>\n",
       "      <td>145.7574</td>\n",
       "      <td>Japan</td>\n",
       "      <td>Nemuro</td>\n",
       "      <td>101.411</td>\n",
       "      <td>Media</td>\n",
       "      <td>4.3</td>\n",
       "      <td>Ligera Magnitud</td>\n",
       "    </tr>\n",
       "    <tr>\n",
       "      <th>15982</th>\n",
       "      <td>2023-12-05</td>\n",
       "      <td>12:45:05</td>\n",
       "      <td>33.4635</td>\n",
       "      <td>132.3792</td>\n",
       "      <td>Desconocido</td>\n",
       "      <td>None</td>\n",
       "      <td>55.487</td>\n",
       "      <td>Superficial</td>\n",
       "      <td>4.3</td>\n",
       "      <td>Ligera Magnitud</td>\n",
       "    </tr>\n",
       "    <tr>\n",
       "      <th>15983</th>\n",
       "      <td>2023-12-05</td>\n",
       "      <td>06:05:44</td>\n",
       "      <td>35.5849</td>\n",
       "      <td>139.2556</td>\n",
       "      <td>Japan</td>\n",
       "      <td>Hachioji</td>\n",
       "      <td>136.750</td>\n",
       "      <td>Media</td>\n",
       "      <td>4.1</td>\n",
       "      <td>Ligera Magnitud</td>\n",
       "    </tr>\n",
       "  </tbody>\n",
       "</table>\n",
       "<p>15984 rows × 10 columns</p>\n",
       "</div>"
      ]
     },
     "metadata": {
      "application/vnd.databricks.v1+output": {
       "addedWidgets": {},
       "arguments": {},
       "data": "<div>\n<style scoped>\n    .dataframe tbody tr th:only-of-type {\n        vertical-align: middle;\n    }\n\n    .dataframe tbody tr th {\n        vertical-align: top;\n    }\n\n    .dataframe thead th {\n        text-align: right;\n    }\n</style>\n<table border=\"1\" class=\"dataframe\">\n  <thead>\n    <tr style=\"text-align: right;\">\n      <th></th>\n      <th>Fecha</th>\n      <th>Hora</th>\n      <th>Latitud</th>\n      <th>Longitud</th>\n      <th>País</th>\n      <th>Locacion</th>\n      <th>Profundidad</th>\n      <th>Clasificación Profundidad</th>\n      <th>Magnitud</th>\n      <th>Clasificación Magnitud</th>\n    </tr>\n  </thead>\n  <tbody>\n    <tr>\n      <th>0</th>\n      <td>2008-01-01</td>\n      <td>05:32:40</td>\n      <td>44.0490</td>\n      <td>142.6850</td>\n      <td>Japan</td>\n      <td>Kamikawa</td>\n      <td>233.600</td>\n      <td>Media</td>\n      <td>3.7</td>\n      <td>Menor Magnitud</td>\n    </tr>\n    <tr>\n      <th>1</th>\n      <td>2008-01-01</td>\n      <td>16:20:06</td>\n      <td>42.4080</td>\n      <td>143.0570</td>\n      <td>Japan</td>\n      <td>Shizunai-furukawach?</td>\n      <td>55.900</td>\n      <td>Superficial</td>\n      <td>4.2</td>\n      <td>Ligera Magnitud</td>\n    </tr>\n    <tr>\n      <th>2</th>\n      <td>2008-01-01</td>\n      <td>11:12:08</td>\n      <td>39.0190</td>\n      <td>142.3410</td>\n      <td>Japan</td>\n      <td>Honshu</td>\n      <td>40.000</td>\n      <td>Superficial</td>\n      <td>4.2</td>\n      <td>Ligera Magnitud</td>\n    </tr>\n    <tr>\n      <th>3</th>\n      <td>2008-01-02</td>\n      <td>14:40:22</td>\n      <td>34.2070</td>\n      <td>135.0810</td>\n      <td>Japan</td>\n      <td>Minato</td>\n      <td>10.100</td>\n      <td>Superficial</td>\n      <td>3.4</td>\n      <td>Menor Magnitud</td>\n    </tr>\n    <tr>\n      <th>4</th>\n      <td>2008-01-02</td>\n      <td>10:13:49</td>\n      <td>33.3030</td>\n      <td>140.9170</td>\n      <td>Japan</td>\n      <td>Tateyama</td>\n      <td>47.000</td>\n      <td>Superficial</td>\n      <td>3.2</td>\n      <td>Menor Magnitud</td>\n    </tr>\n    <tr>\n      <th>...</th>\n      <td>...</td>\n      <td>...</td>\n      <td>...</td>\n      <td>...</td>\n      <td>...</td>\n      <td>...</td>\n      <td>...</td>\n      <td>...</td>\n      <td>...</td>\n      <td>...</td>\n    </tr>\n    <tr>\n      <th>15979</th>\n      <td>2023-12-03</td>\n      <td>20:25:34</td>\n      <td>39.5736</td>\n      <td>142.3764</td>\n      <td>Japan</td>\n      <td>Honshu</td>\n      <td>88.630</td>\n      <td>Media</td>\n      <td>4.2</td>\n      <td>Ligera Magnitud</td>\n    </tr>\n    <tr>\n      <th>15980</th>\n      <td>2023-12-04</td>\n      <td>08:45:55</td>\n      <td>37.0881</td>\n      <td>141.2152</td>\n      <td>Desconocido</td>\n      <td>None</td>\n      <td>60.211</td>\n      <td>Superficial</td>\n      <td>4.3</td>\n      <td>Ligera Magnitud</td>\n    </tr>\n    <tr>\n      <th>15981</th>\n      <td>2023-12-04</td>\n      <td>23:12:49</td>\n      <td>43.5428</td>\n      <td>145.7574</td>\n      <td>Japan</td>\n      <td>Nemuro</td>\n      <td>101.411</td>\n      <td>Media</td>\n      <td>4.3</td>\n      <td>Ligera Magnitud</td>\n    </tr>\n    <tr>\n      <th>15982</th>\n      <td>2023-12-05</td>\n      <td>12:45:05</td>\n      <td>33.4635</td>\n      <td>132.3792</td>\n      <td>Desconocido</td>\n      <td>None</td>\n      <td>55.487</td>\n      <td>Superficial</td>\n      <td>4.3</td>\n      <td>Ligera Magnitud</td>\n    </tr>\n    <tr>\n      <th>15983</th>\n      <td>2023-12-05</td>\n      <td>06:05:44</td>\n      <td>35.5849</td>\n      <td>139.2556</td>\n      <td>Japan</td>\n      <td>Hachioji</td>\n      <td>136.750</td>\n      <td>Media</td>\n      <td>4.1</td>\n      <td>Ligera Magnitud</td>\n    </tr>\n  </tbody>\n</table>\n<p>15984 rows × 10 columns</p>\n</div>",
       "datasetInfos": [],
       "metadata": {},
       "removedWidgets": [],
       "textData": null,
       "type": "htmlSandbox"
      }
     },
     "output_type": "display_data"
    }
   ],
   "source": [
    "Base_Final_Japon"
   ]
  },
  {
   "cell_type": "markdown",
   "metadata": {
    "application/vnd.databricks.v1+cell": {
     "cellMetadata": {
      "byteLimit": 2048000,
      "rowLimit": 10000
     },
     "inputWidgets": {},
     "nuid": "118bbb68-7612-43a5-99f7-206d6158e6d1",
     "showTitle": false,
     "title": ""
    }
   },
   "source": [
    "##Concatenar las Bases"
   ]
  },
  {
   "cell_type": "code",
   "execution_count": 0,
   "metadata": {
    "application/vnd.databricks.v1+cell": {
     "cellMetadata": {
      "byteLimit": 2048000,
      "rowLimit": 10000
     },
     "inputWidgets": {},
     "nuid": "1f6a0b13-f6b3-45ad-bfab-2f63cc80723e",
     "showTitle": false,
     "title": ""
    }
   },
   "outputs": [],
   "source": [
    "Base_Final = pd.concat([Base_Final_Japon,Base_Final_Mexico,Base_Final_EEUU, Base_Final_Peru], axis = 0)"
   ]
  },
  {
   "cell_type": "code",
   "execution_count": 0,
   "metadata": {
    "application/vnd.databricks.v1+cell": {
     "cellMetadata": {
      "byteLimit": 2048000,
      "rowLimit": 10000
     },
     "inputWidgets": {},
     "nuid": "dbfd251b-fd08-4933-aa68-23602b510ae7",
     "showTitle": false,
     "title": ""
    }
   },
   "outputs": [],
   "source": [
    "DB_Prueba = Base_Final"
   ]
  },
  {
   "cell_type": "code",
   "execution_count": 0,
   "metadata": {
    "application/vnd.databricks.v1+cell": {
     "cellMetadata": {
      "byteLimit": 2048000,
      "rowLimit": 10000
     },
     "inputWidgets": {},
     "nuid": "7d57170c-bf9b-4291-8331-2e62db9f3ba7",
     "showTitle": false,
     "title": ""
    }
   },
   "outputs": [
    {
     "output_type": "display_data",
     "data": {
      "text/html": [
       "<div>\n",
       "<style scoped>\n",
       "    .dataframe tbody tr th:only-of-type {\n",
       "        vertical-align: middle;\n",
       "    }\n",
       "\n",
       "    .dataframe tbody tr th {\n",
       "        vertical-align: top;\n",
       "    }\n",
       "\n",
       "    .dataframe thead th {\n",
       "        text-align: right;\n",
       "    }\n",
       "</style>\n",
       "<table border=\"1\" class=\"dataframe\">\n",
       "  <thead>\n",
       "    <tr style=\"text-align: right;\">\n",
       "      <th></th>\n",
       "      <th>Fecha</th>\n",
       "      <th>Hora</th>\n",
       "      <th>Latitud</th>\n",
       "      <th>Longitud</th>\n",
       "      <th>País</th>\n",
       "      <th>Locacion</th>\n",
       "      <th>Profundidad</th>\n",
       "      <th>Clasificación Profundidad</th>\n",
       "      <th>Magnitud</th>\n",
       "      <th>Clasificación Magnitud</th>\n",
       "    </tr>\n",
       "  </thead>\n",
       "  <tbody>\n",
       "    <tr>\n",
       "      <th>0</th>\n",
       "      <td>2008-01-01</td>\n",
       "      <td>05:32:40</td>\n",
       "      <td>44.049</td>\n",
       "      <td>142.685</td>\n",
       "      <td>Japan</td>\n",
       "      <td>Kamikawa</td>\n",
       "      <td>233.6</td>\n",
       "      <td>Media</td>\n",
       "      <td>3.7</td>\n",
       "      <td>Menor Magnitud</td>\n",
       "    </tr>\n",
       "    <tr>\n",
       "      <th>1</th>\n",
       "      <td>2008-01-01</td>\n",
       "      <td>16:20:06</td>\n",
       "      <td>42.408</td>\n",
       "      <td>143.057</td>\n",
       "      <td>Japan</td>\n",
       "      <td>Shizunai-furukawach?</td>\n",
       "      <td>55.9</td>\n",
       "      <td>Superficial</td>\n",
       "      <td>4.2</td>\n",
       "      <td>Ligera Magnitud</td>\n",
       "    </tr>\n",
       "    <tr>\n",
       "      <th>2</th>\n",
       "      <td>2008-01-01</td>\n",
       "      <td>11:12:08</td>\n",
       "      <td>39.019</td>\n",
       "      <td>142.341</td>\n",
       "      <td>Japan</td>\n",
       "      <td>Honshu</td>\n",
       "      <td>40.0</td>\n",
       "      <td>Superficial</td>\n",
       "      <td>4.2</td>\n",
       "      <td>Ligera Magnitud</td>\n",
       "    </tr>\n",
       "    <tr>\n",
       "      <th>3</th>\n",
       "      <td>2008-01-02</td>\n",
       "      <td>14:40:22</td>\n",
       "      <td>34.207</td>\n",
       "      <td>135.081</td>\n",
       "      <td>Japan</td>\n",
       "      <td>Minato</td>\n",
       "      <td>10.1</td>\n",
       "      <td>Superficial</td>\n",
       "      <td>3.4</td>\n",
       "      <td>Menor Magnitud</td>\n",
       "    </tr>\n",
       "    <tr>\n",
       "      <th>4</th>\n",
       "      <td>2008-01-02</td>\n",
       "      <td>10:13:49</td>\n",
       "      <td>33.303</td>\n",
       "      <td>140.917</td>\n",
       "      <td>Japan</td>\n",
       "      <td>Tateyama</td>\n",
       "      <td>47.0</td>\n",
       "      <td>Superficial</td>\n",
       "      <td>3.2</td>\n",
       "      <td>Menor Magnitud</td>\n",
       "    </tr>\n",
       "    <tr>\n",
       "      <th>...</th>\n",
       "      <td>...</td>\n",
       "      <td>...</td>\n",
       "      <td>...</td>\n",
       "      <td>...</td>\n",
       "      <td>...</td>\n",
       "      <td>...</td>\n",
       "      <td>...</td>\n",
       "      <td>...</td>\n",
       "      <td>...</td>\n",
       "      <td>...</td>\n",
       "    </tr>\n",
       "    <tr>\n",
       "      <th>10884</th>\n",
       "      <td>2023-03-27</td>\n",
       "      <td>20:13:13</td>\n",
       "      <td>-10.53</td>\n",
       "      <td>-74.7</td>\n",
       "      <td>Perú</td>\n",
       "      <td>Junin</td>\n",
       "      <td>134.0</td>\n",
       "      <td>Media</td>\n",
       "      <td>4.6</td>\n",
       "      <td>Ligera Magnitud</td>\n",
       "    </tr>\n",
       "    <tr>\n",
       "      <th>10885</th>\n",
       "      <td>2022-10-28</td>\n",
       "      <td>23:19:58</td>\n",
       "      <td>-3.76</td>\n",
       "      <td>-76.53</td>\n",
       "      <td>Perú</td>\n",
       "      <td>Loreto</td>\n",
       "      <td>110.0</td>\n",
       "      <td>Media</td>\n",
       "      <td>4.8</td>\n",
       "      <td>Ligera Magnitud</td>\n",
       "    </tr>\n",
       "    <tr>\n",
       "      <th>10886</th>\n",
       "      <td>2023-05-22</td>\n",
       "      <td>00:05:45</td>\n",
       "      <td>-15.81</td>\n",
       "      <td>-73.32</td>\n",
       "      <td>Perú</td>\n",
       "      <td>Arequipa</td>\n",
       "      <td>92.0</td>\n",
       "      <td>Media</td>\n",
       "      <td>4.2</td>\n",
       "      <td>Ligera Magnitud</td>\n",
       "    </tr>\n",
       "    <tr>\n",
       "      <th>10887</th>\n",
       "      <td>2022-10-28</td>\n",
       "      <td>23:35:13</td>\n",
       "      <td>-14.61</td>\n",
       "      <td>-76.41</td>\n",
       "      <td>Perú</td>\n",
       "      <td>Ica</td>\n",
       "      <td>15.0</td>\n",
       "      <td>Superficial</td>\n",
       "      <td>5.2</td>\n",
       "      <td>Moderada Magnitud</td>\n",
       "    </tr>\n",
       "    <tr>\n",
       "      <th>10888</th>\n",
       "      <td>2023-02-04</td>\n",
       "      <td>12:32:40</td>\n",
       "      <td>-1.85</td>\n",
       "      <td>-77.87</td>\n",
       "      <td>Perú</td>\n",
       "      <td>Morona-Santiago</td>\n",
       "      <td>188.0</td>\n",
       "      <td>Media</td>\n",
       "      <td>4.5</td>\n",
       "      <td>Ligera Magnitud</td>\n",
       "    </tr>\n",
       "  </tbody>\n",
       "</table>\n",
       "<p>49889 rows × 10 columns</p>\n",
       "</div>"
      ]
     },
     "metadata": {
      "application/vnd.databricks.v1+output": {
       "addedWidgets": {},
       "arguments": {},
       "data": "<div>\n<style scoped>\n    .dataframe tbody tr th:only-of-type {\n        vertical-align: middle;\n    }\n\n    .dataframe tbody tr th {\n        vertical-align: top;\n    }\n\n    .dataframe thead th {\n        text-align: right;\n    }\n</style>\n<table border=\"1\" class=\"dataframe\">\n  <thead>\n    <tr style=\"text-align: right;\">\n      <th></th>\n      <th>Fecha</th>\n      <th>Hora</th>\n      <th>Latitud</th>\n      <th>Longitud</th>\n      <th>País</th>\n      <th>Locacion</th>\n      <th>Profundidad</th>\n      <th>Clasificación Profundidad</th>\n      <th>Magnitud</th>\n      <th>Clasificación Magnitud</th>\n    </tr>\n  </thead>\n  <tbody>\n    <tr>\n      <th>0</th>\n      <td>2008-01-01</td>\n      <td>05:32:40</td>\n      <td>44.049</td>\n      <td>142.685</td>\n      <td>Japan</td>\n      <td>Kamikawa</td>\n      <td>233.6</td>\n      <td>Media</td>\n      <td>3.7</td>\n      <td>Menor Magnitud</td>\n    </tr>\n    <tr>\n      <th>1</th>\n      <td>2008-01-01</td>\n      <td>16:20:06</td>\n      <td>42.408</td>\n      <td>143.057</td>\n      <td>Japan</td>\n      <td>Shizunai-furukawach?</td>\n      <td>55.9</td>\n      <td>Superficial</td>\n      <td>4.2</td>\n      <td>Ligera Magnitud</td>\n    </tr>\n    <tr>\n      <th>2</th>\n      <td>2008-01-01</td>\n      <td>11:12:08</td>\n      <td>39.019</td>\n      <td>142.341</td>\n      <td>Japan</td>\n      <td>Honshu</td>\n      <td>40.0</td>\n      <td>Superficial</td>\n      <td>4.2</td>\n      <td>Ligera Magnitud</td>\n    </tr>\n    <tr>\n      <th>3</th>\n      <td>2008-01-02</td>\n      <td>14:40:22</td>\n      <td>34.207</td>\n      <td>135.081</td>\n      <td>Japan</td>\n      <td>Minato</td>\n      <td>10.1</td>\n      <td>Superficial</td>\n      <td>3.4</td>\n      <td>Menor Magnitud</td>\n    </tr>\n    <tr>\n      <th>4</th>\n      <td>2008-01-02</td>\n      <td>10:13:49</td>\n      <td>33.303</td>\n      <td>140.917</td>\n      <td>Japan</td>\n      <td>Tateyama</td>\n      <td>47.0</td>\n      <td>Superficial</td>\n      <td>3.2</td>\n      <td>Menor Magnitud</td>\n    </tr>\n    <tr>\n      <th>...</th>\n      <td>...</td>\n      <td>...</td>\n      <td>...</td>\n      <td>...</td>\n      <td>...</td>\n      <td>...</td>\n      <td>...</td>\n      <td>...</td>\n      <td>...</td>\n      <td>...</td>\n    </tr>\n    <tr>\n      <th>10884</th>\n      <td>2023-03-27</td>\n      <td>20:13:13</td>\n      <td>-10.53</td>\n      <td>-74.7</td>\n      <td>Perú</td>\n      <td>Junin</td>\n      <td>134.0</td>\n      <td>Media</td>\n      <td>4.6</td>\n      <td>Ligera Magnitud</td>\n    </tr>\n    <tr>\n      <th>10885</th>\n      <td>2022-10-28</td>\n      <td>23:19:58</td>\n      <td>-3.76</td>\n      <td>-76.53</td>\n      <td>Perú</td>\n      <td>Loreto</td>\n      <td>110.0</td>\n      <td>Media</td>\n      <td>4.8</td>\n      <td>Ligera Magnitud</td>\n    </tr>\n    <tr>\n      <th>10886</th>\n      <td>2023-05-22</td>\n      <td>00:05:45</td>\n      <td>-15.81</td>\n      <td>-73.32</td>\n      <td>Perú</td>\n      <td>Arequipa</td>\n      <td>92.0</td>\n      <td>Media</td>\n      <td>4.2</td>\n      <td>Ligera Magnitud</td>\n    </tr>\n    <tr>\n      <th>10887</th>\n      <td>2022-10-28</td>\n      <td>23:35:13</td>\n      <td>-14.61</td>\n      <td>-76.41</td>\n      <td>Perú</td>\n      <td>Ica</td>\n      <td>15.0</td>\n      <td>Superficial</td>\n      <td>5.2</td>\n      <td>Moderada Magnitud</td>\n    </tr>\n    <tr>\n      <th>10888</th>\n      <td>2023-02-04</td>\n      <td>12:32:40</td>\n      <td>-1.85</td>\n      <td>-77.87</td>\n      <td>Perú</td>\n      <td>Morona-Santiago</td>\n      <td>188.0</td>\n      <td>Media</td>\n      <td>4.5</td>\n      <td>Ligera Magnitud</td>\n    </tr>\n  </tbody>\n</table>\n<p>49889 rows × 10 columns</p>\n</div>",
       "datasetInfos": [],
       "metadata": {},
       "removedWidgets": [],
       "textData": null,
       "type": "htmlSandbox"
      }
     },
     "output_type": "display_data"
    }
   ],
   "source": [
    "DB_Prueba"
   ]
  },
  {
   "cell_type": "markdown",
   "metadata": {
    "application/vnd.databricks.v1+cell": {
     "cellMetadata": {
      "byteLimit": 2048000,
      "rowLimit": 10000
     },
     "inputWidgets": {},
     "nuid": "affd2473-3b34-4c23-890b-a8f421b0f2b7",
     "showTitle": false,
     "title": ""
    }
   },
   "source": [
    "##Descarga Base Final"
   ]
  },
  {
   "cell_type": "code",
   "execution_count": 0,
   "metadata": {
    "application/vnd.databricks.v1+cell": {
     "cellMetadata": {
      "byteLimit": 2048000,
      "rowLimit": 10000
     },
     "inputWidgets": {},
     "nuid": "11cbe305-01ab-4149-8b74-0d93d1f30362",
     "showTitle": false,
     "title": ""
    }
   },
   "outputs": [],
   "source": [
    "import pandas as pd\n",
    "\n",
    "# Supongamos que tienes un DataFrame de Pandas llamado df_pandas\n",
    "df_spark = spark.createDataFrame(DB_Prueba)\n",
    "\n"
   ]
  },
  {
   "cell_type": "code",
   "execution_count": 0,
   "metadata": {
    "application/vnd.databricks.v1+cell": {
     "cellMetadata": {
      "byteLimit": 2048000,
      "rowLimit": 10000
     },
     "inputWidgets": {},
     "nuid": "13c78259-e3af-49e9-aa38-face9c35966f",
     "showTitle": false,
     "title": ""
    }
   },
   "outputs": [],
   "source": [
    "df_spark.createOrReplaceTempView(\"Tabla_Temp\")\n"
   ]
  },
  {
   "cell_type": "code",
   "execution_count": 0,
   "metadata": {
    "application/vnd.databricks.v1+cell": {
     "cellMetadata": {
      "byteLimit": 2048000,
      "rowLimit": 10000
     },
     "inputWidgets": {},
     "nuid": "bd34b4f6-8137-4acb-b054-3fe30f97fc4c",
     "showTitle": false,
     "title": ""
    }
   },
   "outputs": [],
   "source": [
    "from azure.storage.blob import BlobServiceClient\n",
    "import tempfile\n",
    "import os\n",
    "\n",
    "# COMMAND ----------\n",
    "\n",
    "# Configurar las credenciales de conexiÃ³n al Blob Storage\n",
    "connection_string = \"DefaultEndpointsProtocol=https;AccountName=storagemainpf2;AccountKey=HaXeslJT0bFxZSyBjcN75dxyFVjFO7ncXM12BJncZZYSliO3d9yRuvFHCoPR3SlCF7O86v/QAnxF+ASt+vmNmg==;EndpointSuffix=core.windows.net\"\n",
    "container_name = \"contenedorpf2\"\n",
    "\n",
    "# Crear el cliente de Blob Storage\n",
    "blob_service_client = BlobServiceClient.from_connection_string(connection_string)\n",
    "\n",
    "# Obtener una referencia al contenedor\n",
    "container_client = blob_service_client.get_container_client(container_name)\n",
    "\n",
    "# Ruta y nombre del archivo en el Blob Storage\n",
    "ruta_blob_storage = \"/Tabla_Temp.csv\"\n",
    "\n",
    "\n",
    "# COMMAND ----------\n",
    "\n",
    "# Guardar el DataFrame completo como un archivo CSV en el Blob Storage\n",
    "DB_Prueba.to_csv(ruta_blob_storage, index=False)\n",
    "\n",
    "# Cargar el archivo CSV completo al Blob Storage\n",
    "with open(ruta_blob_storage, \"rb\") as file:\n",
    "    container_client.upload_blob(name=ruta_blob_storage, data=file, overwrite=True)"
   ]
  },
  {
   "cell_type": "markdown",
   "metadata": {
    "application/vnd.databricks.v1+cell": {
     "cellMetadata": {},
     "inputWidgets": {},
     "nuid": "e1691730-0707-4427-8b45-87abf540d4cf",
     "showTitle": false,
     "title": ""
    }
   },
   "source": [
    "## Conexión con Synapse"
   ]
  },
  {
   "cell_type": "code",
   "execution_count": 0,
   "metadata": {
    "application/vnd.databricks.v1+cell": {
     "cellMetadata": {},
     "inputWidgets": {},
     "nuid": "e2fc8c16-0230-4670-a773-faaf5a4386b6",
     "showTitle": false,
     "title": ""
    }
   },
   "outputs": [],
   "source": [
    "# Especifica los detalles de conexión a Azure Synapse Analytics\n",
    "jdbc_hostname = \"<nombre_servidor>.sql.azuresynapse.net\"\n",
    "jdbc_database = \"<nombre_base_datos>\"\n",
    "jdbc_username = \"<nombre_usuario>\"\n",
    "jdbc_password = \"<contraseña>\"\n",
    "jdbc_url = f\"jdbc:sqlserver://{jdbc_hostname}:1433;database={jdbc_database};user={jdbc_username};password={jdbc_password}\"\n",
    "\n",
    "# Ejecuta una consulta SQL para seleccionar los datos de la tabla temporal\n",
    "df_temp = spark.sql(\"SELECT * FROM nombre_tabla_temp\")\n",
    "\n",
    "# Escribe los resultados en Azure Synapse Analytics\n",
    "df_temp.write \\\n",
    "    .format(\"jdbc\") \\\n",
    "    .option(\"url\", jdbc_url) \\\n",
    "    .option(\"dbtable\", \"<nombre_tabla_destino>\") \\\n",
    "    .option(\"user\", jdbc_username) \\\n",
    "    .option(\"password\", jdbc_password) \\\n",
    "    .option(\"driver\", \"com.microsoft.sqlserver.jdbc.SQLServerDriver\") \\\n",
    "    .mode(\"append\") \\\n",
    "    .save()"
   ]
  }
 ],
 "metadata": {
  "application/vnd.databricks.v1+notebook": {
   "dashboards": [],
   "language": "python",
   "notebookMetadata": {
    "mostRecentlyExecutedCommandWithImplicitDF": {
     "commandId": 3538735413717129,
     "dataframes": [
      "_sqldf"
     ]
    },
    "pythonIndentUnit": 4
   },
   "notebookName": "ETL",
   "widgets": {}
  }
 },
 "nbformat": 4,
 "nbformat_minor": 0
}
